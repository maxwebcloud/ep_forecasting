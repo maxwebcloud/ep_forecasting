{
 "cells": [
  {
   "cell_type": "markdown",
   "metadata": {},
   "source": [
    "\n",
    "# 3. Feature Engineering"
   ]
  },
  {
   "cell_type": "markdown",
   "metadata": {},
   "source": [
    "## 3.1 Feature Generation\n"
   ]
  },
  {
   "cell_type": "code",
   "execution_count": 2,
   "metadata": {},
   "outputs": [],
   "source": [
    "#Packages \n",
    "import pandas as pd\n",
    "import seaborn as sns\n",
    "import numpy as np\n",
    "import matplotlib.pyplot as plt\n",
    "import pickle \n",
    "import import_ipynb\n",
    "import statsmodels.api as sm\n",
    "from statsmodels.graphics.tsaplots import plot_acf, plot_pacf\n",
    "from statsmodels.tsa.stattools import adfuller, kpss, ccf\n",
    "from sklearn.decomposition import PCA\n",
    "import tensorflow as tf\n",
    "from sklearn.preprocessing import LabelEncoder, StandardScaler, MinMaxScaler\n",
    "from sklearn.metrics import mean_squared_error\n",
    "\n",
    "\n"
   ]
  },
  {
   "cell_type": "code",
   "execution_count": null,
   "metadata": {},
   "outputs": [],
   "source": []
  },
  {
   "cell_type": "code",
   "execution_count": 3,
   "metadata": {},
   "outputs": [
    {
     "name": "stdout",
     "output_type": "stream",
     "text": [
      "                           generation biomass  \\\n",
      "time                                            \n",
      "2014-12-31 23:00:00+00:00               447.0   \n",
      "2015-01-01 00:00:00+00:00               449.0   \n",
      "2015-01-01 01:00:00+00:00               448.0   \n",
      "2015-01-01 02:00:00+00:00               438.0   \n",
      "2015-01-01 03:00:00+00:00               428.0   \n",
      "...                                       ...   \n",
      "2018-12-31 18:00:00+00:00               297.0   \n",
      "2018-12-31 19:00:00+00:00               296.0   \n",
      "2018-12-31 20:00:00+00:00               292.0   \n",
      "2018-12-31 21:00:00+00:00               293.0   \n",
      "2018-12-31 22:00:00+00:00               290.0   \n",
      "\n",
      "                           generation fossil brown coal/lignite  \\\n",
      "time                                                              \n",
      "2014-12-31 23:00:00+00:00                                 329.0   \n",
      "2015-01-01 00:00:00+00:00                                 328.0   \n",
      "2015-01-01 01:00:00+00:00                                 323.0   \n",
      "2015-01-01 02:00:00+00:00                                 254.0   \n",
      "2015-01-01 03:00:00+00:00                                 187.0   \n",
      "...                                                         ...   \n",
      "2018-12-31 18:00:00+00:00                                   0.0   \n",
      "2018-12-31 19:00:00+00:00                                   0.0   \n",
      "2018-12-31 20:00:00+00:00                                   0.0   \n",
      "2018-12-31 21:00:00+00:00                                   0.0   \n",
      "2018-12-31 22:00:00+00:00                                   0.0   \n",
      "\n",
      "                           generation fossil gas  generation fossil hard coal  \\\n",
      "time                                                                            \n",
      "2014-12-31 23:00:00+00:00                 4844.0                       4821.0   \n",
      "2015-01-01 00:00:00+00:00                 5196.0                       4755.0   \n",
      "2015-01-01 01:00:00+00:00                 4857.0                       4581.0   \n",
      "2015-01-01 02:00:00+00:00                 4314.0                       4131.0   \n",
      "2015-01-01 03:00:00+00:00                 4130.0                       3840.0   \n",
      "...                                          ...                          ...   \n",
      "2018-12-31 18:00:00+00:00                 7634.0                       2628.0   \n",
      "2018-12-31 19:00:00+00:00                 7241.0                       2566.0   \n",
      "2018-12-31 20:00:00+00:00                 7025.0                       2422.0   \n",
      "2018-12-31 21:00:00+00:00                 6562.0                       2293.0   \n",
      "2018-12-31 22:00:00+00:00                 6926.0                       2166.0   \n",
      "\n",
      "                           generation fossil oil  \\\n",
      "time                                               \n",
      "2014-12-31 23:00:00+00:00                  162.0   \n",
      "2015-01-01 00:00:00+00:00                  158.0   \n",
      "2015-01-01 01:00:00+00:00                  157.0   \n",
      "2015-01-01 02:00:00+00:00                  160.0   \n",
      "2015-01-01 03:00:00+00:00                  156.0   \n",
      "...                                          ...   \n",
      "2018-12-31 18:00:00+00:00                  178.0   \n",
      "2018-12-31 19:00:00+00:00                  174.0   \n",
      "2018-12-31 20:00:00+00:00                  168.0   \n",
      "2018-12-31 21:00:00+00:00                  163.0   \n",
      "2018-12-31 22:00:00+00:00                  163.0   \n",
      "\n",
      "                           generation hydro pumped storage consumption  \\\n",
      "time                                                                     \n",
      "2014-12-31 23:00:00+00:00                                        863.0   \n",
      "2015-01-01 00:00:00+00:00                                        920.0   \n",
      "2015-01-01 01:00:00+00:00                                       1164.0   \n",
      "2015-01-01 02:00:00+00:00                                       1503.0   \n",
      "2015-01-01 03:00:00+00:00                                       1826.0   \n",
      "...                                                                ...   \n",
      "2018-12-31 18:00:00+00:00                                          1.0   \n",
      "2018-12-31 19:00:00+00:00                                          1.0   \n",
      "2018-12-31 20:00:00+00:00                                         50.0   \n",
      "2018-12-31 21:00:00+00:00                                        108.0   \n",
      "2018-12-31 22:00:00+00:00                                        108.0   \n",
      "\n",
      "                           generation hydro run-of-river and poundage  \\\n",
      "time                                                                    \n",
      "2014-12-31 23:00:00+00:00                                      1051.0   \n",
      "2015-01-01 00:00:00+00:00                                      1009.0   \n",
      "2015-01-01 01:00:00+00:00                                       973.0   \n",
      "2015-01-01 02:00:00+00:00                                       949.0   \n",
      "2015-01-01 03:00:00+00:00                                       953.0   \n",
      "...                                                               ...   \n",
      "2018-12-31 18:00:00+00:00                                      1135.0   \n",
      "2018-12-31 19:00:00+00:00                                      1172.0   \n",
      "2018-12-31 20:00:00+00:00                                      1148.0   \n",
      "2018-12-31 21:00:00+00:00                                      1128.0   \n",
      "2018-12-31 22:00:00+00:00                                      1069.0   \n",
      "\n",
      "                           generation hydro water reservoir  \\\n",
      "time                                                          \n",
      "2014-12-31 23:00:00+00:00                            1899.0   \n",
      "2015-01-01 00:00:00+00:00                            1658.0   \n",
      "2015-01-01 01:00:00+00:00                            1371.0   \n",
      "2015-01-01 02:00:00+00:00                             779.0   \n",
      "2015-01-01 03:00:00+00:00                             720.0   \n",
      "...                                                     ...   \n",
      "2018-12-31 18:00:00+00:00                            4836.0   \n",
      "2018-12-31 19:00:00+00:00                            3931.0   \n",
      "2018-12-31 20:00:00+00:00                            2831.0   \n",
      "2018-12-31 21:00:00+00:00                            2068.0   \n",
      "2018-12-31 22:00:00+00:00                            1686.0   \n",
      "\n",
      "                           generation nuclear  generation other  ...  \\\n",
      "time                                                             ...   \n",
      "2014-12-31 23:00:00+00:00              7096.0              43.0  ...   \n",
      "2015-01-01 00:00:00+00:00              7096.0              43.0  ...   \n",
      "2015-01-01 01:00:00+00:00              7099.0              43.0  ...   \n",
      "2015-01-01 02:00:00+00:00              7098.0              43.0  ...   \n",
      "2015-01-01 03:00:00+00:00              7097.0              43.0  ...   \n",
      "...                                       ...               ...  ...   \n",
      "2018-12-31 18:00:00+00:00              6073.0              63.0  ...   \n",
      "2018-12-31 19:00:00+00:00              6074.0              62.0  ...   \n",
      "2018-12-31 20:00:00+00:00              6076.0              61.0  ...   \n",
      "2018-12-31 21:00:00+00:00              6075.0              61.0  ...   \n",
      "2018-12-31 22:00:00+00:00              6075.0              61.0  ...   \n",
      "\n",
      "                           temp_Valencia  temp_min_Valencia  \\\n",
      "time                                                          \n",
      "2014-12-31 23:00:00+00:00        270.475            270.475   \n",
      "2015-01-01 00:00:00+00:00        270.475            270.475   \n",
      "2015-01-01 01:00:00+00:00        269.686            269.686   \n",
      "2015-01-01 02:00:00+00:00        269.686            269.686   \n",
      "2015-01-01 03:00:00+00:00        269.686            269.686   \n",
      "...                                  ...                ...   \n",
      "2018-12-31 18:00:00+00:00        285.640            285.150   \n",
      "2018-12-31 19:00:00+00:00        283.140            282.150   \n",
      "2018-12-31 20:00:00+00:00        281.660            281.150   \n",
      "2018-12-31 21:00:00+00:00        280.140            279.150   \n",
      "2018-12-31 22:00:00+00:00        279.140            278.150   \n",
      "\n",
      "                           temp_max_Valencia  pressure_Valencia  \\\n",
      "time                                                              \n",
      "2014-12-31 23:00:00+00:00            270.475             1001.0   \n",
      "2015-01-01 00:00:00+00:00            270.475             1001.0   \n",
      "2015-01-01 01:00:00+00:00            269.686             1002.0   \n",
      "2015-01-01 02:00:00+00:00            269.686             1002.0   \n",
      "2015-01-01 03:00:00+00:00            269.686             1002.0   \n",
      "...                                      ...                ...   \n",
      "2018-12-31 18:00:00+00:00            286.150             1028.0   \n",
      "2018-12-31 19:00:00+00:00            284.150             1029.0   \n",
      "2018-12-31 20:00:00+00:00            282.150             1029.0   \n",
      "2018-12-31 21:00:00+00:00            281.150             1029.0   \n",
      "2018-12-31 22:00:00+00:00            280.150             1029.0   \n",
      "\n",
      "                           humidity_Valencia  wind_speed_Valencia  \\\n",
      "time                                                                \n",
      "2014-12-31 23:00:00+00:00               77.0                  1.0   \n",
      "2015-01-01 00:00:00+00:00               77.0                  1.0   \n",
      "2015-01-01 01:00:00+00:00               78.0                  0.0   \n",
      "2015-01-01 02:00:00+00:00               78.0                  0.0   \n",
      "2015-01-01 03:00:00+00:00               78.0                  0.0   \n",
      "...                                      ...                  ...   \n",
      "2018-12-31 18:00:00+00:00               62.0                  2.0   \n",
      "2018-12-31 19:00:00+00:00               71.0                  1.0   \n",
      "2018-12-31 20:00:00+00:00               81.0                  3.0   \n",
      "2018-12-31 21:00:00+00:00               81.0                  2.0   \n",
      "2018-12-31 22:00:00+00:00               75.0                  2.0   \n",
      "\n",
      "                           wind_deg_Valencia  rain_1h_Valencia  \\\n",
      "time                                                             \n",
      "2014-12-31 23:00:00+00:00               62.0               0.0   \n",
      "2015-01-01 00:00:00+00:00               62.0               0.0   \n",
      "2015-01-01 01:00:00+00:00               23.0               0.0   \n",
      "2015-01-01 02:00:00+00:00               23.0               0.0   \n",
      "2015-01-01 03:00:00+00:00               23.0               0.0   \n",
      "...                                      ...               ...   \n",
      "2018-12-31 18:00:00+00:00              140.0               0.0   \n",
      "2018-12-31 19:00:00+00:00              242.0               0.0   \n",
      "2018-12-31 20:00:00+00:00              300.0               0.0   \n",
      "2018-12-31 21:00:00+00:00              310.0               0.0   \n",
      "2018-12-31 22:00:00+00:00              300.0               0.0   \n",
      "\n",
      "                           snow_3h_Valencia  clouds_all_Valencia  \n",
      "time                                                              \n",
      "2014-12-31 23:00:00+00:00               0.0                  0.0  \n",
      "2015-01-01 00:00:00+00:00               0.0                  0.0  \n",
      "2015-01-01 01:00:00+00:00               0.0                  0.0  \n",
      "2015-01-01 02:00:00+00:00               0.0                  0.0  \n",
      "2015-01-01 03:00:00+00:00               0.0                  0.0  \n",
      "...                                     ...                  ...  \n",
      "2018-12-31 18:00:00+00:00               0.0                  0.0  \n",
      "2018-12-31 19:00:00+00:00               0.0                  0.0  \n",
      "2018-12-31 20:00:00+00:00               0.0                  0.0  \n",
      "2018-12-31 21:00:00+00:00               0.0                  0.0  \n",
      "2018-12-31 22:00:00+00:00               0.0                  0.0  \n",
      "\n",
      "[35064 rows x 65 columns]\n"
     ]
    }
   ],
   "source": [
    "# Data Import \n",
    "with open('data/df_final_viz.pkl', 'rb') as f:\n",
    "    df_final = pickle.load(f)\n",
    "\n",
    "print(df_final)"
   ]
  },
  {
   "cell_type": "code",
   "execution_count": 4,
   "metadata": {},
   "outputs": [],
   "source": [
    "for i in range(len(df_final)):\n",
    "    position = df_final.index[i]\n",
    "    hour = position.hour\n",
    "    weekday = position.weekday()\n",
    "    month = position.month\n",
    "    df_final.loc[position, 'hour'] = hour\n",
    "    df_final.loc[position, 'weekday'] = weekday\n",
    "    df_final.loc[position, 'month'] = month"
   ]
  },
  {
   "cell_type": "code",
   "execution_count": 5,
   "metadata": {},
   "outputs": [],
   "source": [
    "\n",
    "# Generate 'business hour' feature\n",
    "\n",
    "for i in range(len(df_final)):\n",
    "    position = df_final.index[i]\n",
    "    hour = position.hour\n",
    "    if ((hour > 8 and hour < 14) or (hour > 16 and hour < 21)):\n",
    "        df_final.loc[position, 'business hour'] = 2\n",
    "    elif (hour >= 14 and hour <= 16):\n",
    "        df_final.loc[position, 'business hour'] = 1\n",
    "    else:\n",
    "        df_final.loc[position, 'business hour'] = 0"
   ]
  },
  {
   "cell_type": "code",
   "execution_count": 6,
   "metadata": {},
   "outputs": [],
   "source": [
    "# Generate 'weekend' feature\n",
    "\n",
    "for i in range(len(df_final)):\n",
    "    position = df_final.index[i]\n",
    "    weekday = position.weekday()\n",
    "    if (weekday == 6):\n",
    "        df_final.loc[position, 'weekday'] = 2\n",
    "    elif (weekday == 5):\n",
    "        df_final.loc[position, 'weekday'] = 1\n",
    "    else:\n",
    "        df_final.loc[position, 'weekday'] = 0"
   ]
  },
  {
   "cell_type": "code",
   "execution_count": 7,
   "metadata": {},
   "outputs": [],
   "source": [
    "# Generate 'temp_range' for each city\n",
    "\n",
    "cities = ['Barcelona', 'Bilbao', 'Madrid', 'Seville', 'Valencia']\n",
    "\n",
    "for i in range(len(df_final)):\n",
    "    position = df_final.index[i]\n",
    "    for city in cities:\n",
    "        temp_max = df_final.loc[position, 'temp_max_{}'.format(city)]\n",
    "        temp_min = df_final.loc[position, 'temp_min_{}'.format(city)]\n",
    "        df_final.loc[position, 'temp_range_{}'.format(city)] = abs(temp_max - temp_min)"
   ]
  },
  {
   "cell_type": "code",
   "execution_count": 9,
   "metadata": {},
   "outputs": [],
   "source": [
    "# Calculate the weight of every city\n",
    "\n",
    "total_pop = 6155116 + 5179243 + 1645342 + 1305342 + 987000\n",
    "\n",
    "weight_Madrid = 6155116 / total_pop\n",
    "weight_Barcelona = 5179243 / total_pop\n",
    "weight_Valencia = 1645342 / total_pop\n",
    "weight_Seville = 1305342 / total_pop\n",
    "weight_Bilbao = 987000 / total_pop"
   ]
  },
  {
   "cell_type": "markdown",
   "metadata": {},
   "source": [
    "Eventuell: Korrelationen zwischen weighted_temp / temp und target "
   ]
  },
  {
   "cell_type": "markdown",
   "metadata": {},
   "source": []
  },
  {
   "cell_type": "code",
   "execution_count": 10,
   "metadata": {},
   "outputs": [],
   "source": [
    "cities_weights = {'Madrid': weight_Madrid, \n",
    "                  'Barcelona': weight_Barcelona,\n",
    "                  'Valencia': weight_Valencia,\n",
    "                  'Seville': weight_Seville,\n",
    "                  'Bilbao': weight_Bilbao}"
   ]
  },
  {
   "cell_type": "code",
   "execution_count": 11,
   "metadata": {},
   "outputs": [],
   "source": [
    "# Generate 'temp_weighted' feature\n",
    "\n",
    "for i in range(len(df_final)):\n",
    "    position = df_final.index[i]\n",
    "    temp_weighted = 0\n",
    "    for city in cities:\n",
    "        temp = df_final.loc[position, 'temp_{}'.format(city)]\n",
    "        temp_weighted += temp * cities_weights.get('{}'.format(city))\n",
    "    df_final.loc[position, 'temp_weighted'] = temp_weighted"
   ]
  },
  {
   "cell_type": "code",
   "execution_count": 12,
   "metadata": {},
   "outputs": [],
   "source": [
    "df_final['generation coal all'] = df_final['generation fossil hard coal'] + df_final['generation fossil brown coal/lignite']"
   ]
  },
  {
   "cell_type": "markdown",
   "metadata": {},
   "source": [
    "## 3.1 Feature Selection\n",
    "\n"
   ]
  },
  {
   "cell_type": "code",
   "execution_count": 13,
   "metadata": {},
   "outputs": [],
   "source": [
    "def multivariate_data(dataset, target, start_index, end_index, history_size,\n",
    "                      target_size, step, single_step=False):\n",
    "    data = []\n",
    "    labels = []\n",
    "\n",
    "    start_index = start_index + history_size\n",
    "    if end_index is None:\n",
    "        end_index = len(dataset) - target_size\n",
    "        \n",
    "    for i in range(start_index, end_index):\n",
    "        indices = range(i-history_size, i, step)\n",
    "        data.append(dataset[indices])\n",
    "        \n",
    "        if single_step:\n",
    "            labels.append(target[i + target_size])\n",
    "        else:\n",
    "            labels.append(target[i : i + target_size])\n",
    "\n",
    "    return np.array(data), np.array(labels)"
   ]
  },
  {
   "cell_type": "code",
   "execution_count": 14,
   "metadata": {},
   "outputs": [],
   "source": [
    "train_end_idx = 27048\n",
    "cv_end_idx = 31056\n",
    "test_end_idx = 35064"
   ]
  },
  {
   "cell_type": "code",
   "execution_count": 15,
   "metadata": {},
   "outputs": [],
   "source": [
    "X = df_final[df_final.columns.drop('price actual')].values\n",
    "y = df_final['price actual'].values\n",
    "\n",
    "y = y.reshape(-1, 1) "
   ]
  },
  {
   "cell_type": "code",
   "execution_count": 16,
   "metadata": {},
   "outputs": [],
   "source": [
    "scaler_X = MinMaxScaler(feature_range=(0, 1))\n",
    "scaler_y = MinMaxScaler(feature_range=(0, 1))"
   ]
  },
  {
   "cell_type": "code",
   "execution_count": 17,
   "metadata": {},
   "outputs": [
    {
     "data": {
      "text/plain": [
       "['data/scaler_y.pkl']"
      ]
     },
     "execution_count": 17,
     "metadata": {},
     "output_type": "execute_result"
    }
   ],
   "source": [
    "scaler_X.fit(X[:train_end_idx])\n",
    "scaler_y.fit(y[:train_end_idx])\n",
    "\n",
    "import joblib\n",
    "joblib.dump(scaler_y, \"data/scaler_y.pkl\")"
   ]
  },
  {
   "cell_type": "code",
   "execution_count": 152,
   "metadata": {},
   "outputs": [],
   "source": [
    "X_norm = scaler_X.transform(X)\n",
    "y_norm = scaler_y.transform(y)"
   ]
  },
  {
   "cell_type": "code",
   "execution_count": 153,
   "metadata": {},
   "outputs": [],
   "source": [
    "pca = PCA()\n",
    "X_pca = pca.fit(X_norm[:train_end_idx])"
   ]
  },
  {
   "cell_type": "code",
   "execution_count": 154,
   "metadata": {},
   "outputs": [
    {
     "data": {
      "image/png": "[encoded data removed]",
      "text/plain": [
       "<Figure size 1000x600 with 1 Axes>"
      ]
     },
     "metadata": {},
     "output_type": "display_data"
    }
   ],
   "source": [
    "num_components = len(pca.explained_variance_ratio_)\n",
    "plt.figure(figsize=(10, 6))\n",
    "plt.bar(np.arange(num_components), pca.explained_variance_ratio_)\n",
    "plt.plot(np.cumsum(pca.explained_variance_ratio_))\n",
    "plt.xlabel('Principal component')\n",
    "plt.ylabel('Explained variance')\n",
    "plt.show()"
   ]
  },
  {
   "cell_type": "code",
   "execution_count": 155,
   "metadata": {},
   "outputs": [],
   "source": [
    "pca = PCA(n_components=0.80)\n",
    "pca.fit(X_norm[:train_end_idx])\n",
    "X_pca = pca.transform(X_norm)"
   ]
  },
  {
   "cell_type": "code",
   "execution_count": 156,
   "metadata": {},
   "outputs": [
    {
     "data": {
      "text/plain": [
       "(35064, 16)"
      ]
     },
     "execution_count": 156,
     "metadata": {},
     "output_type": "execute_result"
    }
   ],
   "source": [
    "X_pca.shape"
   ]
  },
  {
   "cell_type": "code",
   "execution_count": 157,
   "metadata": {},
   "outputs": [],
   "source": [
    "dataset_norm = np.concatenate((X_pca, y_norm), axis=1)\n",
    "\n",
    "past_history = 24\n",
    "future_target = 0"
   ]
  },
  {
   "cell_type": "code",
   "execution_count": 158,
   "metadata": {},
   "outputs": [],
   "source": [
    "X_train, y_train = multivariate_data(dataset_norm, dataset_norm[:, -1],\n",
    "                                     0, train_end_idx, past_history, \n",
    "                                     future_target, step=1, single_step=True)"
   ]
  },
  {
   "cell_type": "code",
   "execution_count": 159,
   "metadata": {},
   "outputs": [],
   "source": [
    "X_val, y_val = multivariate_data(dataset_norm, dataset_norm[:, -1],\n",
    "                                 train_end_idx, cv_end_idx, past_history, \n",
    "                                 future_target, step=1, single_step=True)"
   ]
  },
  {
   "cell_type": "code",
   "execution_count": 160,
   "metadata": {},
   "outputs": [],
   "source": [
    "X_test, y_test = multivariate_data(dataset_norm, dataset_norm[:, -1],\n",
    "                                   cv_end_idx, test_end_idx, past_history, \n",
    "                                   future_target, step=1, single_step=True)"
   ]
  },
  {
   "cell_type": "code",
   "execution_count": null,
   "metadata": {},
   "outputs": [],
   "source": [
    "\n",
    "## Data Export \n",
    "\n",
    "# Save X_train\n",
    "with open(\"data/X_train.pkl\", \"wb\") as f:\n",
    "    pickle.dump(X_train, f)\n",
    "\n",
    "# Save y_train\n",
    "with open(\"data/y_train.pkl\", \"wb\") as f:\n",
    "    pickle.dump(y_train, f)\n",
    "\n",
    "# Save X_val\n",
    "with open(\"data/X_val.pkl\", \"wb\") as f:\n",
    "    pickle.dump(X_val, f)\n",
    "\n",
    "# Save y_val\n",
    "with open(\"data/y_val.pkl\", \"wb\") as f:\n",
    "    pickle.dump(y_val, f)\n",
    "\n",
    "# Save X_test\n",
    "with open(\"data/X_test.pkl\", \"wb\") as f:\n",
    "    pickle.dump(X_test, f)\n",
    "\n",
    "# Save y_test\n",
    "with open(\"data/y_test.pkl\", \"wb\") as f:\n",
    "    pickle.dump(y_test, f)\n",
    "\n",
    "\n",
    "import joblib\n"
   ]
  }
 ],
 "metadata": {
  "kernelspec": {
   "display_name": "ep_forecasting_env",
   "language": "python",
   "name": "python3"
  },
  "language_info": {
   "codemirror_mode": {
    "name": "ipython",
    "version": 3
   },
   "file_extension": ".py",
   "mimetype": "text/x-python",
   "name": "python",
   "nbconvert_exporter": "python",
   "pygments_lexer": "ipython3",
   "version": "3.9.18"
  }
 },
 "nbformat": 4,
 "nbformat_minor": 2
}

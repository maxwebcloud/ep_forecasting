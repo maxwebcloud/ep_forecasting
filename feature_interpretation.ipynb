{
 "cells": [
  {
   "cell_type": "markdown",
   "id": "7775914b",
   "metadata": {},
   "source": [
    "### Applying the functions from file feature_interpretation to get insight in the features used by the models"
   ]
  },
  {
   "cell_type": "code",
   "execution_count": 4,
   "id": "6879dc26",
   "metadata": {},
   "outputs": [],
   "source": [
    "import pickle\n",
    "from models_utils import *\n",
    "from feature_interpretations import plot_pca_information, plot_feature_importance_with_shap"
   ]
  },
  {
   "cell_type": "code",
   "execution_count": 2,
   "id": "1f56bd98",
   "metadata": {},
   "outputs": [],
   "source": [
    "# import necessary data\n",
    "with open(\"data/df_final_eng.pkl\", \"rb\") as f:\n",
    "    df_final = pickle.load(f)"
   ]
  },
  {
   "cell_type": "markdown",
   "id": "6a11f6c8",
   "metadata": {},
   "source": [
    "#### 1. Visualize and describe PCA and the Loadings of the features which get transformed"
   ]
  },
  {
   "cell_type": "code",
   "execution_count": 3,
   "id": "23ffb364",
   "metadata": {},
   "outputs": [],
   "source": [
    "plot_pca_information(df_final, train_frac = 0.6, val_frac= 0.2, test_frac= 0.2, variance_ratio = 0.8, top_pca_percentage= 0.3)"
   ]
  },
  {
   "cell_type": "markdown",
   "id": "65283cae",
   "metadata": {},
   "source": [
    "### 2. Feature Intrpretation with SHAP-Values"
   ]
  },
  {
   "cell_type": "code",
   "execution_count": null,
   "id": "e55497cb",
   "metadata": {},
   "outputs": [],
   "source": [
    "plot_feature_importance_with_shap(LSTMModel, df_final, train_frac = 0.77, val_frac= 0.11, test_frac = 0.12,variance_ratio = 0.8, sequence_length = 24, step_size = 1, seed = 35, top_percent =0.3, device= torch.device(\"cpu\"))"
   ]
  }
 ],
 "metadata": {
  "kernelspec": {
   "display_name": "ep_forecasting_env",
   "language": "python",
   "name": "python3"
  },
  "language_info": {
   "codemirror_mode": {
    "name": "ipython",
    "version": 3
   },
   "file_extension": ".py",
   "mimetype": "text/x-python",
   "name": "python",
   "nbconvert_exporter": "python",
   "pygments_lexer": "ipython3",
   "version": "3.9.18"
  }
 },
 "nbformat": 4,
 "nbformat_minor": 5
}

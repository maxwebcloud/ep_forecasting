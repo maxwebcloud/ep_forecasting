{
 "cells": [
  {
   "cell_type": "code",
   "execution_count": 75,
   "metadata": {},
   "outputs": [],
   "source": [
    "#Packages \n",
    "import pandas as pd\n",
    "import seaborn as sns\n",
    "import numpy as np\n",
    "import matplotlib.pyplot as plt\n",
    "from sklearn.preprocessing import LabelEncoder, StandardScaler, MinMaxScaler\n",
    "from sklearn.metrics import mean_squared_error, r2_score"
   ]
  },
  {
   "cell_type": "markdown",
   "metadata": {},
   "source": [
    "# 1.Exploration and Cleaning"
   ]
  },
  {
   "cell_type": "code",
   "execution_count": 41,
   "metadata": {},
   "outputs": [],
   "source": [
    "#Data Import\n",
    "df_energy = pd.read_csv(\"data/energy_dataset.csv\") \n",
    "df_weather = pd.read_csv(\"data/weather_features.csv\")"
   ]
  },
  {
   "cell_type": "markdown",
   "metadata": {},
   "source": [
    "## 1.1 Energy dataset"
   ]
  },
  {
   "cell_type": "code",
   "execution_count": 42,
   "metadata": {},
   "outputs": [
    {
     "data": {
      "application/vnd.microsoft.datawrangler.viewer.v0+json": {
       "columns": [
        {
         "name": "index",
         "rawType": "int64",
         "type": "integer"
        },
        {
         "name": "time",
         "rawType": "object",
         "type": "string"
        },
        {
         "name": "generation biomass",
         "rawType": "float64",
         "type": "float"
        },
        {
         "name": "generation fossil brown coal/lignite",
         "rawType": "float64",
         "type": "float"
        },
        {
         "name": "generation fossil coal-derived gas",
         "rawType": "float64",
         "type": "float"
        },
        {
         "name": "generation fossil gas",
         "rawType": "float64",
         "type": "float"
        },
        {
         "name": "generation fossil hard coal",
         "rawType": "float64",
         "type": "float"
        },
        {
         "name": "generation fossil oil",
         "rawType": "float64",
         "type": "float"
        },
        {
         "name": "generation fossil oil shale",
         "rawType": "float64",
         "type": "float"
        },
        {
         "name": "generation fossil peat",
         "rawType": "float64",
         "type": "float"
        },
        {
         "name": "generation geothermal",
         "rawType": "float64",
         "type": "float"
        },
        {
         "name": "generation hydro pumped storage aggregated",
         "rawType": "float64",
         "type": "float"
        },
        {
         "name": "generation hydro pumped storage consumption",
         "rawType": "float64",
         "type": "float"
        },
        {
         "name": "generation hydro run-of-river and poundage",
         "rawType": "float64",
         "type": "float"
        },
        {
         "name": "generation hydro water reservoir",
         "rawType": "float64",
         "type": "float"
        },
        {
         "name": "generation marine",
         "rawType": "float64",
         "type": "float"
        },
        {
         "name": "generation nuclear",
         "rawType": "float64",
         "type": "float"
        },
        {
         "name": "generation other",
         "rawType": "float64",
         "type": "float"
        },
        {
         "name": "generation other renewable",
         "rawType": "float64",
         "type": "float"
        },
        {
         "name": "generation solar",
         "rawType": "float64",
         "type": "float"
        },
        {
         "name": "generation waste",
         "rawType": "float64",
         "type": "float"
        },
        {
         "name": "generation wind offshore",
         "rawType": "float64",
         "type": "float"
        },
        {
         "name": "generation wind onshore",
         "rawType": "float64",
         "type": "float"
        },
        {
         "name": "forecast solar day ahead",
         "rawType": "float64",
         "type": "float"
        },
        {
         "name": "forecast wind offshore eday ahead",
         "rawType": "float64",
         "type": "float"
        },
        {
         "name": "forecast wind onshore day ahead",
         "rawType": "float64",
         "type": "float"
        },
        {
         "name": "total load forecast",
         "rawType": "float64",
         "type": "float"
        },
        {
         "name": "total load actual",
         "rawType": "float64",
         "type": "float"
        },
        {
         "name": "price day ahead",
         "rawType": "float64",
         "type": "float"
        },
        {
         "name": "price actual",
         "rawType": "float64",
         "type": "float"
        }
       ],
       "conversionMethod": "pd.DataFrame",
       "ref": "fbc4138f-810a-42cb-82b1-f7365f15fda2",
       "rows": [
        [
         "0",
         "2015-01-01 00:00:00+01:00",
         "447.0",
         "329.0",
         "0.0",
         "4844.0",
         "4821.0",
         "162.0",
         "0.0",
         "0.0",
         "0.0",
         null,
         "863.0",
         "1051.0",
         "1899.0",
         "0.0",
         "7096.0",
         "43.0",
         "73.0",
         "49.0",
         "196.0",
         "0.0",
         "6378.0",
         "17.0",
         null,
         "6436.0",
         "26118.0",
         "25385.0",
         "50.1",
         "65.41"
        ],
        [
         "1",
         "2015-01-01 01:00:00+01:00",
         "449.0",
         "328.0",
         "0.0",
         "5196.0",
         "4755.0",
         "158.0",
         "0.0",
         "0.0",
         "0.0",
         null,
         "920.0",
         "1009.0",
         "1658.0",
         "0.0",
         "7096.0",
         "43.0",
         "71.0",
         "50.0",
         "195.0",
         "0.0",
         "5890.0",
         "16.0",
         null,
         "5856.0",
         "24934.0",
         "24382.0",
         "48.1",
         "64.92"
        ],
        [
         "2",
         "2015-01-01 02:00:00+01:00",
         "448.0",
         "323.0",
         "0.0",
         "4857.0",
         "4581.0",
         "157.0",
         "0.0",
         "0.0",
         "0.0",
         null,
         "1164.0",
         "973.0",
         "1371.0",
         "0.0",
         "7099.0",
         "43.0",
         "73.0",
         "50.0",
         "196.0",
         "0.0",
         "5461.0",
         "8.0",
         null,
         "5454.0",
         "23515.0",
         "22734.0",
         "47.33",
         "64.48"
        ],
        [
         "3",
         "2015-01-01 03:00:00+01:00",
         "438.0",
         "254.0",
         "0.0",
         "4314.0",
         "4131.0",
         "160.0",
         "0.0",
         "0.0",
         "0.0",
         null,
         "1503.0",
         "949.0",
         "779.0",
         "0.0",
         "7098.0",
         "43.0",
         "75.0",
         "50.0",
         "191.0",
         "0.0",
         "5238.0",
         "2.0",
         null,
         "5151.0",
         "22642.0",
         "21286.0",
         "42.27",
         "59.32"
        ],
        [
         "4",
         "2015-01-01 04:00:00+01:00",
         "428.0",
         "187.0",
         "0.0",
         "4130.0",
         "3840.0",
         "156.0",
         "0.0",
         "0.0",
         "0.0",
         null,
         "1826.0",
         "953.0",
         "720.0",
         "0.0",
         "7097.0",
         "43.0",
         "74.0",
         "42.0",
         "189.0",
         "0.0",
         "4935.0",
         "9.0",
         null,
         "4861.0",
         "21785.0",
         "20264.0",
         "38.41",
         "56.04"
        ]
       ],
       "shape": {
        "columns": 29,
        "rows": 5
       }
      },
      "text/html": [
       "<div>\n",
       "<style scoped>\n",
       "    .dataframe tbody tr th:only-of-type {\n",
       "        vertical-align: middle;\n",
       "    }\n",
       "\n",
       "    .dataframe tbody tr th {\n",
       "        vertical-align: top;\n",
       "    }\n",
       "\n",
       "    .dataframe thead th {\n",
       "        text-align: right;\n",
       "    }\n",
       "</style>\n",
       "<table border=\"1\" class=\"dataframe\">\n",
       "  <thead>\n",
       "    <tr style=\"text-align: right;\">\n",
       "      <th></th>\n",
       "      <th>time</th>\n",
       "      <th>generation biomass</th>\n",
       "      <th>generation fossil brown coal/lignite</th>\n",
       "      <th>generation fossil coal-derived gas</th>\n",
       "      <th>generation fossil gas</th>\n",
       "      <th>generation fossil hard coal</th>\n",
       "      <th>generation fossil oil</th>\n",
       "      <th>generation fossil oil shale</th>\n",
       "      <th>generation fossil peat</th>\n",
       "      <th>generation geothermal</th>\n",
       "      <th>...</th>\n",
       "      <th>generation waste</th>\n",
       "      <th>generation wind offshore</th>\n",
       "      <th>generation wind onshore</th>\n",
       "      <th>forecast solar day ahead</th>\n",
       "      <th>forecast wind offshore eday ahead</th>\n",
       "      <th>forecast wind onshore day ahead</th>\n",
       "      <th>total load forecast</th>\n",
       "      <th>total load actual</th>\n",
       "      <th>price day ahead</th>\n",
       "      <th>price actual</th>\n",
       "    </tr>\n",
       "  </thead>\n",
       "  <tbody>\n",
       "    <tr>\n",
       "      <th>0</th>\n",
       "      <td>2015-01-01 00:00:00+01:00</td>\n",
       "      <td>447.0</td>\n",
       "      <td>329.0</td>\n",
       "      <td>0.0</td>\n",
       "      <td>4844.0</td>\n",
       "      <td>4821.0</td>\n",
       "      <td>162.0</td>\n",
       "      <td>0.0</td>\n",
       "      <td>0.0</td>\n",
       "      <td>0.0</td>\n",
       "      <td>...</td>\n",
       "      <td>196.0</td>\n",
       "      <td>0.0</td>\n",
       "      <td>6378.0</td>\n",
       "      <td>17.0</td>\n",
       "      <td>NaN</td>\n",
       "      <td>6436.0</td>\n",
       "      <td>26118.0</td>\n",
       "      <td>25385.0</td>\n",
       "      <td>50.10</td>\n",
       "      <td>65.41</td>\n",
       "    </tr>\n",
       "    <tr>\n",
       "      <th>1</th>\n",
       "      <td>2015-01-01 01:00:00+01:00</td>\n",
       "      <td>449.0</td>\n",
       "      <td>328.0</td>\n",
       "      <td>0.0</td>\n",
       "      <td>5196.0</td>\n",
       "      <td>4755.0</td>\n",
       "      <td>158.0</td>\n",
       "      <td>0.0</td>\n",
       "      <td>0.0</td>\n",
       "      <td>0.0</td>\n",
       "      <td>...</td>\n",
       "      <td>195.0</td>\n",
       "      <td>0.0</td>\n",
       "      <td>5890.0</td>\n",
       "      <td>16.0</td>\n",
       "      <td>NaN</td>\n",
       "      <td>5856.0</td>\n",
       "      <td>24934.0</td>\n",
       "      <td>24382.0</td>\n",
       "      <td>48.10</td>\n",
       "      <td>64.92</td>\n",
       "    </tr>\n",
       "    <tr>\n",
       "      <th>2</th>\n",
       "      <td>2015-01-01 02:00:00+01:00</td>\n",
       "      <td>448.0</td>\n",
       "      <td>323.0</td>\n",
       "      <td>0.0</td>\n",
       "      <td>4857.0</td>\n",
       "      <td>4581.0</td>\n",
       "      <td>157.0</td>\n",
       "      <td>0.0</td>\n",
       "      <td>0.0</td>\n",
       "      <td>0.0</td>\n",
       "      <td>...</td>\n",
       "      <td>196.0</td>\n",
       "      <td>0.0</td>\n",
       "      <td>5461.0</td>\n",
       "      <td>8.0</td>\n",
       "      <td>NaN</td>\n",
       "      <td>5454.0</td>\n",
       "      <td>23515.0</td>\n",
       "      <td>22734.0</td>\n",
       "      <td>47.33</td>\n",
       "      <td>64.48</td>\n",
       "    </tr>\n",
       "    <tr>\n",
       "      <th>3</th>\n",
       "      <td>2015-01-01 03:00:00+01:00</td>\n",
       "      <td>438.0</td>\n",
       "      <td>254.0</td>\n",
       "      <td>0.0</td>\n",
       "      <td>4314.0</td>\n",
       "      <td>4131.0</td>\n",
       "      <td>160.0</td>\n",
       "      <td>0.0</td>\n",
       "      <td>0.0</td>\n",
       "      <td>0.0</td>\n",
       "      <td>...</td>\n",
       "      <td>191.0</td>\n",
       "      <td>0.0</td>\n",
       "      <td>5238.0</td>\n",
       "      <td>2.0</td>\n",
       "      <td>NaN</td>\n",
       "      <td>5151.0</td>\n",
       "      <td>22642.0</td>\n",
       "      <td>21286.0</td>\n",
       "      <td>42.27</td>\n",
       "      <td>59.32</td>\n",
       "    </tr>\n",
       "    <tr>\n",
       "      <th>4</th>\n",
       "      <td>2015-01-01 04:00:00+01:00</td>\n",
       "      <td>428.0</td>\n",
       "      <td>187.0</td>\n",
       "      <td>0.0</td>\n",
       "      <td>4130.0</td>\n",
       "      <td>3840.0</td>\n",
       "      <td>156.0</td>\n",
       "      <td>0.0</td>\n",
       "      <td>0.0</td>\n",
       "      <td>0.0</td>\n",
       "      <td>...</td>\n",
       "      <td>189.0</td>\n",
       "      <td>0.0</td>\n",
       "      <td>4935.0</td>\n",
       "      <td>9.0</td>\n",
       "      <td>NaN</td>\n",
       "      <td>4861.0</td>\n",
       "      <td>21785.0</td>\n",
       "      <td>20264.0</td>\n",
       "      <td>38.41</td>\n",
       "      <td>56.04</td>\n",
       "    </tr>\n",
       "  </tbody>\n",
       "</table>\n",
       "<p>5 rows × 29 columns</p>\n",
       "</div>"
      ],
      "text/plain": [
       "                        time  generation biomass  \\\n",
       "0  2015-01-01 00:00:00+01:00               447.0   \n",
       "1  2015-01-01 01:00:00+01:00               449.0   \n",
       "2  2015-01-01 02:00:00+01:00               448.0   \n",
       "3  2015-01-01 03:00:00+01:00               438.0   \n",
       "4  2015-01-01 04:00:00+01:00               428.0   \n",
       "\n",
       "   generation fossil brown coal/lignite  generation fossil coal-derived gas  \\\n",
       "0                                 329.0                                 0.0   \n",
       "1                                 328.0                                 0.0   \n",
       "2                                 323.0                                 0.0   \n",
       "3                                 254.0                                 0.0   \n",
       "4                                 187.0                                 0.0   \n",
       "\n",
       "   generation fossil gas  generation fossil hard coal  generation fossil oil  \\\n",
       "0                 4844.0                       4821.0                  162.0   \n",
       "1                 5196.0                       4755.0                  158.0   \n",
       "2                 4857.0                       4581.0                  157.0   \n",
       "3                 4314.0                       4131.0                  160.0   \n",
       "4                 4130.0                       3840.0                  156.0   \n",
       "\n",
       "   generation fossil oil shale  generation fossil peat  generation geothermal  \\\n",
       "0                          0.0                     0.0                    0.0   \n",
       "1                          0.0                     0.0                    0.0   \n",
       "2                          0.0                     0.0                    0.0   \n",
       "3                          0.0                     0.0                    0.0   \n",
       "4                          0.0                     0.0                    0.0   \n",
       "\n",
       "   ...  generation waste  generation wind offshore  generation wind onshore  \\\n",
       "0  ...             196.0                       0.0                   6378.0   \n",
       "1  ...             195.0                       0.0                   5890.0   \n",
       "2  ...             196.0                       0.0                   5461.0   \n",
       "3  ...             191.0                       0.0                   5238.0   \n",
       "4  ...             189.0                       0.0                   4935.0   \n",
       "\n",
       "   forecast solar day ahead  forecast wind offshore eday ahead  \\\n",
       "0                      17.0                                NaN   \n",
       "1                      16.0                                NaN   \n",
       "2                       8.0                                NaN   \n",
       "3                       2.0                                NaN   \n",
       "4                       9.0                                NaN   \n",
       "\n",
       "   forecast wind onshore day ahead  total load forecast  total load actual  \\\n",
       "0                           6436.0              26118.0            25385.0   \n",
       "1                           5856.0              24934.0            24382.0   \n",
       "2                           5454.0              23515.0            22734.0   \n",
       "3                           5151.0              22642.0            21286.0   \n",
       "4                           4861.0              21785.0            20264.0   \n",
       "\n",
       "   price day ahead  price actual  \n",
       "0            50.10         65.41  \n",
       "1            48.10         64.92  \n",
       "2            47.33         64.48  \n",
       "3            42.27         59.32  \n",
       "4            38.41         56.04  \n",
       "\n",
       "[5 rows x 29 columns]"
      ]
     },
     "execution_count": 42,
     "metadata": {},
     "output_type": "execute_result"
    }
   ],
   "source": [
    "df_energy.head()\n"
   ]
  },
  {
   "cell_type": "code",
   "execution_count": 43,
   "metadata": {},
   "outputs": [],
   "source": [
    "# drop unusable columns\n",
    "\n",
    "df_energy = df_energy.drop(['generation fossil coal-derived gas','generation fossil oil shale', \n",
    "                            'generation fossil peat', 'generation geothermal', \n",
    "                            'generation hydro pumped storage aggregated', 'generation marine', \n",
    "                            'generation wind offshore', 'forecast wind offshore eday ahead',\n",
    "                            'total load forecast', 'forecast solar day ahead',\n",
    "                            'forecast wind onshore day ahead'], \n",
    "                            axis=1)"
   ]
  },
  {
   "cell_type": "code",
   "execution_count": 44,
   "metadata": {},
   "outputs": [
    {
     "data": {
      "application/vnd.microsoft.datawrangler.viewer.v0+json": {
       "columns": [
        {
         "name": "index",
         "rawType": "object",
         "type": "string"
        },
        {
         "name": "generation biomass",
         "rawType": "float64",
         "type": "float"
        },
        {
         "name": "generation fossil brown coal/lignite",
         "rawType": "float64",
         "type": "float"
        },
        {
         "name": "generation fossil gas",
         "rawType": "float64",
         "type": "float"
        },
        {
         "name": "generation fossil hard coal",
         "rawType": "float64",
         "type": "float"
        },
        {
         "name": "generation fossil oil",
         "rawType": "float64",
         "type": "float"
        },
        {
         "name": "generation hydro pumped storage consumption",
         "rawType": "float64",
         "type": "float"
        },
        {
         "name": "generation hydro run-of-river and poundage",
         "rawType": "float64",
         "type": "float"
        },
        {
         "name": "generation hydro water reservoir",
         "rawType": "float64",
         "type": "float"
        },
        {
         "name": "generation nuclear",
         "rawType": "float64",
         "type": "float"
        },
        {
         "name": "generation other",
         "rawType": "float64",
         "type": "float"
        },
        {
         "name": "generation other renewable",
         "rawType": "float64",
         "type": "float"
        },
        {
         "name": "generation solar",
         "rawType": "float64",
         "type": "float"
        },
        {
         "name": "generation waste",
         "rawType": "float64",
         "type": "float"
        },
        {
         "name": "generation wind onshore",
         "rawType": "float64",
         "type": "float"
        },
        {
         "name": "total load actual",
         "rawType": "float64",
         "type": "float"
        },
        {
         "name": "price day ahead",
         "rawType": "float64",
         "type": "float"
        },
        {
         "name": "price actual",
         "rawType": "float64",
         "type": "float"
        }
       ],
       "conversionMethod": "pd.DataFrame",
       "ref": "40c716ed-faf6-41e7-b957-ce8b7b1e9b95",
       "rows": [
        [
         "count",
         "35045.0",
         "35046.0",
         "35046.0",
         "35046.0",
         "35045.0",
         "35045.0",
         "35045.0",
         "35046.0",
         "35047.0",
         "35046.0",
         "35046.0",
         "35046.0",
         "35045.0",
         "35046.0",
         "35028.0",
         "35064.0",
         "35064.0"
        ],
        [
         "mean",
         "383.51",
         "448.06",
         "5622.74",
         "4256.07",
         "298.32",
         "475.58",
         "972.12",
         "2605.11",
         "6263.91",
         "60.23",
         "85.64",
         "1432.67",
         "269.45",
         "5464.48",
         "28696.94",
         "49.87",
         "57.88"
        ],
        [
         "std",
         "85.35",
         "354.57",
         "2201.83",
         "1961.6",
         "52.52",
         "792.41",
         "400.78",
         "1835.2",
         "839.67",
         "20.24",
         "14.08",
         "1680.12",
         "50.2",
         "3213.69",
         "4574.99",
         "14.62",
         "14.2"
        ],
        [
         "min",
         "0.0",
         "0.0",
         "0.0",
         "0.0",
         "0.0",
         "0.0",
         "0.0",
         "0.0",
         "0.0",
         "0.0",
         "0.0",
         "0.0",
         "0.0",
         "0.0",
         "18041.0",
         "2.06",
         "9.33"
        ],
        [
         "25%",
         "333.0",
         "0.0",
         "4126.0",
         "2527.0",
         "263.0",
         "0.0",
         "637.0",
         "1077.25",
         "5760.0",
         "53.0",
         "73.0",
         "71.0",
         "240.0",
         "2933.0",
         "24807.75",
         "41.49",
         "49.35"
        ],
        [
         "50%",
         "367.0",
         "509.0",
         "4969.0",
         "4474.0",
         "300.0",
         "68.0",
         "906.0",
         "2164.0",
         "6566.0",
         "57.0",
         "88.0",
         "616.0",
         "279.0",
         "4849.0",
         "28901.0",
         "50.52",
         "58.02"
        ],
        [
         "75%",
         "433.0",
         "757.0",
         "6429.0",
         "5838.75",
         "330.0",
         "616.0",
         "1250.0",
         "3757.0",
         "7025.0",
         "80.0",
         "97.0",
         "2578.0",
         "310.0",
         "7398.0",
         "32192.0",
         "60.53",
         "68.01"
        ],
        [
         "max",
         "592.0",
         "999.0",
         "20034.0",
         "8359.0",
         "449.0",
         "4523.0",
         "2000.0",
         "9728.0",
         "7117.0",
         "106.0",
         "119.0",
         "5792.0",
         "357.0",
         "17436.0",
         "41015.0",
         "101.99",
         "116.8"
        ]
       ],
       "shape": {
        "columns": 17,
        "rows": 8
       }
      },
      "text/html": [
       "<div>\n",
       "<style scoped>\n",
       "    .dataframe tbody tr th:only-of-type {\n",
       "        vertical-align: middle;\n",
       "    }\n",
       "\n",
       "    .dataframe tbody tr th {\n",
       "        vertical-align: top;\n",
       "    }\n",
       "\n",
       "    .dataframe thead th {\n",
       "        text-align: right;\n",
       "    }\n",
       "</style>\n",
       "<table border=\"1\" class=\"dataframe\">\n",
       "  <thead>\n",
       "    <tr style=\"text-align: right;\">\n",
       "      <th></th>\n",
       "      <th>generation biomass</th>\n",
       "      <th>generation fossil brown coal/lignite</th>\n",
       "      <th>generation fossil gas</th>\n",
       "      <th>generation fossil hard coal</th>\n",
       "      <th>generation fossil oil</th>\n",
       "      <th>generation hydro pumped storage consumption</th>\n",
       "      <th>generation hydro run-of-river and poundage</th>\n",
       "      <th>generation hydro water reservoir</th>\n",
       "      <th>generation nuclear</th>\n",
       "      <th>generation other</th>\n",
       "      <th>generation other renewable</th>\n",
       "      <th>generation solar</th>\n",
       "      <th>generation waste</th>\n",
       "      <th>generation wind onshore</th>\n",
       "      <th>total load actual</th>\n",
       "      <th>price day ahead</th>\n",
       "      <th>price actual</th>\n",
       "    </tr>\n",
       "  </thead>\n",
       "  <tbody>\n",
       "    <tr>\n",
       "      <th>count</th>\n",
       "      <td>35045.00</td>\n",
       "      <td>35046.00</td>\n",
       "      <td>35046.00</td>\n",
       "      <td>35046.00</td>\n",
       "      <td>35045.00</td>\n",
       "      <td>35045.00</td>\n",
       "      <td>35045.00</td>\n",
       "      <td>35046.00</td>\n",
       "      <td>35047.00</td>\n",
       "      <td>35046.00</td>\n",
       "      <td>35046.00</td>\n",
       "      <td>35046.00</td>\n",
       "      <td>35045.00</td>\n",
       "      <td>35046.00</td>\n",
       "      <td>35028.00</td>\n",
       "      <td>35064.00</td>\n",
       "      <td>35064.00</td>\n",
       "    </tr>\n",
       "    <tr>\n",
       "      <th>mean</th>\n",
       "      <td>383.51</td>\n",
       "      <td>448.06</td>\n",
       "      <td>5622.74</td>\n",
       "      <td>4256.07</td>\n",
       "      <td>298.32</td>\n",
       "      <td>475.58</td>\n",
       "      <td>972.12</td>\n",
       "      <td>2605.11</td>\n",
       "      <td>6263.91</td>\n",
       "      <td>60.23</td>\n",
       "      <td>85.64</td>\n",
       "      <td>1432.67</td>\n",
       "      <td>269.45</td>\n",
       "      <td>5464.48</td>\n",
       "      <td>28696.94</td>\n",
       "      <td>49.87</td>\n",
       "      <td>57.88</td>\n",
       "    </tr>\n",
       "    <tr>\n",
       "      <th>std</th>\n",
       "      <td>85.35</td>\n",
       "      <td>354.57</td>\n",
       "      <td>2201.83</td>\n",
       "      <td>1961.60</td>\n",
       "      <td>52.52</td>\n",
       "      <td>792.41</td>\n",
       "      <td>400.78</td>\n",
       "      <td>1835.20</td>\n",
       "      <td>839.67</td>\n",
       "      <td>20.24</td>\n",
       "      <td>14.08</td>\n",
       "      <td>1680.12</td>\n",
       "      <td>50.20</td>\n",
       "      <td>3213.69</td>\n",
       "      <td>4574.99</td>\n",
       "      <td>14.62</td>\n",
       "      <td>14.20</td>\n",
       "    </tr>\n",
       "    <tr>\n",
       "      <th>min</th>\n",
       "      <td>0.00</td>\n",
       "      <td>0.00</td>\n",
       "      <td>0.00</td>\n",
       "      <td>0.00</td>\n",
       "      <td>0.00</td>\n",
       "      <td>0.00</td>\n",
       "      <td>0.00</td>\n",
       "      <td>0.00</td>\n",
       "      <td>0.00</td>\n",
       "      <td>0.00</td>\n",
       "      <td>0.00</td>\n",
       "      <td>0.00</td>\n",
       "      <td>0.00</td>\n",
       "      <td>0.00</td>\n",
       "      <td>18041.00</td>\n",
       "      <td>2.06</td>\n",
       "      <td>9.33</td>\n",
       "    </tr>\n",
       "    <tr>\n",
       "      <th>25%</th>\n",
       "      <td>333.00</td>\n",
       "      <td>0.00</td>\n",
       "      <td>4126.00</td>\n",
       "      <td>2527.00</td>\n",
       "      <td>263.00</td>\n",
       "      <td>0.00</td>\n",
       "      <td>637.00</td>\n",
       "      <td>1077.25</td>\n",
       "      <td>5760.00</td>\n",
       "      <td>53.00</td>\n",
       "      <td>73.00</td>\n",
       "      <td>71.00</td>\n",
       "      <td>240.00</td>\n",
       "      <td>2933.00</td>\n",
       "      <td>24807.75</td>\n",
       "      <td>41.49</td>\n",
       "      <td>49.35</td>\n",
       "    </tr>\n",
       "    <tr>\n",
       "      <th>50%</th>\n",
       "      <td>367.00</td>\n",
       "      <td>509.00</td>\n",
       "      <td>4969.00</td>\n",
       "      <td>4474.00</td>\n",
       "      <td>300.00</td>\n",
       "      <td>68.00</td>\n",
       "      <td>906.00</td>\n",
       "      <td>2164.00</td>\n",
       "      <td>6566.00</td>\n",
       "      <td>57.00</td>\n",
       "      <td>88.00</td>\n",
       "      <td>616.00</td>\n",
       "      <td>279.00</td>\n",
       "      <td>4849.00</td>\n",
       "      <td>28901.00</td>\n",
       "      <td>50.52</td>\n",
       "      <td>58.02</td>\n",
       "    </tr>\n",
       "    <tr>\n",
       "      <th>75%</th>\n",
       "      <td>433.00</td>\n",
       "      <td>757.00</td>\n",
       "      <td>6429.00</td>\n",
       "      <td>5838.75</td>\n",
       "      <td>330.00</td>\n",
       "      <td>616.00</td>\n",
       "      <td>1250.00</td>\n",
       "      <td>3757.00</td>\n",
       "      <td>7025.00</td>\n",
       "      <td>80.00</td>\n",
       "      <td>97.00</td>\n",
       "      <td>2578.00</td>\n",
       "      <td>310.00</td>\n",
       "      <td>7398.00</td>\n",
       "      <td>32192.00</td>\n",
       "      <td>60.53</td>\n",
       "      <td>68.01</td>\n",
       "    </tr>\n",
       "    <tr>\n",
       "      <th>max</th>\n",
       "      <td>592.00</td>\n",
       "      <td>999.00</td>\n",
       "      <td>20034.00</td>\n",
       "      <td>8359.00</td>\n",
       "      <td>449.00</td>\n",
       "      <td>4523.00</td>\n",
       "      <td>2000.00</td>\n",
       "      <td>9728.00</td>\n",
       "      <td>7117.00</td>\n",
       "      <td>106.00</td>\n",
       "      <td>119.00</td>\n",
       "      <td>5792.00</td>\n",
       "      <td>357.00</td>\n",
       "      <td>17436.00</td>\n",
       "      <td>41015.00</td>\n",
       "      <td>101.99</td>\n",
       "      <td>116.80</td>\n",
       "    </tr>\n",
       "  </tbody>\n",
       "</table>\n",
       "</div>"
      ],
      "text/plain": [
       "       generation biomass  generation fossil brown coal/lignite  \\\n",
       "count            35045.00                              35046.00   \n",
       "mean               383.51                                448.06   \n",
       "std                 85.35                                354.57   \n",
       "min                  0.00                                  0.00   \n",
       "25%                333.00                                  0.00   \n",
       "50%                367.00                                509.00   \n",
       "75%                433.00                                757.00   \n",
       "max                592.00                                999.00   \n",
       "\n",
       "       generation fossil gas  generation fossil hard coal  \\\n",
       "count               35046.00                     35046.00   \n",
       "mean                 5622.74                      4256.07   \n",
       "std                  2201.83                      1961.60   \n",
       "min                     0.00                         0.00   \n",
       "25%                  4126.00                      2527.00   \n",
       "50%                  4969.00                      4474.00   \n",
       "75%                  6429.00                      5838.75   \n",
       "max                 20034.00                      8359.00   \n",
       "\n",
       "       generation fossil oil  generation hydro pumped storage consumption  \\\n",
       "count               35045.00                                     35045.00   \n",
       "mean                  298.32                                       475.58   \n",
       "std                    52.52                                       792.41   \n",
       "min                     0.00                                         0.00   \n",
       "25%                   263.00                                         0.00   \n",
       "50%                   300.00                                        68.00   \n",
       "75%                   330.00                                       616.00   \n",
       "max                   449.00                                      4523.00   \n",
       "\n",
       "       generation hydro run-of-river and poundage  \\\n",
       "count                                    35045.00   \n",
       "mean                                       972.12   \n",
       "std                                        400.78   \n",
       "min                                          0.00   \n",
       "25%                                        637.00   \n",
       "50%                                        906.00   \n",
       "75%                                       1250.00   \n",
       "max                                       2000.00   \n",
       "\n",
       "       generation hydro water reservoir  generation nuclear  generation other  \\\n",
       "count                          35046.00            35047.00          35046.00   \n",
       "mean                            2605.11             6263.91             60.23   \n",
       "std                             1835.20              839.67             20.24   \n",
       "min                                0.00                0.00              0.00   \n",
       "25%                             1077.25             5760.00             53.00   \n",
       "50%                             2164.00             6566.00             57.00   \n",
       "75%                             3757.00             7025.00             80.00   \n",
       "max                             9728.00             7117.00            106.00   \n",
       "\n",
       "       generation other renewable  generation solar  generation waste  \\\n",
       "count                    35046.00          35046.00          35045.00   \n",
       "mean                        85.64           1432.67            269.45   \n",
       "std                         14.08           1680.12             50.20   \n",
       "min                          0.00              0.00              0.00   \n",
       "25%                         73.00             71.00            240.00   \n",
       "50%                         88.00            616.00            279.00   \n",
       "75%                         97.00           2578.00            310.00   \n",
       "max                        119.00           5792.00            357.00   \n",
       "\n",
       "       generation wind onshore  total load actual  price day ahead  \\\n",
       "count                 35046.00           35028.00         35064.00   \n",
       "mean                   5464.48           28696.94            49.87   \n",
       "std                    3213.69            4574.99            14.62   \n",
       "min                       0.00           18041.00             2.06   \n",
       "25%                    2933.00           24807.75            41.49   \n",
       "50%                    4849.00           28901.00            50.52   \n",
       "75%                    7398.00           32192.00            60.53   \n",
       "max                   17436.00           41015.00           101.99   \n",
       "\n",
       "       price actual  \n",
       "count      35064.00  \n",
       "mean          57.88  \n",
       "std           14.20  \n",
       "min            9.33  \n",
       "25%           49.35  \n",
       "50%           58.02  \n",
       "75%           68.01  \n",
       "max          116.80  "
      ]
     },
     "execution_count": 44,
     "metadata": {},
     "output_type": "execute_result"
    }
   ],
   "source": [
    "df_energy.describe().round(2)"
   ]
  },
  {
   "cell_type": "code",
   "execution_count": 45,
   "metadata": {},
   "outputs": [
    {
     "name": "stdout",
     "output_type": "stream",
     "text": [
      "<class 'pandas.core.frame.DataFrame'>\n",
      "RangeIndex: 35064 entries, 0 to 35063\n",
      "Data columns (total 18 columns):\n",
      " #   Column                                       Non-Null Count  Dtype  \n",
      "---  ------                                       --------------  -----  \n",
      " 0   time                                         35064 non-null  object \n",
      " 1   generation biomass                           35045 non-null  float64\n",
      " 2   generation fossil brown coal/lignite         35046 non-null  float64\n",
      " 3   generation fossil gas                        35046 non-null  float64\n",
      " 4   generation fossil hard coal                  35046 non-null  float64\n",
      " 5   generation fossil oil                        35045 non-null  float64\n",
      " 6   generation hydro pumped storage consumption  35045 non-null  float64\n",
      " 7   generation hydro run-of-river and poundage   35045 non-null  float64\n",
      " 8   generation hydro water reservoir             35046 non-null  float64\n",
      " 9   generation nuclear                           35047 non-null  float64\n",
      " 10  generation other                             35046 non-null  float64\n",
      " 11  generation other renewable                   35046 non-null  float64\n",
      " 12  generation solar                             35046 non-null  float64\n",
      " 13  generation waste                             35045 non-null  float64\n",
      " 14  generation wind onshore                      35046 non-null  float64\n",
      " 15  total load actual                            35028 non-null  float64\n",
      " 16  price day ahead                              35064 non-null  float64\n",
      " 17  price actual                                 35064 non-null  float64\n",
      "dtypes: float64(17), object(1)\n",
      "memory usage: 4.8+ MB\n"
     ]
    }
   ],
   "source": [
    "df_energy.info()"
   ]
  },
  {
   "cell_type": "code",
   "execution_count": 46,
   "metadata": {},
   "outputs": [],
   "source": [
    "# Convert time to datetime object and set it as index\n",
    "\n",
    "df_energy['time'] = pd.to_datetime(df_energy['time'], utc=True)\n",
    "df_energy = df_energy.set_index('time')"
   ]
  },
  {
   "cell_type": "code",
   "execution_count": 47,
   "metadata": {},
   "outputs": [
    {
     "name": "stdout",
     "output_type": "stream",
     "text": [
      "There are 292 missing values or NaNs in df_energy.\n",
      "There are 0 duplicate rows in df_energy based on all columns.\n"
     ]
    }
   ],
   "source": [
    "# Find NaNs and duplicates in df_energy\n",
    "\n",
    "print('There are {} missing values or NaNs in df_energy.'\n",
    "      .format(df_energy.isnull().values.sum()))\n",
    "\n",
    "temp_energy = df_energy.duplicated(keep='first').sum()\n",
    "\n",
    "print('There are {} duplicate rows in df_energy based on all columns.'\n",
    "      .format(temp_energy))"
   ]
  },
  {
   "cell_type": "code",
   "execution_count": 48,
   "metadata": {},
   "outputs": [
    {
     "data": {
      "text/plain": [
       "generation biomass                             19\n",
       "generation fossil brown coal/lignite           18\n",
       "generation fossil gas                          18\n",
       "generation fossil hard coal                    18\n",
       "generation fossil oil                          19\n",
       "generation hydro pumped storage consumption    19\n",
       "generation hydro run-of-river and poundage     19\n",
       "generation hydro water reservoir               18\n",
       "generation nuclear                             17\n",
       "generation other                               18\n",
       "generation other renewable                     18\n",
       "generation solar                               18\n",
       "generation waste                               19\n",
       "generation wind onshore                        18\n",
       "total load actual                              36\n",
       "price day ahead                                 0\n",
       "price actual                                    0\n",
       "dtype: int64"
      ]
     },
     "execution_count": 48,
     "metadata": {},
     "output_type": "execute_result"
    }
   ],
   "source": [
    "# Find the number of NaNs in each column\n",
    "\n",
    "df_energy.isnull().sum(axis=0)"
   ]
  },
  {
   "cell_type": "code",
   "execution_count": 49,
   "metadata": {},
   "outputs": [],
   "source": [
    "# Define a function to plot different types of time-series\n",
    "\n",
    "def plot_series(df=None, column=None, series=pd.Series([]), \n",
    "                label=None, ylabel=None, title=None, start=0, end=None):\n",
    "    \"\"\"\n",
    "    Plots a certain time-series which has either been loaded in a dataframe\n",
    "    and which constitutes one of its columns or it a custom pandas series \n",
    "    created by the user. The user can define either the 'df' and the 'column' \n",
    "    or the 'series' and additionally, can also define the 'label', the \n",
    "    'ylabel', the 'title', the 'start' and the 'end' of the plot.\n",
    "    \"\"\"\n",
    "    sns.set()\n",
    "    fig, ax = plt.subplots(figsize=(30, 12))\n",
    "    ax.set_xlabel('Time', fontsize=16)\n",
    "    if column:\n",
    "        ax.plot(df[column][start:end], label=label)\n",
    "        ax.set_ylabel(ylabel, fontsize=16)\n",
    "    if series.any():\n",
    "        ax.plot(series, label=label)\n",
    "        ax.set_ylabel(ylabel, fontsize=16)\n",
    "    if label:\n",
    "        ax.legend(fontsize=16)\n",
    "    if title:\n",
    "        ax.set_title(title, fontsize=24)\n",
    "    ax.grid(True)\n",
    "    return ax"
   ]
  },
  {
   "cell_type": "code",
   "execution_count": 50,
   "metadata": {},
   "outputs": [
    {
     "data": {
      "image/png": "[encoded data removed]",
      "text/plain": [
       "<Figure size 3000x1200 with 1 Axes>"
      ]
     },
     "metadata": {},
     "output_type": "display_data"
    }
   ],
   "source": [
    "# Zoom into the plot of the hourly (actual) total load\n",
    "\n",
    "ax = plot_series(df=df_energy, column='total load actual', ylabel='Total Load (MWh)',\n",
    "                 title='Actual Total Load (First 2 weeks - Original)', end=24*7*2)\n",
    "plt.show()"
   ]
  },
  {
   "cell_type": "code",
   "execution_count": 51,
   "metadata": {},
   "outputs": [
    {
     "data": {
      "application/vnd.microsoft.datawrangler.viewer.v0+json": {
       "columns": [
        {
         "name": "time",
         "rawType": "datetime64[ns, UTC]",
         "type": "unknown"
        },
        {
         "name": "generation biomass",
         "rawType": "float64",
         "type": "float"
        },
        {
         "name": "generation fossil brown coal/lignite",
         "rawType": "float64",
         "type": "float"
        },
        {
         "name": "generation fossil gas",
         "rawType": "float64",
         "type": "float"
        },
        {
         "name": "generation fossil hard coal",
         "rawType": "float64",
         "type": "float"
        },
        {
         "name": "generation fossil oil",
         "rawType": "float64",
         "type": "float"
        },
        {
         "name": "generation hydro pumped storage consumption",
         "rawType": "float64",
         "type": "float"
        },
        {
         "name": "generation hydro run-of-river and poundage",
         "rawType": "float64",
         "type": "float"
        },
        {
         "name": "generation hydro water reservoir",
         "rawType": "float64",
         "type": "float"
        },
        {
         "name": "generation nuclear",
         "rawType": "float64",
         "type": "float"
        },
        {
         "name": "generation other",
         "rawType": "float64",
         "type": "float"
        },
        {
         "name": "generation other renewable",
         "rawType": "float64",
         "type": "float"
        },
        {
         "name": "generation solar",
         "rawType": "float64",
         "type": "float"
        },
        {
         "name": "generation waste",
         "rawType": "float64",
         "type": "float"
        },
        {
         "name": "generation wind onshore",
         "rawType": "float64",
         "type": "float"
        },
        {
         "name": "total load actual",
         "rawType": "float64",
         "type": "float"
        },
        {
         "name": "price day ahead",
         "rawType": "float64",
         "type": "float"
        },
        {
         "name": "price actual",
         "rawType": "float64",
         "type": "float"
        }
       ],
       "conversionMethod": "pd.DataFrame",
       "ref": "9a741722-3add-46a7-b013-e669202b2a9a",
       "rows": [
        [
         "2016-11-23 03:00:00+00:00",
         null,
         "900.0",
         "4838.0",
         "4547.0",
         "269.0",
         "1413.0",
         "795.0",
         "435.0",
         "5040.0",
         "60.0",
         "85.0",
         "15.0",
         "227.0",
         "4598.0",
         "23112.0",
         "43.19",
         "49.11"
        ],
        [
         "2017-11-14 11:00:00+00:00",
         "0.0",
         "0.0",
         "10064.0",
         "0.0",
         "0.0",
         "0.0",
         "0.0",
         "0.0",
         "0.0",
         "0.0",
         "0.0",
         "0.0",
         "0.0",
         "0.0",
         null,
         "60.53",
         "66.17"
        ],
        [
         "2017-11-14 18:00:00+00:00",
         "0.0",
         "0.0",
         "12336.0",
         "0.0",
         "0.0",
         "0.0",
         "0.0",
         "0.0",
         "0.0",
         "0.0",
         "0.0",
         "0.0",
         "0.0",
         "0.0",
         null,
         "68.05",
         "75.45"
        ],
        [
         "2018-06-11 16:00:00+00:00",
         "331.0",
         "506.0",
         "7538.0",
         "5360.0",
         "300.0",
         "1.0",
         "1134.0",
         "4258.0",
         "5856.0",
         "52.0",
         "96.0",
         "170.0",
         "269.0",
         "9165.0",
         null,
         "69.87",
         "64.93"
        ],
        [
         "2018-07-11 07:00:00+00:00",
         null,
         null,
         null,
         null,
         null,
         null,
         null,
         null,
         null,
         null,
         null,
         null,
         null,
         null,
         null,
         "63.01",
         "69.79"
        ]
       ],
       "shape": {
        "columns": 17,
        "rows": 5
       }
      },
      "text/html": [
       "<div>\n",
       "<style scoped>\n",
       "    .dataframe tbody tr th:only-of-type {\n",
       "        vertical-align: middle;\n",
       "    }\n",
       "\n",
       "    .dataframe tbody tr th {\n",
       "        vertical-align: top;\n",
       "    }\n",
       "\n",
       "    .dataframe thead th {\n",
       "        text-align: right;\n",
       "    }\n",
       "</style>\n",
       "<table border=\"1\" class=\"dataframe\">\n",
       "  <thead>\n",
       "    <tr style=\"text-align: right;\">\n",
       "      <th></th>\n",
       "      <th>generation biomass</th>\n",
       "      <th>generation fossil brown coal/lignite</th>\n",
       "      <th>generation fossil gas</th>\n",
       "      <th>generation fossil hard coal</th>\n",
       "      <th>generation fossil oil</th>\n",
       "      <th>generation hydro pumped storage consumption</th>\n",
       "      <th>generation hydro run-of-river and poundage</th>\n",
       "      <th>generation hydro water reservoir</th>\n",
       "      <th>generation nuclear</th>\n",
       "      <th>generation other</th>\n",
       "      <th>generation other renewable</th>\n",
       "      <th>generation solar</th>\n",
       "      <th>generation waste</th>\n",
       "      <th>generation wind onshore</th>\n",
       "      <th>total load actual</th>\n",
       "      <th>price day ahead</th>\n",
       "      <th>price actual</th>\n",
       "    </tr>\n",
       "    <tr>\n",
       "      <th>time</th>\n",
       "      <th></th>\n",
       "      <th></th>\n",
       "      <th></th>\n",
       "      <th></th>\n",
       "      <th></th>\n",
       "      <th></th>\n",
       "      <th></th>\n",
       "      <th></th>\n",
       "      <th></th>\n",
       "      <th></th>\n",
       "      <th></th>\n",
       "      <th></th>\n",
       "      <th></th>\n",
       "      <th></th>\n",
       "      <th></th>\n",
       "      <th></th>\n",
       "      <th></th>\n",
       "    </tr>\n",
       "  </thead>\n",
       "  <tbody>\n",
       "    <tr>\n",
       "      <th>2016-11-23 03:00:00+00:00</th>\n",
       "      <td>NaN</td>\n",
       "      <td>900.0</td>\n",
       "      <td>4838.0</td>\n",
       "      <td>4547.0</td>\n",
       "      <td>269.0</td>\n",
       "      <td>1413.0</td>\n",
       "      <td>795.0</td>\n",
       "      <td>435.0</td>\n",
       "      <td>5040.0</td>\n",
       "      <td>60.0</td>\n",
       "      <td>85.0</td>\n",
       "      <td>15.0</td>\n",
       "      <td>227.0</td>\n",
       "      <td>4598.0</td>\n",
       "      <td>23112.0</td>\n",
       "      <td>43.19</td>\n",
       "      <td>49.11</td>\n",
       "    </tr>\n",
       "    <tr>\n",
       "      <th>2017-11-14 11:00:00+00:00</th>\n",
       "      <td>0.0</td>\n",
       "      <td>0.0</td>\n",
       "      <td>10064.0</td>\n",
       "      <td>0.0</td>\n",
       "      <td>0.0</td>\n",
       "      <td>0.0</td>\n",
       "      <td>0.0</td>\n",
       "      <td>0.0</td>\n",
       "      <td>0.0</td>\n",
       "      <td>0.0</td>\n",
       "      <td>0.0</td>\n",
       "      <td>0.0</td>\n",
       "      <td>0.0</td>\n",
       "      <td>0.0</td>\n",
       "      <td>NaN</td>\n",
       "      <td>60.53</td>\n",
       "      <td>66.17</td>\n",
       "    </tr>\n",
       "    <tr>\n",
       "      <th>2017-11-14 18:00:00+00:00</th>\n",
       "      <td>0.0</td>\n",
       "      <td>0.0</td>\n",
       "      <td>12336.0</td>\n",
       "      <td>0.0</td>\n",
       "      <td>0.0</td>\n",
       "      <td>0.0</td>\n",
       "      <td>0.0</td>\n",
       "      <td>0.0</td>\n",
       "      <td>0.0</td>\n",
       "      <td>0.0</td>\n",
       "      <td>0.0</td>\n",
       "      <td>0.0</td>\n",
       "      <td>0.0</td>\n",
       "      <td>0.0</td>\n",
       "      <td>NaN</td>\n",
       "      <td>68.05</td>\n",
       "      <td>75.45</td>\n",
       "    </tr>\n",
       "    <tr>\n",
       "      <th>2018-06-11 16:00:00+00:00</th>\n",
       "      <td>331.0</td>\n",
       "      <td>506.0</td>\n",
       "      <td>7538.0</td>\n",
       "      <td>5360.0</td>\n",
       "      <td>300.0</td>\n",
       "      <td>1.0</td>\n",
       "      <td>1134.0</td>\n",
       "      <td>4258.0</td>\n",
       "      <td>5856.0</td>\n",
       "      <td>52.0</td>\n",
       "      <td>96.0</td>\n",
       "      <td>170.0</td>\n",
       "      <td>269.0</td>\n",
       "      <td>9165.0</td>\n",
       "      <td>NaN</td>\n",
       "      <td>69.87</td>\n",
       "      <td>64.93</td>\n",
       "    </tr>\n",
       "    <tr>\n",
       "      <th>2018-07-11 07:00:00+00:00</th>\n",
       "      <td>NaN</td>\n",
       "      <td>NaN</td>\n",
       "      <td>NaN</td>\n",
       "      <td>NaN</td>\n",
       "      <td>NaN</td>\n",
       "      <td>NaN</td>\n",
       "      <td>NaN</td>\n",
       "      <td>NaN</td>\n",
       "      <td>NaN</td>\n",
       "      <td>NaN</td>\n",
       "      <td>NaN</td>\n",
       "      <td>NaN</td>\n",
       "      <td>NaN</td>\n",
       "      <td>NaN</td>\n",
       "      <td>NaN</td>\n",
       "      <td>63.01</td>\n",
       "      <td>69.79</td>\n",
       "    </tr>\n",
       "  </tbody>\n",
       "</table>\n",
       "</div>"
      ],
      "text/plain": [
       "                           generation biomass  \\\n",
       "time                                            \n",
       "2016-11-23 03:00:00+00:00                 NaN   \n",
       "2017-11-14 11:00:00+00:00                 0.0   \n",
       "2017-11-14 18:00:00+00:00                 0.0   \n",
       "2018-06-11 16:00:00+00:00               331.0   \n",
       "2018-07-11 07:00:00+00:00                 NaN   \n",
       "\n",
       "                           generation fossil brown coal/lignite  \\\n",
       "time                                                              \n",
       "2016-11-23 03:00:00+00:00                                 900.0   \n",
       "2017-11-14 11:00:00+00:00                                   0.0   \n",
       "2017-11-14 18:00:00+00:00                                   0.0   \n",
       "2018-06-11 16:00:00+00:00                                 506.0   \n",
       "2018-07-11 07:00:00+00:00                                   NaN   \n",
       "\n",
       "                           generation fossil gas  generation fossil hard coal  \\\n",
       "time                                                                            \n",
       "2016-11-23 03:00:00+00:00                 4838.0                       4547.0   \n",
       "2017-11-14 11:00:00+00:00                10064.0                          0.0   \n",
       "2017-11-14 18:00:00+00:00                12336.0                          0.0   \n",
       "2018-06-11 16:00:00+00:00                 7538.0                       5360.0   \n",
       "2018-07-11 07:00:00+00:00                    NaN                          NaN   \n",
       "\n",
       "                           generation fossil oil  \\\n",
       "time                                               \n",
       "2016-11-23 03:00:00+00:00                  269.0   \n",
       "2017-11-14 11:00:00+00:00                    0.0   \n",
       "2017-11-14 18:00:00+00:00                    0.0   \n",
       "2018-06-11 16:00:00+00:00                  300.0   \n",
       "2018-07-11 07:00:00+00:00                    NaN   \n",
       "\n",
       "                           generation hydro pumped storage consumption  \\\n",
       "time                                                                     \n",
       "2016-11-23 03:00:00+00:00                                       1413.0   \n",
       "2017-11-14 11:00:00+00:00                                          0.0   \n",
       "2017-11-14 18:00:00+00:00                                          0.0   \n",
       "2018-06-11 16:00:00+00:00                                          1.0   \n",
       "2018-07-11 07:00:00+00:00                                          NaN   \n",
       "\n",
       "                           generation hydro run-of-river and poundage  \\\n",
       "time                                                                    \n",
       "2016-11-23 03:00:00+00:00                                       795.0   \n",
       "2017-11-14 11:00:00+00:00                                         0.0   \n",
       "2017-11-14 18:00:00+00:00                                         0.0   \n",
       "2018-06-11 16:00:00+00:00                                      1134.0   \n",
       "2018-07-11 07:00:00+00:00                                         NaN   \n",
       "\n",
       "                           generation hydro water reservoir  \\\n",
       "time                                                          \n",
       "2016-11-23 03:00:00+00:00                             435.0   \n",
       "2017-11-14 11:00:00+00:00                               0.0   \n",
       "2017-11-14 18:00:00+00:00                               0.0   \n",
       "2018-06-11 16:00:00+00:00                            4258.0   \n",
       "2018-07-11 07:00:00+00:00                               NaN   \n",
       "\n",
       "                           generation nuclear  generation other  \\\n",
       "time                                                              \n",
       "2016-11-23 03:00:00+00:00              5040.0              60.0   \n",
       "2017-11-14 11:00:00+00:00                 0.0               0.0   \n",
       "2017-11-14 18:00:00+00:00                 0.0               0.0   \n",
       "2018-06-11 16:00:00+00:00              5856.0              52.0   \n",
       "2018-07-11 07:00:00+00:00                 NaN               NaN   \n",
       "\n",
       "                           generation other renewable  generation solar  \\\n",
       "time                                                                      \n",
       "2016-11-23 03:00:00+00:00                        85.0              15.0   \n",
       "2017-11-14 11:00:00+00:00                         0.0               0.0   \n",
       "2017-11-14 18:00:00+00:00                         0.0               0.0   \n",
       "2018-06-11 16:00:00+00:00                        96.0             170.0   \n",
       "2018-07-11 07:00:00+00:00                         NaN               NaN   \n",
       "\n",
       "                           generation waste  generation wind onshore  \\\n",
       "time                                                                   \n",
       "2016-11-23 03:00:00+00:00             227.0                   4598.0   \n",
       "2017-11-14 11:00:00+00:00               0.0                      0.0   \n",
       "2017-11-14 18:00:00+00:00               0.0                      0.0   \n",
       "2018-06-11 16:00:00+00:00             269.0                   9165.0   \n",
       "2018-07-11 07:00:00+00:00               NaN                      NaN   \n",
       "\n",
       "                           total load actual  price day ahead  price actual  \n",
       "time                                                                         \n",
       "2016-11-23 03:00:00+00:00            23112.0            43.19         49.11  \n",
       "2017-11-14 11:00:00+00:00                NaN            60.53         66.17  \n",
       "2017-11-14 18:00:00+00:00                NaN            68.05         75.45  \n",
       "2018-06-11 16:00:00+00:00                NaN            69.87         64.93  \n",
       "2018-07-11 07:00:00+00:00                NaN            63.01         69.79  "
      ]
     },
     "execution_count": 51,
     "metadata": {},
     "output_type": "execute_result"
    }
   ],
   "source": [
    "# Display the rows with null values\n",
    "df_energy[df_energy.isnull().any(axis=1)].tail()"
   ]
  },
  {
   "cell_type": "code",
   "execution_count": 52,
   "metadata": {},
   "outputs": [],
   "source": [
    "# Fill null values using interpolation\n",
    "\n",
    "df_energy.interpolate(method='linear', limit_direction='forward', inplace=True, axis=0)"
   ]
  },
  {
   "cell_type": "code",
   "execution_count": 53,
   "metadata": {},
   "outputs": [
    {
     "name": "stdout",
     "output_type": "stream",
     "text": [
      "Non-zero values in each column:\n",
      "\n",
      "generation biomass                             35060\n",
      "generation fossil brown coal/lignite           24540\n",
      "generation fossil gas                          35063\n",
      "generation fossil hard coal                    35061\n",
      "generation fossil oil                          35061\n",
      "generation hydro pumped storage consumption    22450\n",
      "generation hydro run-of-river and poundage     35061\n",
      "generation hydro water reservoir               35061\n",
      "generation nuclear                             35061\n",
      "generation other                               35060\n",
      "generation other renewable                     35061\n",
      "generation solar                               35061\n",
      "generation waste                               35061\n",
      "generation wind onshore                        35061\n",
      "total load actual                              35064\n",
      "price day ahead                                35064\n",
      "price actual                                   35064\n",
      "dtype: int64\n"
     ]
    }
   ],
   "source": [
    "# Display the number of non-zero values in each column\n",
    "\n",
    "print('Non-zero values in each column:\\n', df_energy.astype(bool).sum(axis=0), sep='\\n')"
   ]
  },
  {
   "cell_type": "markdown",
   "metadata": {},
   "source": [
    "## 1.2 Weather features dataset"
   ]
  },
  {
   "cell_type": "code",
   "execution_count": 54,
   "metadata": {},
   "outputs": [
    {
     "data": {
      "application/vnd.microsoft.datawrangler.viewer.v0+json": {
       "columns": [
        {
         "name": "index",
         "rawType": "int64",
         "type": "integer"
        },
        {
         "name": "dt_iso",
         "rawType": "object",
         "type": "string"
        },
        {
         "name": "city_name",
         "rawType": "object",
         "type": "string"
        },
        {
         "name": "temp",
         "rawType": "float64",
         "type": "float"
        },
        {
         "name": "temp_min",
         "rawType": "float64",
         "type": "float"
        },
        {
         "name": "temp_max",
         "rawType": "float64",
         "type": "float"
        },
        {
         "name": "pressure",
         "rawType": "int64",
         "type": "integer"
        },
        {
         "name": "humidity",
         "rawType": "int64",
         "type": "integer"
        },
        {
         "name": "wind_speed",
         "rawType": "int64",
         "type": "integer"
        },
        {
         "name": "wind_deg",
         "rawType": "int64",
         "type": "integer"
        },
        {
         "name": "rain_1h",
         "rawType": "float64",
         "type": "float"
        },
        {
         "name": "rain_3h",
         "rawType": "float64",
         "type": "float"
        },
        {
         "name": "snow_3h",
         "rawType": "float64",
         "type": "float"
        },
        {
         "name": "clouds_all",
         "rawType": "int64",
         "type": "integer"
        },
        {
         "name": "weather_id",
         "rawType": "int64",
         "type": "integer"
        },
        {
         "name": "weather_main",
         "rawType": "object",
         "type": "string"
        },
        {
         "name": "weather_description",
         "rawType": "object",
         "type": "string"
        },
        {
         "name": "weather_icon",
         "rawType": "object",
         "type": "string"
        }
       ],
       "conversionMethod": "pd.DataFrame",
       "ref": "d63dd7ae-94eb-4000-823c-a49689b78a8c",
       "rows": [
        [
         "0",
         "2015-01-01 00:00:00+01:00",
         "Valencia",
         "270.475",
         "270.475",
         "270.475",
         "1001",
         "77",
         "1",
         "62",
         "0.0",
         "0.0",
         "0.0",
         "0",
         "800",
         "clear",
         "sky is clear",
         "01n"
        ],
        [
         "1",
         "2015-01-01 01:00:00+01:00",
         "Valencia",
         "270.475",
         "270.475",
         "270.475",
         "1001",
         "77",
         "1",
         "62",
         "0.0",
         "0.0",
         "0.0",
         "0",
         "800",
         "clear",
         "sky is clear",
         "01n"
        ],
        [
         "2",
         "2015-01-01 02:00:00+01:00",
         "Valencia",
         "269.686",
         "269.686",
         "269.686",
         "1002",
         "78",
         "0",
         "23",
         "0.0",
         "0.0",
         "0.0",
         "0",
         "800",
         "clear",
         "sky is clear",
         "01n"
        ],
        [
         "3",
         "2015-01-01 03:00:00+01:00",
         "Valencia",
         "269.686",
         "269.686",
         "269.686",
         "1002",
         "78",
         "0",
         "23",
         "0.0",
         "0.0",
         "0.0",
         "0",
         "800",
         "clear",
         "sky is clear",
         "01n"
        ],
        [
         "4",
         "2015-01-01 04:00:00+01:00",
         "Valencia",
         "269.686",
         "269.686",
         "269.686",
         "1002",
         "78",
         "0",
         "23",
         "0.0",
         "0.0",
         "0.0",
         "0",
         "800",
         "clear",
         "sky is clear",
         "01n"
        ]
       ],
       "shape": {
        "columns": 17,
        "rows": 5
       }
      },
      "text/html": [
       "<div>\n",
       "<style scoped>\n",
       "    .dataframe tbody tr th:only-of-type {\n",
       "        vertical-align: middle;\n",
       "    }\n",
       "\n",
       "    .dataframe tbody tr th {\n",
       "        vertical-align: top;\n",
       "    }\n",
       "\n",
       "    .dataframe thead th {\n",
       "        text-align: right;\n",
       "    }\n",
       "</style>\n",
       "<table border=\"1\" class=\"dataframe\">\n",
       "  <thead>\n",
       "    <tr style=\"text-align: right;\">\n",
       "      <th></th>\n",
       "      <th>dt_iso</th>\n",
       "      <th>city_name</th>\n",
       "      <th>temp</th>\n",
       "      <th>temp_min</th>\n",
       "      <th>temp_max</th>\n",
       "      <th>pressure</th>\n",
       "      <th>humidity</th>\n",
       "      <th>wind_speed</th>\n",
       "      <th>wind_deg</th>\n",
       "      <th>rain_1h</th>\n",
       "      <th>rain_3h</th>\n",
       "      <th>snow_3h</th>\n",
       "      <th>clouds_all</th>\n",
       "      <th>weather_id</th>\n",
       "      <th>weather_main</th>\n",
       "      <th>weather_description</th>\n",
       "      <th>weather_icon</th>\n",
       "    </tr>\n",
       "  </thead>\n",
       "  <tbody>\n",
       "    <tr>\n",
       "      <th>0</th>\n",
       "      <td>2015-01-01 00:00:00+01:00</td>\n",
       "      <td>Valencia</td>\n",
       "      <td>270.475</td>\n",
       "      <td>270.475</td>\n",
       "      <td>270.475</td>\n",
       "      <td>1001</td>\n",
       "      <td>77</td>\n",
       "      <td>1</td>\n",
       "      <td>62</td>\n",
       "      <td>0.0</td>\n",
       "      <td>0.0</td>\n",
       "      <td>0.0</td>\n",
       "      <td>0</td>\n",
       "      <td>800</td>\n",
       "      <td>clear</td>\n",
       "      <td>sky is clear</td>\n",
       "      <td>01n</td>\n",
       "    </tr>\n",
       "    <tr>\n",
       "      <th>1</th>\n",
       "      <td>2015-01-01 01:00:00+01:00</td>\n",
       "      <td>Valencia</td>\n",
       "      <td>270.475</td>\n",
       "      <td>270.475</td>\n",
       "      <td>270.475</td>\n",
       "      <td>1001</td>\n",
       "      <td>77</td>\n",
       "      <td>1</td>\n",
       "      <td>62</td>\n",
       "      <td>0.0</td>\n",
       "      <td>0.0</td>\n",
       "      <td>0.0</td>\n",
       "      <td>0</td>\n",
       "      <td>800</td>\n",
       "      <td>clear</td>\n",
       "      <td>sky is clear</td>\n",
       "      <td>01n</td>\n",
       "    </tr>\n",
       "    <tr>\n",
       "      <th>2</th>\n",
       "      <td>2015-01-01 02:00:00+01:00</td>\n",
       "      <td>Valencia</td>\n",
       "      <td>269.686</td>\n",
       "      <td>269.686</td>\n",
       "      <td>269.686</td>\n",
       "      <td>1002</td>\n",
       "      <td>78</td>\n",
       "      <td>0</td>\n",
       "      <td>23</td>\n",
       "      <td>0.0</td>\n",
       "      <td>0.0</td>\n",
       "      <td>0.0</td>\n",
       "      <td>0</td>\n",
       "      <td>800</td>\n",
       "      <td>clear</td>\n",
       "      <td>sky is clear</td>\n",
       "      <td>01n</td>\n",
       "    </tr>\n",
       "    <tr>\n",
       "      <th>3</th>\n",
       "      <td>2015-01-01 03:00:00+01:00</td>\n",
       "      <td>Valencia</td>\n",
       "      <td>269.686</td>\n",
       "      <td>269.686</td>\n",
       "      <td>269.686</td>\n",
       "      <td>1002</td>\n",
       "      <td>78</td>\n",
       "      <td>0</td>\n",
       "      <td>23</td>\n",
       "      <td>0.0</td>\n",
       "      <td>0.0</td>\n",
       "      <td>0.0</td>\n",
       "      <td>0</td>\n",
       "      <td>800</td>\n",
       "      <td>clear</td>\n",
       "      <td>sky is clear</td>\n",
       "      <td>01n</td>\n",
       "    </tr>\n",
       "    <tr>\n",
       "      <th>4</th>\n",
       "      <td>2015-01-01 04:00:00+01:00</td>\n",
       "      <td>Valencia</td>\n",
       "      <td>269.686</td>\n",
       "      <td>269.686</td>\n",
       "      <td>269.686</td>\n",
       "      <td>1002</td>\n",
       "      <td>78</td>\n",
       "      <td>0</td>\n",
       "      <td>23</td>\n",
       "      <td>0.0</td>\n",
       "      <td>0.0</td>\n",
       "      <td>0.0</td>\n",
       "      <td>0</td>\n",
       "      <td>800</td>\n",
       "      <td>clear</td>\n",
       "      <td>sky is clear</td>\n",
       "      <td>01n</td>\n",
       "    </tr>\n",
       "  </tbody>\n",
       "</table>\n",
       "</div>"
      ],
      "text/plain": [
       "                      dt_iso city_name     temp  temp_min  temp_max  pressure  \\\n",
       "0  2015-01-01 00:00:00+01:00  Valencia  270.475   270.475   270.475      1001   \n",
       "1  2015-01-01 01:00:00+01:00  Valencia  270.475   270.475   270.475      1001   \n",
       "2  2015-01-01 02:00:00+01:00  Valencia  269.686   269.686   269.686      1002   \n",
       "3  2015-01-01 03:00:00+01:00  Valencia  269.686   269.686   269.686      1002   \n",
       "4  2015-01-01 04:00:00+01:00  Valencia  269.686   269.686   269.686      1002   \n",
       "\n",
       "   humidity  wind_speed  wind_deg  rain_1h  rain_3h  snow_3h  clouds_all  \\\n",
       "0        77           1        62      0.0      0.0      0.0           0   \n",
       "1        77           1        62      0.0      0.0      0.0           0   \n",
       "2        78           0        23      0.0      0.0      0.0           0   \n",
       "3        78           0        23      0.0      0.0      0.0           0   \n",
       "4        78           0        23      0.0      0.0      0.0           0   \n",
       "\n",
       "   weather_id weather_main weather_description weather_icon  \n",
       "0         800        clear        sky is clear          01n  \n",
       "1         800        clear        sky is clear          01n  \n",
       "2         800        clear        sky is clear          01n  \n",
       "3         800        clear        sky is clear          01n  \n",
       "4         800        clear        sky is clear          01n  "
      ]
     },
     "execution_count": 54,
     "metadata": {},
     "output_type": "execute_result"
    }
   ],
   "source": [
    "df_weather.head() "
   ]
  },
  {
   "cell_type": "code",
   "execution_count": 55,
   "metadata": {},
   "outputs": [
    {
     "data": {
      "application/vnd.microsoft.datawrangler.viewer.v0+json": {
       "columns": [
        {
         "name": "index",
         "rawType": "object",
         "type": "string"
        },
        {
         "name": "temp",
         "rawType": "float64",
         "type": "float"
        },
        {
         "name": "temp_min",
         "rawType": "float64",
         "type": "float"
        },
        {
         "name": "temp_max",
         "rawType": "float64",
         "type": "float"
        },
        {
         "name": "pressure",
         "rawType": "float64",
         "type": "float"
        },
        {
         "name": "humidity",
         "rawType": "float64",
         "type": "float"
        },
        {
         "name": "wind_speed",
         "rawType": "float64",
         "type": "float"
        },
        {
         "name": "wind_deg",
         "rawType": "float64",
         "type": "float"
        },
        {
         "name": "rain_1h",
         "rawType": "float64",
         "type": "float"
        },
        {
         "name": "rain_3h",
         "rawType": "float64",
         "type": "float"
        },
        {
         "name": "snow_3h",
         "rawType": "float64",
         "type": "float"
        },
        {
         "name": "clouds_all",
         "rawType": "float64",
         "type": "float"
        },
        {
         "name": "weather_id",
         "rawType": "float64",
         "type": "float"
        }
       ],
       "conversionMethod": "pd.DataFrame",
       "ref": "bd070e74-dca9-4bb0-a947-758ce6785d6e",
       "rows": [
        [
         "count",
         "178396.0",
         "178396.0",
         "178396.0",
         "178396.0",
         "178396.0",
         "178396.0",
         "178396.0",
         "178396.0",
         "178396.0",
         "178396.0",
         "178396.0",
         "178396.0"
        ],
        [
         "mean",
         "289.62",
         "288.33",
         "291.09",
         "1069.26",
         "68.42",
         "2.47",
         "166.59",
         "0.08",
         "0.0",
         "0.0",
         "25.07",
         "759.83"
        ],
        [
         "std",
         "8.03",
         "7.96",
         "8.61",
         "5969.63",
         "21.9",
         "2.1",
         "116.61",
         "0.4",
         "0.01",
         "0.22",
         "30.77",
         "108.73"
        ],
        [
         "min",
         "262.24",
         "262.24",
         "262.24",
         "0.0",
         "0.0",
         "0.0",
         "0.0",
         "0.0",
         "0.0",
         "0.0",
         "0.0",
         "200.0"
        ],
        [
         "25%",
         "283.67",
         "282.48",
         "284.65",
         "1013.0",
         "53.0",
         "1.0",
         "55.0",
         "0.0",
         "0.0",
         "0.0",
         "0.0",
         "800.0"
        ],
        [
         "50%",
         "289.15",
         "288.15",
         "290.15",
         "1018.0",
         "72.0",
         "2.0",
         "177.0",
         "0.0",
         "0.0",
         "0.0",
         "20.0",
         "800.0"
        ],
        [
         "75%",
         "295.15",
         "293.73",
         "297.15",
         "1022.0",
         "87.0",
         "4.0",
         "270.0",
         "0.0",
         "0.0",
         "0.0",
         "40.0",
         "801.0"
        ],
        [
         "max",
         "315.6",
         "315.15",
         "321.15",
         "1008371.0",
         "100.0",
         "133.0",
         "360.0",
         "12.0",
         "2.32",
         "21.5",
         "100.0",
         "804.0"
        ]
       ],
       "shape": {
        "columns": 12,
        "rows": 8
       }
      },
      "text/html": [
       "<div>\n",
       "<style scoped>\n",
       "    .dataframe tbody tr th:only-of-type {\n",
       "        vertical-align: middle;\n",
       "    }\n",
       "\n",
       "    .dataframe tbody tr th {\n",
       "        vertical-align: top;\n",
       "    }\n",
       "\n",
       "    .dataframe thead th {\n",
       "        text-align: right;\n",
       "    }\n",
       "</style>\n",
       "<table border=\"1\" class=\"dataframe\">\n",
       "  <thead>\n",
       "    <tr style=\"text-align: right;\">\n",
       "      <th></th>\n",
       "      <th>temp</th>\n",
       "      <th>temp_min</th>\n",
       "      <th>temp_max</th>\n",
       "      <th>pressure</th>\n",
       "      <th>humidity</th>\n",
       "      <th>wind_speed</th>\n",
       "      <th>wind_deg</th>\n",
       "      <th>rain_1h</th>\n",
       "      <th>rain_3h</th>\n",
       "      <th>snow_3h</th>\n",
       "      <th>clouds_all</th>\n",
       "      <th>weather_id</th>\n",
       "    </tr>\n",
       "  </thead>\n",
       "  <tbody>\n",
       "    <tr>\n",
       "      <th>count</th>\n",
       "      <td>178396.00</td>\n",
       "      <td>178396.00</td>\n",
       "      <td>178396.00</td>\n",
       "      <td>178396.00</td>\n",
       "      <td>178396.00</td>\n",
       "      <td>178396.00</td>\n",
       "      <td>178396.00</td>\n",
       "      <td>178396.00</td>\n",
       "      <td>178396.00</td>\n",
       "      <td>178396.00</td>\n",
       "      <td>178396.00</td>\n",
       "      <td>178396.00</td>\n",
       "    </tr>\n",
       "    <tr>\n",
       "      <th>mean</th>\n",
       "      <td>289.62</td>\n",
       "      <td>288.33</td>\n",
       "      <td>291.09</td>\n",
       "      <td>1069.26</td>\n",
       "      <td>68.42</td>\n",
       "      <td>2.47</td>\n",
       "      <td>166.59</td>\n",
       "      <td>0.08</td>\n",
       "      <td>0.00</td>\n",
       "      <td>0.00</td>\n",
       "      <td>25.07</td>\n",
       "      <td>759.83</td>\n",
       "    </tr>\n",
       "    <tr>\n",
       "      <th>std</th>\n",
       "      <td>8.03</td>\n",
       "      <td>7.96</td>\n",
       "      <td>8.61</td>\n",
       "      <td>5969.63</td>\n",
       "      <td>21.90</td>\n",
       "      <td>2.10</td>\n",
       "      <td>116.61</td>\n",
       "      <td>0.40</td>\n",
       "      <td>0.01</td>\n",
       "      <td>0.22</td>\n",
       "      <td>30.77</td>\n",
       "      <td>108.73</td>\n",
       "    </tr>\n",
       "    <tr>\n",
       "      <th>min</th>\n",
       "      <td>262.24</td>\n",
       "      <td>262.24</td>\n",
       "      <td>262.24</td>\n",
       "      <td>0.00</td>\n",
       "      <td>0.00</td>\n",
       "      <td>0.00</td>\n",
       "      <td>0.00</td>\n",
       "      <td>0.00</td>\n",
       "      <td>0.00</td>\n",
       "      <td>0.00</td>\n",
       "      <td>0.00</td>\n",
       "      <td>200.00</td>\n",
       "    </tr>\n",
       "    <tr>\n",
       "      <th>25%</th>\n",
       "      <td>283.67</td>\n",
       "      <td>282.48</td>\n",
       "      <td>284.65</td>\n",
       "      <td>1013.00</td>\n",
       "      <td>53.00</td>\n",
       "      <td>1.00</td>\n",
       "      <td>55.00</td>\n",
       "      <td>0.00</td>\n",
       "      <td>0.00</td>\n",
       "      <td>0.00</td>\n",
       "      <td>0.00</td>\n",
       "      <td>800.00</td>\n",
       "    </tr>\n",
       "    <tr>\n",
       "      <th>50%</th>\n",
       "      <td>289.15</td>\n",
       "      <td>288.15</td>\n",
       "      <td>290.15</td>\n",
       "      <td>1018.00</td>\n",
       "      <td>72.00</td>\n",
       "      <td>2.00</td>\n",
       "      <td>177.00</td>\n",
       "      <td>0.00</td>\n",
       "      <td>0.00</td>\n",
       "      <td>0.00</td>\n",
       "      <td>20.00</td>\n",
       "      <td>800.00</td>\n",
       "    </tr>\n",
       "    <tr>\n",
       "      <th>75%</th>\n",
       "      <td>295.15</td>\n",
       "      <td>293.73</td>\n",
       "      <td>297.15</td>\n",
       "      <td>1022.00</td>\n",
       "      <td>87.00</td>\n",
       "      <td>4.00</td>\n",
       "      <td>270.00</td>\n",
       "      <td>0.00</td>\n",
       "      <td>0.00</td>\n",
       "      <td>0.00</td>\n",
       "      <td>40.00</td>\n",
       "      <td>801.00</td>\n",
       "    </tr>\n",
       "    <tr>\n",
       "      <th>max</th>\n",
       "      <td>315.60</td>\n",
       "      <td>315.15</td>\n",
       "      <td>321.15</td>\n",
       "      <td>1008371.00</td>\n",
       "      <td>100.00</td>\n",
       "      <td>133.00</td>\n",
       "      <td>360.00</td>\n",
       "      <td>12.00</td>\n",
       "      <td>2.32</td>\n",
       "      <td>21.50</td>\n",
       "      <td>100.00</td>\n",
       "      <td>804.00</td>\n",
       "    </tr>\n",
       "  </tbody>\n",
       "</table>\n",
       "</div>"
      ],
      "text/plain": [
       "            temp   temp_min   temp_max    pressure   humidity  wind_speed  \\\n",
       "count  178396.00  178396.00  178396.00   178396.00  178396.00   178396.00   \n",
       "mean      289.62     288.33     291.09     1069.26      68.42        2.47   \n",
       "std         8.03       7.96       8.61     5969.63      21.90        2.10   \n",
       "min       262.24     262.24     262.24        0.00       0.00        0.00   \n",
       "25%       283.67     282.48     284.65     1013.00      53.00        1.00   \n",
       "50%       289.15     288.15     290.15     1018.00      72.00        2.00   \n",
       "75%       295.15     293.73     297.15     1022.00      87.00        4.00   \n",
       "max       315.60     315.15     321.15  1008371.00     100.00      133.00   \n",
       "\n",
       "        wind_deg    rain_1h    rain_3h    snow_3h  clouds_all  weather_id  \n",
       "count  178396.00  178396.00  178396.00  178396.00   178396.00   178396.00  \n",
       "mean      166.59       0.08       0.00       0.00       25.07      759.83  \n",
       "std       116.61       0.40       0.01       0.22       30.77      108.73  \n",
       "min         0.00       0.00       0.00       0.00        0.00      200.00  \n",
       "25%        55.00       0.00       0.00       0.00        0.00      800.00  \n",
       "50%       177.00       0.00       0.00       0.00       20.00      800.00  \n",
       "75%       270.00       0.00       0.00       0.00       40.00      801.00  \n",
       "max       360.00      12.00       2.32      21.50      100.00      804.00  "
      ]
     },
     "execution_count": 55,
     "metadata": {},
     "output_type": "execute_result"
    }
   ],
   "source": [
    "df_weather.describe().round(2)"
   ]
  },
  {
   "cell_type": "code",
   "execution_count": 56,
   "metadata": {},
   "outputs": [
    {
     "name": "stdout",
     "output_type": "stream",
     "text": [
      "<class 'pandas.core.frame.DataFrame'>\n",
      "RangeIndex: 178396 entries, 0 to 178395\n",
      "Data columns (total 17 columns):\n",
      " #   Column               Non-Null Count   Dtype  \n",
      "---  ------               --------------   -----  \n",
      " 0   dt_iso               178396 non-null  object \n",
      " 1   city_name            178396 non-null  object \n",
      " 2   temp                 178396 non-null  float64\n",
      " 3   temp_min             178396 non-null  float64\n",
      " 4   temp_max             178396 non-null  float64\n",
      " 5   pressure             178396 non-null  int64  \n",
      " 6   humidity             178396 non-null  int64  \n",
      " 7   wind_speed           178396 non-null  int64  \n",
      " 8   wind_deg             178396 non-null  int64  \n",
      " 9   rain_1h              178396 non-null  float64\n",
      " 10  rain_3h              178396 non-null  float64\n",
      " 11  snow_3h              178396 non-null  float64\n",
      " 12  clouds_all           178396 non-null  int64  \n",
      " 13  weather_id           178396 non-null  int64  \n",
      " 14  weather_main         178396 non-null  object \n",
      " 15  weather_description  178396 non-null  object \n",
      " 16  weather_icon         178396 non-null  object \n",
      "dtypes: float64(6), int64(6), object(5)\n",
      "memory usage: 23.1+ MB\n"
     ]
    }
   ],
   "source": [
    "# Print the type of each variable in df_weather\n",
    "\n",
    "df_weather.info()"
   ]
  },
  {
   "cell_type": "code",
   "execution_count": 57,
   "metadata": {},
   "outputs": [],
   "source": [
    "def df_convert_dtypes(df, convert_from, convert_to):\n",
    "    cols = df.select_dtypes(include=[convert_from]).columns\n",
    "    for col in cols:\n",
    "        df[col] = df[col].values.astype(convert_to)\n",
    "    return df"
   ]
  },
  {
   "cell_type": "code",
   "execution_count": 58,
   "metadata": {},
   "outputs": [],
   "source": [
    "# Convert columns with int64 type values to float64 type\n",
    "\n",
    "df_weather = df_convert_dtypes(df_weather, np.int64, np.float64)"
   ]
  },
  {
   "cell_type": "code",
   "execution_count": 59,
   "metadata": {},
   "outputs": [],
   "source": [
    "# Convert dt_iso to datetime type, rename it and set it as index\n",
    "\n",
    "df_weather['time'] = pd.to_datetime(df_weather['dt_iso'], utc=True)\n",
    "df_weather = df_weather.drop(['dt_iso'], axis=1)\n",
    "df_weather = df_weather.set_index('time')"
   ]
  },
  {
   "cell_type": "code",
   "execution_count": 62,
   "metadata": {},
   "outputs": [
    {
     "data": {
      "application/vnd.microsoft.datawrangler.viewer.v0+json": {
       "columns": [
        {
         "name": "city_name",
         "rawType": "object",
         "type": "string"
        },
        {
         "name": "temp",
         "rawType": "float64",
         "type": "float"
        },
        {
         "name": "temp_min",
         "rawType": "float64",
         "type": "float"
        },
        {
         "name": "temp_max",
         "rawType": "float64",
         "type": "float"
        },
        {
         "name": "pressure",
         "rawType": "float64",
         "type": "float"
        },
        {
         "name": "humidity",
         "rawType": "float64",
         "type": "float"
        },
        {
         "name": "wind_speed",
         "rawType": "float64",
         "type": "float"
        },
        {
         "name": "wind_deg",
         "rawType": "float64",
         "type": "float"
        },
        {
         "name": "rain_1h",
         "rawType": "float64",
         "type": "float"
        },
        {
         "name": "rain_3h",
         "rawType": "float64",
         "type": "float"
        },
        {
         "name": "snow_3h",
         "rawType": "float64",
         "type": "float"
        },
        {
         "name": "clouds_all",
         "rawType": "float64",
         "type": "float"
        },
        {
         "name": "weather_id",
         "rawType": "float64",
         "type": "float"
        }
       ],
       "conversionMethod": "pd.DataFrame",
       "ref": "7f14b249-0357-4c96-ae5d-2b5a34d9a9d1",
       "rows": [
        [
         " Barcelona",
         "289.8482482074149",
         "288.5947041212721",
         "291.02198735500764",
         "1284.0104859623407",
         "73.99422144548427",
         "2.786588115909347",
         "187.18804262036306",
         "0.11707915210283008",
         "0.00032685477505919495",
         "0.0",
         "23.22964821287631",
         "760.917465328673"
        ],
        [
         "Bilbao",
         "286.3784886407889",
         "284.9166611533754",
         "288.03668674376235",
         "1017.5674390142138",
         "79.08945509165252",
         "1.9574698895719174",
         "159.8835359238964",
         "0.123493087813969",
         "0.0010335595671886735",
         "0.023455147283802952",
         "43.96069650357431",
         "723.9432282829407"
        ],
        [
         "Madrid",
         "288.0610709589641",
         "286.8248771739805",
         "289.1556001452767",
         "1011.8384481760278",
         "59.776932197314366",
         "2.4416963079383462",
         "173.29315907022914",
         "0.05508313342708247",
         "0.00012854661262304574",
         "2.8924366503984343e-05",
         "22.397027600849256",
         "762.2602641519838"
        ],
        [
         "Seville",
         "293.10543050067497",
         "291.1841030546024",
         "295.96243081003735",
         "1018.504710746126",
         "64.14073178277133",
         "2.4837865961695305",
         "151.7571786146188",
         "0.04539190595382062",
         "0.00017965520150743875",
         "0.0",
         "14.748769581235763",
         "771.4098489748854"
        ],
        [
         "Valencia",
         "290.78077988956466",
         "290.22227654627255",
         "291.35502459009103",
         "1015.9737942808365",
         "65.14511310285958",
         "2.6928154787309717",
         "160.75381988903115",
         "0.035923744487124765",
         "0.00022607767819035425",
         "0.00015364916773367477",
         "20.820998719590268",
         "781.2282828282828"
        ]
       ],
       "shape": {
        "columns": 12,
        "rows": 5
       }
      },
      "text/html": [
       "<div>\n",
       "<style scoped>\n",
       "    .dataframe tbody tr th:only-of-type {\n",
       "        vertical-align: middle;\n",
       "    }\n",
       "\n",
       "    .dataframe tbody tr th {\n",
       "        vertical-align: top;\n",
       "    }\n",
       "\n",
       "    .dataframe thead th {\n",
       "        text-align: right;\n",
       "    }\n",
       "</style>\n",
       "<table border=\"1\" class=\"dataframe\">\n",
       "  <thead>\n",
       "    <tr style=\"text-align: right;\">\n",
       "      <th></th>\n",
       "      <th>temp</th>\n",
       "      <th>temp_min</th>\n",
       "      <th>temp_max</th>\n",
       "      <th>pressure</th>\n",
       "      <th>humidity</th>\n",
       "      <th>wind_speed</th>\n",
       "      <th>wind_deg</th>\n",
       "      <th>rain_1h</th>\n",
       "      <th>rain_3h</th>\n",
       "      <th>snow_3h</th>\n",
       "      <th>clouds_all</th>\n",
       "      <th>weather_id</th>\n",
       "    </tr>\n",
       "    <tr>\n",
       "      <th>city_name</th>\n",
       "      <th></th>\n",
       "      <th></th>\n",
       "      <th></th>\n",
       "      <th></th>\n",
       "      <th></th>\n",
       "      <th></th>\n",
       "      <th></th>\n",
       "      <th></th>\n",
       "      <th></th>\n",
       "      <th></th>\n",
       "      <th></th>\n",
       "      <th></th>\n",
       "    </tr>\n",
       "  </thead>\n",
       "  <tbody>\n",
       "    <tr>\n",
       "      <th>Barcelona</th>\n",
       "      <td>289.848248</td>\n",
       "      <td>288.594704</td>\n",
       "      <td>291.021987</td>\n",
       "      <td>1284.010486</td>\n",
       "      <td>73.994221</td>\n",
       "      <td>2.786588</td>\n",
       "      <td>187.188043</td>\n",
       "      <td>0.117079</td>\n",
       "      <td>0.000327</td>\n",
       "      <td>0.000000</td>\n",
       "      <td>23.229648</td>\n",
       "      <td>760.917465</td>\n",
       "    </tr>\n",
       "    <tr>\n",
       "      <th>Bilbao</th>\n",
       "      <td>286.378489</td>\n",
       "      <td>284.916661</td>\n",
       "      <td>288.036687</td>\n",
       "      <td>1017.567439</td>\n",
       "      <td>79.089455</td>\n",
       "      <td>1.957470</td>\n",
       "      <td>159.883536</td>\n",
       "      <td>0.123493</td>\n",
       "      <td>0.001034</td>\n",
       "      <td>0.023455</td>\n",
       "      <td>43.960697</td>\n",
       "      <td>723.943228</td>\n",
       "    </tr>\n",
       "    <tr>\n",
       "      <th>Madrid</th>\n",
       "      <td>288.061071</td>\n",
       "      <td>286.824877</td>\n",
       "      <td>289.155600</td>\n",
       "      <td>1011.838448</td>\n",
       "      <td>59.776932</td>\n",
       "      <td>2.441696</td>\n",
       "      <td>173.293159</td>\n",
       "      <td>0.055083</td>\n",
       "      <td>0.000129</td>\n",
       "      <td>0.000029</td>\n",
       "      <td>22.397028</td>\n",
       "      <td>762.260264</td>\n",
       "    </tr>\n",
       "    <tr>\n",
       "      <th>Seville</th>\n",
       "      <td>293.105431</td>\n",
       "      <td>291.184103</td>\n",
       "      <td>295.962431</td>\n",
       "      <td>1018.504711</td>\n",
       "      <td>64.140732</td>\n",
       "      <td>2.483787</td>\n",
       "      <td>151.757179</td>\n",
       "      <td>0.045392</td>\n",
       "      <td>0.000180</td>\n",
       "      <td>0.000000</td>\n",
       "      <td>14.748770</td>\n",
       "      <td>771.409849</td>\n",
       "    </tr>\n",
       "    <tr>\n",
       "      <th>Valencia</th>\n",
       "      <td>290.780780</td>\n",
       "      <td>290.222277</td>\n",
       "      <td>291.355025</td>\n",
       "      <td>1015.973794</td>\n",
       "      <td>65.145113</td>\n",
       "      <td>2.692815</td>\n",
       "      <td>160.753820</td>\n",
       "      <td>0.035924</td>\n",
       "      <td>0.000226</td>\n",
       "      <td>0.000154</td>\n",
       "      <td>20.820999</td>\n",
       "      <td>781.228283</td>\n",
       "    </tr>\n",
       "  </tbody>\n",
       "</table>\n",
       "</div>"
      ],
      "text/plain": [
       "                  temp    temp_min    temp_max     pressure   humidity  \\\n",
       "city_name                                                                \n",
       " Barcelona  289.848248  288.594704  291.021987  1284.010486  73.994221   \n",
       "Bilbao      286.378489  284.916661  288.036687  1017.567439  79.089455   \n",
       "Madrid      288.061071  286.824877  289.155600  1011.838448  59.776932   \n",
       "Seville     293.105431  291.184103  295.962431  1018.504711  64.140732   \n",
       "Valencia    290.780780  290.222277  291.355025  1015.973794  65.145113   \n",
       "\n",
       "            wind_speed    wind_deg   rain_1h   rain_3h   snow_3h  clouds_all  \\\n",
       "city_name                                                                      \n",
       " Barcelona    2.786588  187.188043  0.117079  0.000327  0.000000   23.229648   \n",
       "Bilbao        1.957470  159.883536  0.123493  0.001034  0.023455   43.960697   \n",
       "Madrid        2.441696  173.293159  0.055083  0.000129  0.000029   22.397028   \n",
       "Seville       2.483787  151.757179  0.045392  0.000180  0.000000   14.748770   \n",
       "Valencia      2.692815  160.753820  0.035924  0.000226  0.000154   20.820999   \n",
       "\n",
       "            weather_id  \n",
       "city_name               \n",
       " Barcelona  760.917465  \n",
       "Bilbao      723.943228  \n",
       "Madrid      762.260264  \n",
       "Seville     771.409849  \n",
       "Valencia    781.228283  "
      ]
     },
     "execution_count": 62,
     "metadata": {},
     "output_type": "execute_result"
    }
   ],
   "source": [
    "# Display average weather features grouped by each city\n",
    "\n",
    "mean_weather_by_city = df_weather.groupby('city_name').mean(numeric_only=True)\n",
    "mean_weather_by_city"
   ]
  },
  {
   "cell_type": "code",
   "execution_count": 63,
   "metadata": {},
   "outputs": [
    {
     "name": "stdout",
     "output_type": "stream",
     "text": [
      "There are 0 missing values or NaNs in df_weather.\n",
      "There are 8622 duplicate rows in df_weather based on all columns.\n"
     ]
    }
   ],
   "source": [
    "# Find NaNs and duplicates in df_weather\n",
    "\n",
    "print('There are {} missing values or NaNs in df_weather.'\n",
    "      .format(df_weather.isnull().values.sum()))\n",
    "\n",
    "temp_weather = df_weather.duplicated(keep='first').sum()\n",
    "\n",
    "print('There are {} duplicate rows in df_weather based on all columns.'\n",
    "      .format(temp_weather))"
   ]
  },
  {
   "cell_type": "code",
   "execution_count": 64,
   "metadata": {},
   "outputs": [
    {
     "name": "stdout",
     "output_type": "stream",
     "text": [
      "There are 35064 observations in df_energy.\n",
      "There are 35145 observations in df_weather about city: Valencia.\n",
      "There are 36267 observations in df_weather about city: Madrid.\n",
      "There are 35951 observations in df_weather about city: Bilbao.\n",
      "There are 35476 observations in df_weather about city:  Barcelona.\n",
      "There are 35557 observations in df_weather about city: Seville.\n"
     ]
    }
   ],
   "source": [
    "# Display the number of rows in each dataframe\n",
    "\n",
    "print('There are {} observations in df_energy.'.format(df_energy.shape[0]))\n",
    "\n",
    "cities = df_weather['city_name'].unique()\n",
    "grouped_weather = df_weather.groupby('city_name')\n",
    "\n",
    "for city in cities:\n",
    "    print('There are {} observations in df_weather'\n",
    "          .format(grouped_weather.get_group('{}'.format(city)).shape[0]), \n",
    "          'about city: {}.'.format(city))"
   ]
  },
  {
   "cell_type": "code",
   "execution_count": 65,
   "metadata": {},
   "outputs": [],
   "source": [
    "# Create df_weather_2 and drop duplicate rows in df_weather\n",
    "\n",
    "df_weather_2 = df_weather.reset_index().drop_duplicates(subset=['time', 'city_name'], \n",
    "                                                        keep='last').set_index('time')\n",
    "\n",
    "df_weather = df_weather.reset_index().drop_duplicates(subset=['time', 'city_name'],\n",
    "                                                      keep='first').set_index('time')"
   ]
  },
  {
   "cell_type": "code",
   "execution_count": 66,
   "metadata": {},
   "outputs": [
    {
     "name": "stdout",
     "output_type": "stream",
     "text": [
      "There are 35064 observations in df_energy.\n",
      "There are 35064 observations in df_weather about city: Valencia.\n",
      "There are 35064 observations in df_weather about city: Madrid.\n",
      "There are 35064 observations in df_weather about city: Bilbao.\n",
      "There are 35064 observations in df_weather about city:  Barcelona.\n",
      "There are 35064 observations in df_weather about city: Seville.\n"
     ]
    }
   ],
   "source": [
    "# Display the number of rows in each dataframe again\n",
    "\n",
    "print('There are {} observations in df_energy.'.format(df_energy.shape[0]))\n",
    "\n",
    "grouped_weather = df_weather.groupby('city_name')\n",
    "\n",
    "for city in cities:\n",
    "    print('There are {} observations in df_weather'\n",
    "          .format(grouped_weather.get_group('{}'.format(city)).shape[0]), \n",
    "          'about city: {}.'.format(city))"
   ]
  },
  {
   "cell_type": "code",
   "execution_count": 67,
   "metadata": {},
   "outputs": [
    {
     "data": {
      "text/plain": [
       "array(['sky is clear', 'few clouds', 'scattered clouds', 'broken clouds',\n",
       "       'overcast clouds', 'light rain', 'moderate rain',\n",
       "       'heavy intensity rain', 'mist', 'heavy intensity shower rain',\n",
       "       'shower rain', 'very heavy rain', 'thunderstorm with heavy rain',\n",
       "       'thunderstorm with light rain', 'proximity thunderstorm',\n",
       "       'thunderstorm', 'light intensity shower rain',\n",
       "       'light intensity drizzle', 'thunderstorm with rain', 'fog',\n",
       "       'smoke', 'drizzle', 'heavy intensity drizzle', 'haze',\n",
       "       'proximity shower rain', 'light snow', 'rain and snow',\n",
       "       'light rain and snow', 'snow', 'sleet', 'rain and drizzle',\n",
       "       'light intensity drizzle rain', 'light shower snow',\n",
       "       'proximity moderate rain', 'ragged shower rain', 'heavy snow',\n",
       "       'sand dust whirls', 'proximity drizzle', 'dust',\n",
       "       'light thunderstorm', 'squalls'], dtype=object)"
      ]
     },
     "execution_count": 67,
     "metadata": {},
     "output_type": "execute_result"
    }
   ],
   "source": [
    "# Display all the unique values in the column 'weather_description'\n",
    "\n",
    "weather_description_unique = df_weather['weather_description'].unique()\n",
    "weather_description_unique"
   ]
  },
  {
   "cell_type": "code",
   "execution_count": 68,
   "metadata": {},
   "outputs": [
    {
     "data": {
      "text/plain": [
       "array(['clear', 'clouds', 'rain', 'mist', 'thunderstorm', 'drizzle',\n",
       "       'fog', 'smoke', 'haze', 'snow', 'dust', 'squall'], dtype=object)"
      ]
     },
     "execution_count": 68,
     "metadata": {},
     "output_type": "execute_result"
    }
   ],
   "source": [
    "# Display all the unique values in the column 'weather_main'\n",
    "\n",
    "weather_main_unique = df_weather['weather_main'].unique()\n",
    "weather_main_unique"
   ]
  },
  {
   "cell_type": "code",
   "execution_count": 69,
   "metadata": {},
   "outputs": [
    {
     "data": {
      "text/plain": [
       "array([800., 801., 802., 803., 804., 500., 501., 502., 701., 522., 521.,\n",
       "       503., 202., 200., 211., 520., 300., 201., 741., 711., 301., 302.,\n",
       "       721., 600., 616., 615., 601., 611., 311., 310., 620., 531., 602.,\n",
       "       731., 761., 210., 771.])"
      ]
     },
     "execution_count": 69,
     "metadata": {},
     "output_type": "execute_result"
    }
   ],
   "source": [
    "# Display all the unique values in the column 'weather_id'\n",
    "\n",
    "weather_id_unique = df_weather['weather_id'].unique()\n",
    "weather_id_unique"
   ]
  },
  {
   "cell_type": "code",
   "execution_count": 77,
   "metadata": {},
   "outputs": [],
   "source": [
    "# Define a function which will calculate R-squared score for the same column in two dataframes\n",
    "\n",
    "def encode_and_display_r2_score(df_1, df_2, column, categorical=False):\n",
    "    dfs = [df_1, df_2]\n",
    "    if categorical:\n",
    "        for df in dfs:\n",
    "            le = LabelEncoder()\n",
    "            df[column] = le.fit_transform(df[column])\n",
    "    r2 = r2_score(df_1[column], df_2[column])\n",
    "    print(\"R-Squared score of {} is {}\".format(column, round(r2, 3)))"
   ]
  },
  {
   "cell_type": "code",
   "execution_count": 78,
   "metadata": {},
   "outputs": [
    {
     "name": "stdout",
     "output_type": "stream",
     "text": [
      "R-Squared score of weather_description is 0.973\n",
      "R-Squared score of weather_main is 0.963\n",
      "R-Squared score of weather_id is 0.921\n"
     ]
    }
   ],
   "source": [
    "# Display the R-squared scores for the columns with qualitative weather descriptions in df_weather and df_weather_2\n",
    "\n",
    "encode_and_display_r2_score(df_weather, df_weather_2, 'weather_description', categorical=True)\n",
    "encode_and_display_r2_score(df_weather, df_weather_2, 'weather_main', categorical=True)\n",
    "encode_and_display_r2_score(df_weather, df_weather_2, 'weather_id')"
   ]
  },
  {
   "cell_type": "code",
   "execution_count": 79,
   "metadata": {},
   "outputs": [],
   "source": [
    "# Drop columns with qualitative weather information\n",
    "df_weather = df_weather.drop(['weather_main', 'weather_id', \n",
    "                              'weather_description', 'weather_icon'], axis=1)"
   ]
  },
  {
   "cell_type": "code",
   "execution_count": 80,
   "metadata": {},
   "outputs": [
    {
     "name": "stdout",
     "output_type": "stream",
     "text": [
      "R-Squared score of temp is 1.0\n",
      "R-Squared score of temp_min is 1.0\n",
      "R-Squared score of temp_max is 1.0\n",
      "R-Squared score of pressure is 1.0\n",
      "R-Squared score of humidity is 1.0\n",
      "R-Squared score of wind_speed is 1.0\n",
      "R-Squared score of wind_deg is 1.0\n",
      "R-Squared score of rain_1h is 1.0\n",
      "R-Squared score of rain_3h is 1.0\n",
      "R-Squared score of snow_3h is 1.0\n",
      "R-Squared score of clouds_all is 1.0\n"
     ]
    }
   ],
   "source": [
    "# Display the R-squared for all the columns in df_weather and df_weather_2\n",
    "\n",
    "df_weather_cols = df_weather.columns.drop('city_name')\n",
    "\n",
    "for col in df_weather_cols:\n",
    "    encode_and_display_r2_score(df_weather, df_weather_2, col)"
   ]
  },
  {
   "cell_type": "code",
   "execution_count": 81,
   "metadata": {},
   "outputs": [
    {
     "name": "stdout",
     "output_type": "stream",
     "text": [
      "There are 0 duplicate rows in df_weather based on all columns except \"time\" and \"city_name\".\n"
     ]
    }
   ],
   "source": [
    "# Display the number of duplicates in df_weather\n",
    "\n",
    "temp_weather = df_weather.reset_index().duplicated(subset=['time', 'city_name'], \n",
    "                                                   keep='first').sum()\n",
    "print('There are {} duplicate rows in df_weather ' \\\n",
    "      'based on all columns except \"time\" and \"city_name\".'.format(temp_weather))"
   ]
  },
  {
   "cell_type": "code",
   "execution_count": 82,
   "metadata": {},
   "outputs": [
    {
     "data": {
      "image/png": "[encoded data removed]",
      "text/plain": [
       "<Figure size 640x480 with 1 Axes>"
      ]
     },
     "metadata": {},
     "output_type": "display_data"
    }
   ],
   "source": [
    "# Check for outliers in 'pressure' column\n",
    "\n",
    "sns.boxplot(x=df_weather['pressure'])\n",
    "plt.show()"
   ]
  },
  {
   "cell_type": "code",
   "execution_count": 86,
   "metadata": {},
   "outputs": [],
   "source": [
    "# Replace outliers in 'pressure' with NaNs\n",
    "\n",
    "df_weather.loc[df_weather.pressure > 1051, 'pressure'] = np.nan\n",
    "df_weather.loc[df_weather.pressure < 931, 'pressure'] = np.nan"
   ]
  },
  {
   "cell_type": "code",
   "execution_count": 93,
   "metadata": {},
   "outputs": [
    {
     "data": {
      "image/png": "[encoded data removed]",
      "text/plain": [
       "<Figure size 640x480 with 1 Axes>"
      ]
     },
     "metadata": {},
     "output_type": "display_data"
    }
   ],
   "source": [
    "# Check for outliers in 'pressure' column again\n",
    "\n",
    "sns.boxplot(df_weather['pressure'])\n",
    "plt.show()"
   ]
  },
  {
   "cell_type": "code",
   "execution_count": 94,
   "metadata": {},
   "outputs": [
    {
     "data": {
      "image/png": "[encoded data removed]",
      "text/plain": [
       "<Figure size 640x480 with 1 Axes>"
      ]
     },
     "metadata": {},
     "output_type": "display_data"
    }
   ],
   "source": [
    "# Check for outliers in 'wind_speed' column\n",
    "\n",
    "sns.boxplot(x=df_weather['wind_speed'])\n",
    "plt.show()"
   ]
  },
  {
   "cell_type": "code",
   "execution_count": 95,
   "metadata": {},
   "outputs": [],
   "source": [
    "# Replace outliers in 'wind_speed' with NaNs\n",
    "\n",
    "df_weather.loc[df_weather.wind_speed > 50, 'wind_speed'] = np.nan\n"
   ]
  },
  {
   "cell_type": "code",
   "execution_count": 96,
   "metadata": {},
   "outputs": [
    {
     "data": {
      "image/png": "[encoded data removed]",
      "text/plain": [
       "<Figure size 640x480 with 1 Axes>"
      ]
     },
     "metadata": {},
     "output_type": "display_data"
    }
   ],
   "source": [
    "# Check for outliers in 'wind_speed' column again\n",
    "\n",
    "sns.boxplot(df_weather['wind_speed'])\n",
    "plt.show()"
   ]
  },
  {
   "cell_type": "code",
   "execution_count": null,
   "metadata": {},
   "outputs": [
    {
     "name": "stderr",
     "output_type": "stream",
     "text": [
      "C:\\Users\\veren\\AppData\\Local\\Temp\\ipykernel_21532\\3371874962.py:3: FutureWarning: DataFrame.interpolate with object dtype is deprecated and will raise in a future version. Call obj.infer_objects(copy=False) before interpolating instead.\n",
      "  df_weather.interpolate(method='linear', limit_direction='forward', inplace=True, axis=0)\n"
     ]
    }
   ],
   "source": [
    "# Fill null values using interpolation\n",
    "\n",
    "df_weather.interpolate(method='linear', limit_direction='forward', inplace=True, axis=0)"
   ]
  },
  {
   "cell_type": "code",
   "execution_count": 100,
   "metadata": {},
   "outputs": [
    {
     "data": {
      "application/vnd.microsoft.datawrangler.viewer.v0+json": {
       "columns": [
        {
         "name": "time",
         "rawType": "datetime64[ns, UTC]",
         "type": "unknown"
        },
        {
         "name": "city_name",
         "rawType": "object",
         "type": "string"
        },
        {
         "name": "temp",
         "rawType": "float64",
         "type": "float"
        },
        {
         "name": "temp_min",
         "rawType": "float64",
         "type": "float"
        },
        {
         "name": "temp_max",
         "rawType": "float64",
         "type": "float"
        },
        {
         "name": "pressure",
         "rawType": "float64",
         "type": "float"
        },
        {
         "name": "humidity",
         "rawType": "float64",
         "type": "float"
        },
        {
         "name": "wind_speed",
         "rawType": "float64",
         "type": "float"
        },
        {
         "name": "wind_deg",
         "rawType": "float64",
         "type": "float"
        },
        {
         "name": "rain_1h",
         "rawType": "float64",
         "type": "float"
        },
        {
         "name": "rain_3h",
         "rawType": "float64",
         "type": "float"
        },
        {
         "name": "snow_3h",
         "rawType": "float64",
         "type": "float"
        },
        {
         "name": "clouds_all",
         "rawType": "float64",
         "type": "float"
        }
       ],
       "conversionMethod": "pd.DataFrame",
       "ref": "f249fc12-cf11-469c-b4df-c2c0e0d3fa68",
       "rows": [
        [
         "2014-12-31 23:00:00+00:00",
         "Valencia",
         "270.475",
         "270.475",
         "270.475",
         "1001.0",
         "77.0",
         "1.0",
         "62.0",
         "0.0",
         "0.0",
         "0.0",
         "0.0"
        ],
        [
         "2015-01-01 00:00:00+00:00",
         "Valencia",
         "270.475",
         "270.475",
         "270.475",
         "1001.0",
         "77.0",
         "1.0",
         "62.0",
         "0.0",
         "0.0",
         "0.0",
         "0.0"
        ],
        [
         "2015-01-01 01:00:00+00:00",
         "Valencia",
         "269.686",
         "269.686",
         "269.686",
         "1002.0",
         "78.0",
         "0.0",
         "23.0",
         "0.0",
         "0.0",
         "0.0",
         "0.0"
        ],
        [
         "2015-01-01 02:00:00+00:00",
         "Valencia",
         "269.686",
         "269.686",
         "269.686",
         "1002.0",
         "78.0",
         "0.0",
         "23.0",
         "0.0",
         "0.0",
         "0.0",
         "0.0"
        ],
        [
         "2015-01-01 03:00:00+00:00",
         "Valencia",
         "269.686",
         "269.686",
         "269.686",
         "1002.0",
         "78.0",
         "0.0",
         "23.0",
         "0.0",
         "0.0",
         "0.0",
         "0.0"
        ]
       ],
       "shape": {
        "columns": 12,
        "rows": 5
       }
      },
      "text/html": [
       "<div>\n",
       "<style scoped>\n",
       "    .dataframe tbody tr th:only-of-type {\n",
       "        vertical-align: middle;\n",
       "    }\n",
       "\n",
       "    .dataframe tbody tr th {\n",
       "        vertical-align: top;\n",
       "    }\n",
       "\n",
       "    .dataframe thead th {\n",
       "        text-align: right;\n",
       "    }\n",
       "</style>\n",
       "<table border=\"1\" class=\"dataframe\">\n",
       "  <thead>\n",
       "    <tr style=\"text-align: right;\">\n",
       "      <th></th>\n",
       "      <th>city_name</th>\n",
       "      <th>temp</th>\n",
       "      <th>temp_min</th>\n",
       "      <th>temp_max</th>\n",
       "      <th>pressure</th>\n",
       "      <th>humidity</th>\n",
       "      <th>wind_speed</th>\n",
       "      <th>wind_deg</th>\n",
       "      <th>rain_1h</th>\n",
       "      <th>rain_3h</th>\n",
       "      <th>snow_3h</th>\n",
       "      <th>clouds_all</th>\n",
       "    </tr>\n",
       "    <tr>\n",
       "      <th>time</th>\n",
       "      <th></th>\n",
       "      <th></th>\n",
       "      <th></th>\n",
       "      <th></th>\n",
       "      <th></th>\n",
       "      <th></th>\n",
       "      <th></th>\n",
       "      <th></th>\n",
       "      <th></th>\n",
       "      <th></th>\n",
       "      <th></th>\n",
       "      <th></th>\n",
       "    </tr>\n",
       "  </thead>\n",
       "  <tbody>\n",
       "    <tr>\n",
       "      <th>2014-12-31 23:00:00+00:00</th>\n",
       "      <td>Valencia</td>\n",
       "      <td>270.475</td>\n",
       "      <td>270.475</td>\n",
       "      <td>270.475</td>\n",
       "      <td>1001.0</td>\n",
       "      <td>77.0</td>\n",
       "      <td>1.0</td>\n",
       "      <td>62.0</td>\n",
       "      <td>0.0</td>\n",
       "      <td>0.0</td>\n",
       "      <td>0.0</td>\n",
       "      <td>0.0</td>\n",
       "    </tr>\n",
       "    <tr>\n",
       "      <th>2015-01-01 00:00:00+00:00</th>\n",
       "      <td>Valencia</td>\n",
       "      <td>270.475</td>\n",
       "      <td>270.475</td>\n",
       "      <td>270.475</td>\n",
       "      <td>1001.0</td>\n",
       "      <td>77.0</td>\n",
       "      <td>1.0</td>\n",
       "      <td>62.0</td>\n",
       "      <td>0.0</td>\n",
       "      <td>0.0</td>\n",
       "      <td>0.0</td>\n",
       "      <td>0.0</td>\n",
       "    </tr>\n",
       "    <tr>\n",
       "      <th>2015-01-01 01:00:00+00:00</th>\n",
       "      <td>Valencia</td>\n",
       "      <td>269.686</td>\n",
       "      <td>269.686</td>\n",
       "      <td>269.686</td>\n",
       "      <td>1002.0</td>\n",
       "      <td>78.0</td>\n",
       "      <td>0.0</td>\n",
       "      <td>23.0</td>\n",
       "      <td>0.0</td>\n",
       "      <td>0.0</td>\n",
       "      <td>0.0</td>\n",
       "      <td>0.0</td>\n",
       "    </tr>\n",
       "    <tr>\n",
       "      <th>2015-01-01 02:00:00+00:00</th>\n",
       "      <td>Valencia</td>\n",
       "      <td>269.686</td>\n",
       "      <td>269.686</td>\n",
       "      <td>269.686</td>\n",
       "      <td>1002.0</td>\n",
       "      <td>78.0</td>\n",
       "      <td>0.0</td>\n",
       "      <td>23.0</td>\n",
       "      <td>0.0</td>\n",
       "      <td>0.0</td>\n",
       "      <td>0.0</td>\n",
       "      <td>0.0</td>\n",
       "    </tr>\n",
       "    <tr>\n",
       "      <th>2015-01-01 03:00:00+00:00</th>\n",
       "      <td>Valencia</td>\n",
       "      <td>269.686</td>\n",
       "      <td>269.686</td>\n",
       "      <td>269.686</td>\n",
       "      <td>1002.0</td>\n",
       "      <td>78.0</td>\n",
       "      <td>0.0</td>\n",
       "      <td>23.0</td>\n",
       "      <td>0.0</td>\n",
       "      <td>0.0</td>\n",
       "      <td>0.0</td>\n",
       "      <td>0.0</td>\n",
       "    </tr>\n",
       "  </tbody>\n",
       "</table>\n",
       "</div>"
      ],
      "text/plain": [
       "                          city_name     temp  temp_min  temp_max  pressure  \\\n",
       "time                                                                         \n",
       "2014-12-31 23:00:00+00:00  Valencia  270.475   270.475   270.475    1001.0   \n",
       "2015-01-01 00:00:00+00:00  Valencia  270.475   270.475   270.475    1001.0   \n",
       "2015-01-01 01:00:00+00:00  Valencia  269.686   269.686   269.686    1002.0   \n",
       "2015-01-01 02:00:00+00:00  Valencia  269.686   269.686   269.686    1002.0   \n",
       "2015-01-01 03:00:00+00:00  Valencia  269.686   269.686   269.686    1002.0   \n",
       "\n",
       "                           humidity  wind_speed  wind_deg  rain_1h  rain_3h  \\\n",
       "time                                                                          \n",
       "2014-12-31 23:00:00+00:00      77.0         1.0      62.0      0.0      0.0   \n",
       "2015-01-01 00:00:00+00:00      77.0         1.0      62.0      0.0      0.0   \n",
       "2015-01-01 01:00:00+00:00      78.0         0.0      23.0      0.0      0.0   \n",
       "2015-01-01 02:00:00+00:00      78.0         0.0      23.0      0.0      0.0   \n",
       "2015-01-01 03:00:00+00:00      78.0         0.0      23.0      0.0      0.0   \n",
       "\n",
       "                           snow_3h  clouds_all  \n",
       "time                                            \n",
       "2014-12-31 23:00:00+00:00      0.0         0.0  \n",
       "2015-01-01 00:00:00+00:00      0.0         0.0  \n",
       "2015-01-01 01:00:00+00:00      0.0         0.0  \n",
       "2015-01-01 02:00:00+00:00      0.0         0.0  \n",
       "2015-01-01 03:00:00+00:00      0.0         0.0  "
      ]
     },
     "execution_count": 100,
     "metadata": {},
     "output_type": "execute_result"
    }
   ],
   "source": [
    "df_weather.head()"
   ]
  },
  {
   "cell_type": "markdown",
   "metadata": {},
   "source": [
    "## 1.3 Merging two datasets"
   ]
  },
  {
   "cell_type": "code",
   "execution_count": 101,
   "metadata": {},
   "outputs": [],
   "source": [
    "# Split the df_weather into 5 dataframes (one for each city)\n",
    "\n",
    "df_1, df_2, df_3, df_4, df_5 = [x for _, x in df_weather.groupby('city_name')]\n",
    "dfs = [df_1, df_2, df_3, df_4, df_5]"
   ]
  },
  {
   "cell_type": "code",
   "execution_count": 102,
   "metadata": {},
   "outputs": [
    {
     "data": {
      "text/plain": [
       "Index(['generation biomass', 'generation fossil brown coal/lignite',\n",
       "       'generation fossil gas', 'generation fossil hard coal',\n",
       "       'generation fossil oil', 'generation hydro pumped storage consumption',\n",
       "       'generation hydro run-of-river and poundage',\n",
       "       'generation hydro water reservoir', 'generation nuclear',\n",
       "       'generation other', 'generation other renewable', 'generation solar',\n",
       "       'generation waste', 'generation wind onshore', 'total load actual',\n",
       "       'price day ahead', 'price actual', 'temp_Barcelona',\n",
       "       'temp_min_Barcelona', 'temp_max_Barcelona', 'pressure_Barcelona',\n",
       "       'humidity_Barcelona', 'wind_speed_Barcelona', 'wind_deg_Barcelona',\n",
       "       'rain_1h_Barcelona', 'rain_3h_Barcelona', 'snow_3h_Barcelona',\n",
       "       'clouds_all_Barcelona', 'temp_Bilbao', 'temp_min_Bilbao',\n",
       "       'temp_max_Bilbao', 'pressure_Bilbao', 'humidity_Bilbao',\n",
       "       'wind_speed_Bilbao', 'wind_deg_Bilbao', 'rain_1h_Bilbao',\n",
       "       'rain_3h_Bilbao', 'snow_3h_Bilbao', 'clouds_all_Bilbao', 'temp_Madrid',\n",
       "       'temp_min_Madrid', 'temp_max_Madrid', 'pressure_Madrid',\n",
       "       'humidity_Madrid', 'wind_speed_Madrid', 'wind_deg_Madrid',\n",
       "       'rain_1h_Madrid', 'rain_3h_Madrid', 'snow_3h_Madrid',\n",
       "       'clouds_all_Madrid', 'temp_Seville', 'temp_min_Seville',\n",
       "       'temp_max_Seville', 'pressure_Seville', 'humidity_Seville',\n",
       "       'wind_speed_Seville', 'wind_deg_Seville', 'rain_1h_Seville',\n",
       "       'rain_3h_Seville', 'snow_3h_Seville', 'clouds_all_Seville',\n",
       "       'temp_Valencia', 'temp_min_Valencia', 'temp_max_Valencia',\n",
       "       'pressure_Valencia', 'humidity_Valencia', 'wind_speed_Valencia',\n",
       "       'wind_deg_Valencia', 'rain_1h_Valencia', 'rain_3h_Valencia',\n",
       "       'snow_3h_Valencia', 'clouds_all_Valencia'],\n",
       "      dtype='object')"
      ]
     },
     "execution_count": 102,
     "metadata": {},
     "output_type": "execute_result"
    }
   ],
   "source": [
    "# Merge all dataframes into the final dataframe\n",
    "\n",
    "df_final = df_energy\n",
    "\n",
    "for df in dfs:\n",
    "    city = df['city_name'].unique()\n",
    "    city_str = str(city).replace(\"'\", \"\").replace('[', '').replace(']', '').replace(' ', '')\n",
    "    df = df.add_suffix('_{}'.format(city_str))\n",
    "    df_final = df_final.merge(df, on=['time'], how='outer')\n",
    "    df_final = df_final.drop('city_name_{}'.format(city_str), axis=1)\n",
    "    \n",
    "df_final.columns"
   ]
  },
  {
   "cell_type": "code",
   "execution_count": null,
   "metadata": {},
   "outputs": [],
   "source": [
    "df_final.head()"
   ]
  },
  {
   "cell_type": "code",
   "execution_count": 103,
   "metadata": {},
   "outputs": [
    {
     "name": "stdout",
     "output_type": "stream",
     "text": [
      "There are 0 missing values or NaNs in df_final.\n",
      "\n",
      "There are 0 duplicate rows in df_energy based on all columns.\n"
     ]
    }
   ],
   "source": [
    "# Display the number of NaNs and duplicates in the final dataframe\n",
    "\n",
    "print('There are {} missing values or NaNs in df_final.'\n",
    "      .format(df_final.isnull().values.sum()))\n",
    "\n",
    "temp_final = df_final.duplicated(keep='first').sum()\n",
    "\n",
    "print('\\nThere are {} duplicate rows in df_energy based on all columns.'\n",
    "      .format(temp_final))"
   ]
  },
  {
   "cell_type": "markdown",
   "metadata": {},
   "source": []
  }
 ],
 "metadata": {
  "kernelspec": {
   "display_name": "ep_forecasting_env",
   "language": "python",
   "name": "python3"
  },
  "language_info": {
   "codemirror_mode": {
    "name": "ipython",
    "version": 3
   },
   "file_extension": ".py",
   "mimetype": "text/x-python",
   "name": "python",
   "nbconvert_exporter": "python",
   "pygments_lexer": "ipython3",
   "version": "3.9.18"
  }
 },
 "nbformat": 4,
 "nbformat_minor": 2
}

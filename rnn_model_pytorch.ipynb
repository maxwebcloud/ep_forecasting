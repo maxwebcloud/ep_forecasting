{
 "cells": [
  {
   "cell_type": "code",
   "execution_count": 1,
   "metadata": {},
   "outputs": [
    {
     "name": "stderr",
     "output_type": "stream",
     "text": [
      "/opt/anaconda3/envs/ep_forecasting_env/lib/python3.9/site-packages/tqdm/auto.py:21: TqdmWarning: IProgress not found. Please update jupyter and ipywidgets. See https://ipywidgets.readthedocs.io/en/stable/user_install.html\n",
      "  from .autonotebook import tqdm as notebook_tqdm\n"
     ]
    }
   ],
   "source": [
    "from sympy import false, true\n",
    "import torch\n",
    "import torch.nn as nn\n",
    "from torch.utils.data import DataLoader, TensorDataset\n",
    "import pickle\n",
    "import matplotlib.pyplot as plt\n",
    "import optuna\n",
    "import json"
   ]
  },
  {
   "cell_type": "code",
   "execution_count": 2,
   "metadata": {},
   "outputs": [],
   "source": [
    "# Data Import \n",
    "\n",
    "# Load X_train\n",
    "with open(\"data/X_train.pkl\", \"rb\") as f:\n",
    "    X_train = pickle.load(f)\n",
    "\n",
    "# Load y_train\n",
    "with open(\"data/y_train.pkl\", \"rb\") as f:\n",
    "    y_train = pickle.load(f)\n",
    "\n",
    "# Load X_val\n",
    "with open(\"data/X_val.pkl\", \"rb\") as f:\n",
    "    X_val = pickle.load(f)\n",
    "\n",
    "# Load y_val\n",
    "with open(\"data/y_val.pkl\", \"rb\") as f:\n",
    "    y_val = pickle.load(f)\n",
    "\n",
    "# Load X_test\n",
    "with open(\"data/X_test.pkl\", \"rb\") as f:\n",
    "    X_test = pickle.load(f)\n",
    "\n",
    "# Load y_test\n",
    "with open(\"data/y_test.pkl\", \"rb\") as f:\n",
    "    y_test = pickle.load(f)\n",
    "\n",
    "# Load df_final_viz\n",
    "with open(\"data/df_final_viz.pkl\", \"rb\") as f:\n",
    "    df_final_viz = pickle.load(f)"
   ]
  },
  {
   "cell_type": "code",
   "execution_count": 3,
   "metadata": {},
   "outputs": [
    {
     "name": "stdout",
     "output_type": "stream",
     "text": [
      "PyTorch nutzt 8 Threads\n"
     ]
    }
   ],
   "source": [
    "torch.set_num_threads(torch.get_num_threads())  # Nutzt standardmäßig alle verfügbaren Kerne\n",
    "print(f\"PyTorch nutzt {torch.get_num_threads()} Threads\")\n"
   ]
  },
  {
   "cell_type": "code",
   "execution_count": 4,
   "metadata": {},
   "outputs": [],
   "source": [
    "# In Torch-Tensoren umwandeln\n",
    "X_train_tensor = torch.tensor(X_train, dtype=torch.float32)\n",
    "y_train_tensor = torch.tensor(y_train, dtype=torch.float32).unsqueeze(1)\n",
    "\n",
    "X_val_tensor = torch.tensor(X_val, dtype=torch.float32)\n",
    "y_val_tensor = torch.tensor(y_val, dtype=torch.float32).unsqueeze(1)\n",
    "\n",
    "X_test_tensor = torch.tensor(X_test, dtype=torch.float32)\n",
    "y_test_tensor = torch.tensor(y_test, dtype=torch.float32).unsqueeze(1)\n",
    "\n",
    "# Datasets und DataLoader\n",
    "train_dataset = TensorDataset(X_train_tensor, y_train_tensor)\n",
    "val_dataset = TensorDataset(X_val_tensor, y_val_tensor)\n",
    "test_dataset = TensorDataset(X_test_tensor, y_test_tensor)\n",
    "\n",
    "train_loader = DataLoader(train_dataset, batch_size=32, shuffle=True, drop_last = True, num_workers = 8)\n",
    "val_loader = DataLoader(val_dataset, batch_size=32, shuffle=False, drop_last = True, num_workers = 8)\n",
    "test_loader = DataLoader(test_dataset, batch_size=32, shuffle=False, drop_last = True, num_workers = 8)"
   ]
  },
  {
   "cell_type": "code",
   "execution_count": 5,
   "metadata": {},
   "outputs": [
    {
     "data": {
      "text/plain": [
       "27024"
      ]
     },
     "execution_count": 5,
     "metadata": {},
     "output_type": "execute_result"
    }
   ],
   "source": [
    "X_train.shape[0]"
   ]
  },
  {
   "cell_type": "code",
   "execution_count": 6,
   "metadata": {},
   "outputs": [],
   "source": [
    "class SimpleRNN(nn.Module):\n",
    "    def __init__(self, input_size, hp):\n",
    "        super(SimpleRNN, self).__init__()\n",
    "        self.rnn = nn.RNN(input_size, hp['rnn_units'], batch_first=True)\n",
    "        self.dropout1 = nn.Dropout(hp['dropout_rate_rnn'])\n",
    "        self.fc1 = nn.Linear(hp['rnn_units'], hp['dense_units'])\n",
    "        self.dropout2 = nn.Dropout(hp['dropout_rate_dense'])\n",
    "        self.fc2 = nn.Linear(hp['dense_units'], 1)\n",
    "\n",
    "    def forward(self, x):\n",
    "        out, _ = self.rnn(x)\n",
    "        out = out[:, -1, :]  # Nur der letzte Zeitschritt\n",
    "        out = self.dropout1(out)\n",
    "        out = self.fc1(out)\n",
    "        out = self.dropout2(out)\n",
    "        out = self.fc2(out)\n",
    "        return out"
   ]
  },
  {
   "cell_type": "code",
   "execution_count": 7,
   "metadata": {},
   "outputs": [
    {
     "name": "stderr",
     "output_type": "stream",
     "text": [
      "[I 2025-03-31 12:51:48,366] A new study created in memory with name: no-name-48d7f4e7-1f3d-4e65-bef0-4f6e46c9807d\n"
     ]
    },
    {
     "name": "stdout",
     "output_type": "stream",
     "text": [
      "Epoch [1/15], Train Loss: 0.0056, Val Loss: 0.0028\n",
      "Epoch [2/15], Train Loss: 0.0026, Val Loss: 0.0031\n",
      "Epoch [3/15], Train Loss: 0.0028, Val Loss: 0.0026\n",
      "Epoch [4/15], Train Loss: 0.0029, Val Loss: 0.0018\n",
      "Epoch [1/15], Train Loss: 0.0080, Val Loss: 0.0019\n",
      "Epoch [1/15], Train Loss: 0.0221, Val Loss: 0.0066\n",
      "Epoch [1/15], Train Loss: 0.0210, Val Loss: 0.0045\n",
      "Epoch [1/15], Train Loss: 0.0029, Val Loss: 0.0019\n",
      "Epoch [1/15], Train Loss: 0.0119, Val Loss: 0.0018\n",
      "Epoch [5/15], Train Loss: 0.0029, Val Loss: 0.0016\n",
      "Epoch [1/15], Train Loss: 0.0034, Val Loss: 0.0011\n",
      "Epoch [1/15], Train Loss: 0.0044, Val Loss: 0.0017\n",
      "Epoch [6/15], Train Loss: 0.0030, Val Loss: 0.0028\n",
      "Epoch [7/15], Train Loss: 0.0030, Val Loss: 0.0026\n",
      "Epoch [8/15], Train Loss: 0.0030, Val Loss: 0.0021\n",
      "Epoch [9/15], Train Loss: 0.0030, Val Loss: 0.0022\n",
      "Epoch [2/15], Train Loss: 0.0029, Val Loss: 0.0011\n",
      "Epoch [2/15], Train Loss: 0.0069, Val Loss: 0.0027\n",
      "Epoch [2/15], Train Loss: 0.0057, Val Loss: 0.0021\n",
      "Epoch [2/15], Train Loss: 0.0014, Val Loss: 0.0014\n",
      "Epoch [2/15], Train Loss: 0.0019, Val Loss: 0.0010\n",
      "Epoch [2/15], Train Loss: 0.0012, Val Loss: 0.0007\n",
      "Epoch [10/15], Train Loss: 0.0030, Val Loss: 0.0019\n",
      "Epoch [2/15], Train Loss: 0.0020, Val Loss: 0.0012\n",
      "Epoch [11/15], Train Loss: 0.0030, Val Loss: 0.0012\n",
      "Epoch [12/15], Train Loss: 0.0030, Val Loss: 0.0016\n",
      "Epoch [13/15], Train Loss: 0.0029, Val Loss: 0.0021\n",
      "Epoch [14/15], Train Loss: 0.0030, Val Loss: 0.0028\n"
     ]
    },
    {
     "name": "stderr",
     "output_type": "stream",
     "text": [
      "[I 2025-03-31 12:54:19,079] Trial 1 finished with value: 0.0010795074166737558 and parameters: {'rnn_units': 16, 'dropout_rate_rnn': 0.2, 'dense_units': 48, 'dropout_rate_dense': 0.4, 'learning_rate': 0.01, 'weight_decay': 0.001}. Best is trial 1 with value: 0.0010795074166737558.\n"
     ]
    },
    {
     "name": "stdout",
     "output_type": "stream",
     "text": [
      "Epoch [15/15], Train Loss: 0.0031, Val Loss: 0.0011\n",
      "Epoch [3/15], Train Loss: 0.0018, Val Loss: 0.0007\n",
      "Epoch [3/15], Train Loss: 0.0049, Val Loss: 0.0023\n",
      "Epoch [3/15], Train Loss: 0.0045, Val Loss: 0.0018\n",
      "Epoch [3/15], Train Loss: 0.0013, Val Loss: 0.0009\n",
      "Epoch [3/15], Train Loss: 0.0017, Val Loss: 0.0008\n",
      "Epoch [3/15], Train Loss: 0.0010, Val Loss: 0.0008\n",
      "Epoch [3/15], Train Loss: 0.0016, Val Loss: 0.0015\n",
      "Epoch [1/15], Train Loss: 0.0349, Val Loss: 0.0056\n",
      "Epoch [4/15], Train Loss: 0.0014, Val Loss: 0.0007\n",
      "Epoch [4/15], Train Loss: 0.0039, Val Loss: 0.0019\n",
      "Epoch [4/15], Train Loss: 0.0039, Val Loss: 0.0017\n",
      "Epoch [4/15], Train Loss: 0.0013, Val Loss: 0.0010\n",
      "Epoch [4/15], Train Loss: 0.0017, Val Loss: 0.0011\n",
      "Epoch [4/15], Train Loss: 0.0009, Val Loss: 0.0008\n",
      "Epoch [4/15], Train Loss: 0.0015, Val Loss: 0.0011\n",
      "Epoch [2/15], Train Loss: 0.0100, Val Loss: 0.0019\n",
      "Epoch [5/15], Train Loss: 0.0013, Val Loss: 0.0007\n",
      "Epoch [5/15], Train Loss: 0.0033, Val Loss: 0.0023\n",
      "Epoch [5/15], Train Loss: 0.0035, Val Loss: 0.0017\n",
      "Epoch [5/15], Train Loss: 0.0013, Val Loss: 0.0009\n",
      "Epoch [5/15], Train Loss: 0.0018, Val Loss: 0.0015\n",
      "Epoch [5/15], Train Loss: 0.0009, Val Loss: 0.0007\n",
      "Epoch [5/15], Train Loss: 0.0014, Val Loss: 0.0011\n",
      "Epoch [6/15], Train Loss: 0.0012, Val Loss: 0.0007\n",
      "Epoch [3/15], Train Loss: 0.0079, Val Loss: 0.0016\n",
      "Epoch [6/15], Train Loss: 0.0028, Val Loss: 0.0017\n",
      "Epoch [6/15], Train Loss: 0.0031, Val Loss: 0.0014\n",
      "Epoch [6/15], Train Loss: 0.0012, Val Loss: 0.0009\n",
      "Epoch [6/15], Train Loss: 0.0019, Val Loss: 0.0014\n",
      "Epoch [6/15], Train Loss: 0.0009, Val Loss: 0.0008\n",
      "Epoch [6/15], Train Loss: 0.0014, Val Loss: 0.0010\n",
      "Epoch [7/15], Train Loss: 0.0012, Val Loss: 0.0006\n",
      "Epoch [4/15], Train Loss: 0.0070, Val Loss: 0.0015\n",
      "Epoch [7/15], Train Loss: 0.0025, Val Loss: 0.0016\n",
      "Epoch [7/15], Train Loss: 0.0028, Val Loss: 0.0015\n",
      "Epoch [7/15], Train Loss: 0.0020, Val Loss: 0.0011\n",
      "Epoch [7/15], Train Loss: 0.0013, Val Loss: 0.0010\n",
      "Epoch [7/15], Train Loss: 0.0009, Val Loss: 0.0007\n",
      "Epoch [7/15], Train Loss: 0.0014, Val Loss: 0.0009\n",
      "Epoch [8/15], Train Loss: 0.0012, Val Loss: 0.0007\n",
      "Epoch [8/15], Train Loss: 0.0023, Val Loss: 0.0015\n",
      "Epoch [5/15], Train Loss: 0.0063, Val Loss: 0.0020\n",
      "Epoch [8/15], Train Loss: 0.0026, Val Loss: 0.0016\n",
      "Epoch [8/15], Train Loss: 0.0020, Val Loss: 0.0014\n",
      "Epoch [8/15], Train Loss: 0.0013, Val Loss: 0.0009\n",
      "Epoch [8/15], Train Loss: 0.0009, Val Loss: 0.0007\n",
      "Epoch [8/15], Train Loss: 0.0014, Val Loss: 0.0010\n",
      "Epoch [9/15], Train Loss: 0.0012, Val Loss: 0.0007\n",
      "Epoch [9/15], Train Loss: 0.0020, Val Loss: 0.0017\n",
      "Epoch [6/15], Train Loss: 0.0056, Val Loss: 0.0014\n",
      "Epoch [9/15], Train Loss: 0.0024, Val Loss: 0.0013\n",
      "Epoch [9/15], Train Loss: 0.0022, Val Loss: 0.0012\n",
      "Epoch [9/15], Train Loss: 0.0013, Val Loss: 0.0009\n",
      "Epoch [9/15], Train Loss: 0.0009, Val Loss: 0.0007\n",
      "Epoch [9/15], Train Loss: 0.0014, Val Loss: 0.0012\n",
      "Epoch [10/15], Train Loss: 0.0012, Val Loss: 0.0007\n",
      "Epoch [10/15], Train Loss: 0.0019, Val Loss: 0.0011\n",
      "Epoch [7/15], Train Loss: 0.0050, Val Loss: 0.0015\n",
      "Epoch [10/15], Train Loss: 0.0022, Val Loss: 0.0014\n"
     ]
    },
    {
     "name": "stderr",
     "output_type": "stream",
     "text": [
      "[I 2025-03-31 12:59:12,300] Trial 7 finished with value: 0.0008346766674461128 and parameters: {'rnn_units': 112, 'dropout_rate_rnn': 0.5, 'dense_units': 56, 'dropout_rate_dense': 0.0, 'learning_rate': 0.01, 'weight_decay': 0.0001}. Best is trial 7 with value: 0.0008346766674461128.\n"
     ]
    },
    {
     "name": "stdout",
     "output_type": "stream",
     "text": [
      "Epoch [10/15], Train Loss: 0.0023, Val Loss: 0.0018\n",
      "Early stopping nach 10 Epochen.\n",
      "Epoch [10/15], Train Loss: 0.0013, Val Loss: 0.0010\n",
      "Epoch [1/15], Train Loss: 0.0123, Val Loss: 0.0016\n",
      "Epoch [10/15], Train Loss: 0.0009, Val Loss: 0.0010\n",
      "Epoch [2/15], Train Loss: 0.0033, Val Loss: 0.0012\n",
      "Epoch [10/15], Train Loss: 0.0014, Val Loss: 0.0009\n",
      "Epoch [3/15], Train Loss: 0.0023, Val Loss: 0.0011\n",
      "Epoch [4/15], Train Loss: 0.0019, Val Loss: 0.0008\n",
      "Epoch [11/15], Train Loss: 0.0012, Val Loss: 0.0007\n",
      "Epoch [5/15], Train Loss: 0.0016, Val Loss: 0.0007\n",
      "Epoch [11/15], Train Loss: 0.0018, Val Loss: 0.0012\n",
      "Epoch [6/15], Train Loss: 0.0015, Val Loss: 0.0008\n",
      "Epoch [8/15], Train Loss: 0.0046, Val Loss: 0.0013\n",
      "Epoch [11/15], Train Loss: 0.0021, Val Loss: 0.0011\n",
      "Epoch [7/15], Train Loss: 0.0014, Val Loss: 0.0008\n",
      "Epoch [11/15], Train Loss: 0.0013, Val Loss: 0.0014\n",
      "Epoch [8/15], Train Loss: 0.0014, Val Loss: 0.0007\n",
      "Epoch [11/15], Train Loss: 0.0009, Val Loss: 0.0007\n",
      "Epoch [9/15], Train Loss: 0.0014, Val Loss: 0.0007\n",
      "Epoch [11/15], Train Loss: 0.0014, Val Loss: 0.0014\n",
      "Epoch [10/15], Train Loss: 0.0013, Val Loss: 0.0007\n",
      "Epoch [12/15], Train Loss: 0.0012, Val Loss: 0.0007\n",
      "Epoch [11/15], Train Loss: 0.0013, Val Loss: 0.0007\n",
      "Epoch [12/15], Train Loss: 0.0017, Val Loss: 0.0013\n",
      "Epoch [12/15], Train Loss: 0.0013, Val Loss: 0.0007\n",
      "Epoch [12/15], Train Loss: 0.0020, Val Loss: 0.0014\n",
      "Epoch [9/15], Train Loss: 0.0041, Val Loss: 0.0012\n",
      "Epoch [13/15], Train Loss: 0.0013, Val Loss: 0.0006\n",
      "Epoch [12/15], Train Loss: 0.0012, Val Loss: 0.0012\n",
      "Epoch [14/15], Train Loss: 0.0013, Val Loss: 0.0007\n"
     ]
    },
    {
     "name": "stderr",
     "output_type": "stream",
     "text": [
      "[I 2025-03-31 13:01:25,180] Trial 9 finished with value: 0.0006393669800966182 and parameters: {'rnn_units': 16, 'dropout_rate_rnn': 0.2, 'dense_units': 56, 'dropout_rate_dense': 0.4, 'learning_rate': 0.001, 'weight_decay': 1e-05}. Best is trial 9 with value: 0.0006393669800966182.\n"
     ]
    },
    {
     "name": "stdout",
     "output_type": "stream",
     "text": [
      "Epoch [15/15], Train Loss: 0.0013, Val Loss: 0.0007\n",
      "Epoch [12/15], Train Loss: 0.0009, Val Loss: 0.0007\n",
      "Epoch [12/15], Train Loss: 0.0014, Val Loss: 0.0014\n",
      "Epoch [13/15], Train Loss: 0.0012, Val Loss: 0.0007\n",
      "Epoch [13/15], Train Loss: 0.0016, Val Loss: 0.0012\n",
      "Epoch [13/15], Train Loss: 0.0019, Val Loss: 0.0011\n",
      "Epoch [10/15], Train Loss: 0.0036, Val Loss: 0.0012\n",
      "Epoch [13/15], Train Loss: 0.0012, Val Loss: 0.0010\n",
      "Epoch [1/15], Train Loss: 0.0178, Val Loss: 0.0036\n",
      "Epoch [13/15], Train Loss: 0.0009, Val Loss: 0.0007\n",
      "Epoch [13/15], Train Loss: 0.0014, Val Loss: 0.0009\n",
      "Epoch [14/15], Train Loss: 0.0012, Val Loss: 0.0006\n",
      "Epoch [14/15], Train Loss: 0.0016, Val Loss: 0.0009\n",
      "Epoch [14/15], Train Loss: 0.0018, Val Loss: 0.0010\n",
      "Epoch [11/15], Train Loss: 0.0033, Val Loss: 0.0011\n",
      "Epoch [14/15], Train Loss: 0.0012, Val Loss: 0.0009\n",
      "Epoch [2/15], Train Loss: 0.0058, Val Loss: 0.0018\n",
      "Epoch [14/15], Train Loss: 0.0009, Val Loss: 0.0008\n"
     ]
    },
    {
     "name": "stderr",
     "output_type": "stream",
     "text": [
      "[I 2025-03-31 13:02:59,304] Trial 3 finished with value: 0.0008815942814356775 and parameters: {'rnn_units': 128, 'dropout_rate_rnn': 0.1, 'dense_units': 40, 'dropout_rate_dense': 0.2, 'learning_rate': 0.001, 'weight_decay': 0.001}. Best is trial 9 with value: 0.0006393669800966182.\n"
     ]
    },
    {
     "name": "stdout",
     "output_type": "stream",
     "text": [
      "Epoch [14/15], Train Loss: 0.0014, Val Loss: 0.0011\n",
      "Early stopping nach 14 Epochen.\n"
     ]
    },
    {
     "name": "stderr",
     "output_type": "stream",
     "text": [
      "[I 2025-03-31 13:03:02,318] Trial 6 finished with value: 0.0006140163812585431 and parameters: {'rnn_units': 112, 'dropout_rate_rnn': 0.30000000000000004, 'dense_units': 16, 'dropout_rate_dense': 0.2, 'learning_rate': 0.001, 'weight_decay': 1e-05}. Best is trial 6 with value: 0.0006140163812585431.\n"
     ]
    },
    {
     "name": "stdout",
     "output_type": "stream",
     "text": [
      "Epoch [15/15], Train Loss: 0.0012, Val Loss: 0.0007\n"
     ]
    },
    {
     "name": "stderr",
     "output_type": "stream",
     "text": [
      "[I 2025-03-31 13:03:09,892] Trial 4 finished with value: 0.0009394698036856191 and parameters: {'rnn_units': 80, 'dropout_rate_rnn': 0.5, 'dense_units': 56, 'dropout_rate_dense': 0.0, 'learning_rate': 0.0001, 'weight_decay': 0.001}. Best is trial 6 with value: 0.0006140163812585431.\n"
     ]
    },
    {
     "name": "stdout",
     "output_type": "stream",
     "text": [
      "Epoch [15/15], Train Loss: 0.0015, Val Loss: 0.0010\n"
     ]
    },
    {
     "name": "stderr",
     "output_type": "stream",
     "text": [
      "[I 2025-03-31 13:03:14,649] Trial 2 finished with value: 0.0009985754056082618 and parameters: {'rnn_units': 80, 'dropout_rate_rnn': 0.2, 'dense_units': 40, 'dropout_rate_dense': 0.2, 'learning_rate': 0.0001, 'weight_decay': 0.001}. Best is trial 6 with value: 0.0006140163812585431.\n"
     ]
    },
    {
     "name": "stdout",
     "output_type": "stream",
     "text": [
      "Epoch [15/15], Train Loss: 0.0017, Val Loss: 0.0010\n",
      "Epoch [12/15], Train Loss: 0.0029, Val Loss: 0.0011\n",
      "Epoch [1/15], Train Loss: 0.1099, Val Loss: 0.0177\n"
     ]
    },
    {
     "name": "stderr",
     "output_type": "stream",
     "text": [
      "[I 2025-03-31 13:03:27,332] Trial 0 finished with value: 0.000852664282231877 and parameters: {'rnn_units': 112, 'dropout_rate_rnn': 0.1, 'dense_units': 40, 'dropout_rate_dense': 0.0, 'learning_rate': 0.001, 'weight_decay': 0.001}. Best is trial 6 with value: 0.0006140163812585431.\n"
     ]
    },
    {
     "name": "stdout",
     "output_type": "stream",
     "text": [
      "Epoch [15/15], Train Loss: 0.0012, Val Loss: 0.0009\n",
      "Early stopping nach 15 Epochen.\n",
      "Epoch [2/15], Train Loss: 0.0461, Val Loss: 0.0135\n",
      "Epoch [3/15], Train Loss: 0.0047, Val Loss: 0.0016\n",
      "Epoch [3/15], Train Loss: 0.0335, Val Loss: 0.0092\n"
     ]
    },
    {
     "name": "stderr",
     "output_type": "stream",
     "text": [
      "[I 2025-03-31 13:03:47,538] Trial 5 finished with value: 0.0006246793794073915 and parameters: {'rnn_units': 128, 'dropout_rate_rnn': 0.1, 'dense_units': 64, 'dropout_rate_dense': 0.0, 'learning_rate': 0.001, 'weight_decay': 0.0001}. Best is trial 6 with value: 0.0006140163812585431.\n"
     ]
    },
    {
     "name": "stdout",
     "output_type": "stream",
     "text": [
      "Epoch [15/15], Train Loss: 0.0009, Val Loss: 0.0006\n",
      "Epoch [1/15], Train Loss: 0.0122, Val Loss: 0.0024\n",
      "Epoch [4/15], Train Loss: 0.0269, Val Loss: 0.0099\n",
      "Epoch [1/15], Train Loss: 0.0505, Val Loss: 0.0083\n",
      "Epoch [1/15], Train Loss: 0.0308, Val Loss: 0.0042\n",
      "Epoch [5/15], Train Loss: 0.0223, Val Loss: 0.0070\n",
      "Epoch [2/15], Train Loss: 0.0133, Val Loss: 0.0061\n",
      "Epoch [1/15], Train Loss: 0.0090, Val Loss: 0.0016\n",
      "Epoch [6/15], Train Loss: 0.0182, Val Loss: 0.0054\n",
      "Epoch [13/15], Train Loss: 0.0027, Val Loss: 0.0009\n",
      "Epoch [3/15], Train Loss: 0.0092, Val Loss: 0.0052\n",
      "Epoch [7/15], Train Loss: 0.0147, Val Loss: 0.0034\n",
      "Epoch [4/15], Train Loss: 0.0062, Val Loss: 0.0031\n",
      "Epoch [1/15], Train Loss: 0.0078, Val Loss: 0.0013\n",
      "Epoch [8/15], Train Loss: 0.0120, Val Loss: 0.0033\n",
      "Epoch [5/15], Train Loss: 0.0045, Val Loss: 0.0024\n",
      "Epoch [9/15], Train Loss: 0.0100, Val Loss: 0.0028\n",
      "Epoch [4/15], Train Loss: 0.0040, Val Loss: 0.0016\n",
      "Epoch [6/15], Train Loss: 0.0037, Val Loss: 0.0021\n",
      "Epoch [10/15], Train Loss: 0.0083, Val Loss: 0.0030\n",
      "Epoch [2/15], Train Loss: 0.0048, Val Loss: 0.0021\n",
      "Epoch [7/15], Train Loss: 0.0032, Val Loss: 0.0019\n",
      "Epoch [11/15], Train Loss: 0.0070, Val Loss: 0.0021\n",
      "Epoch [2/15], Train Loss: 0.0121, Val Loss: 0.0047\n",
      "Epoch [8/15], Train Loss: 0.0030, Val Loss: 0.0018\n",
      "Epoch [12/15], Train Loss: 0.0060, Val Loss: 0.0025\n",
      "Epoch [2/15], Train Loss: 0.0017, Val Loss: 0.0009\n",
      "Epoch [9/15], Train Loss: 0.0028, Val Loss: 0.0017\n",
      "Epoch [13/15], Train Loss: 0.0052, Val Loss: 0.0020\n",
      "Epoch [14/15], Train Loss: 0.0024, Val Loss: 0.0010\n",
      "Epoch [10/15], Train Loss: 0.0026, Val Loss: 0.0016\n",
      "Epoch [14/15], Train Loss: 0.0046, Val Loss: 0.0020\n",
      "Epoch [2/15], Train Loss: 0.0029, Val Loss: 0.0018\n",
      "Epoch [11/15], Train Loss: 0.0025, Val Loss: 0.0014\n"
     ]
    },
    {
     "name": "stderr",
     "output_type": "stream",
     "text": [
      "[I 2025-03-31 13:06:11,736] Trial 14 finished with value: 0.001976413135003719 and parameters: {'rnn_units': 16, 'dropout_rate_rnn': 0.2, 'dense_units': 16, 'dropout_rate_dense': 0.4, 'learning_rate': 0.0001, 'weight_decay': 0.0001}. Best is trial 6 with value: 0.0006140163812585431.\n"
     ]
    },
    {
     "name": "stdout",
     "output_type": "stream",
     "text": [
      "Epoch [15/15], Train Loss: 0.0041, Val Loss: 0.0023\n",
      "Epoch [12/15], Train Loss: 0.0023, Val Loss: 0.0013\n",
      "Epoch [5/15], Train Loss: 0.0036, Val Loss: 0.0014\n",
      "Epoch [13/15], Train Loss: 0.0023, Val Loss: 0.0013\n",
      "Epoch [3/15], Train Loss: 0.0040, Val Loss: 0.0020\n",
      "Epoch [1/15], Train Loss: 0.0277, Val Loss: 0.0029\n",
      "Epoch [14/15], Train Loss: 0.0022, Val Loss: 0.0012\n",
      "Epoch [3/15], Train Loss: 0.0101, Val Loss: 0.0031\n"
     ]
    },
    {
     "name": "stderr",
     "output_type": "stream",
     "text": [
      "[I 2025-03-31 13:06:52,028] Trial 16 finished with value: 0.0011425041686321023 and parameters: {'rnn_units': 32, 'dropout_rate_rnn': 0.4, 'dense_units': 64, 'dropout_rate_dense': 0.0, 'learning_rate': 0.0001, 'weight_decay': 0.0001}. Best is trial 6 with value: 0.0006140163812585431.\n"
     ]
    },
    {
     "name": "stdout",
     "output_type": "stream",
     "text": [
      "Epoch [15/15], Train Loss: 0.0021, Val Loss: 0.0011\n",
      "Epoch [3/15], Train Loss: 0.0015, Val Loss: 0.0009\n"
     ]
    },
    {
     "name": "stderr",
     "output_type": "stream",
     "text": [
      "[I 2025-03-31 13:06:58,396] Trial 8 finished with value: 0.0008801198357926501 and parameters: {'rnn_units': 112, 'dropout_rate_rnn': 0.30000000000000004, 'dense_units': 24, 'dropout_rate_dense': 0.2, 'learning_rate': 0.0001, 'weight_decay': 1e-05}. Best is trial 6 with value: 0.0006140163812585431.\n"
     ]
    },
    {
     "name": "stdout",
     "output_type": "stream",
     "text": [
      "Epoch [15/15], Train Loss: 0.0022, Val Loss: 0.0009\n",
      "Epoch [2/15], Train Loss: 0.0069, Val Loss: 0.0018\n",
      "Epoch [3/15], Train Loss: 0.0020, Val Loss: 0.0010\n",
      "Epoch [3/15], Train Loss: 0.0034, Val Loss: 0.0012\n",
      "Epoch [6/15], Train Loss: 0.0032, Val Loss: 0.0013\n",
      "Epoch [4/15], Train Loss: 0.0034, Val Loss: 0.0017\n",
      "Epoch [4/15], Train Loss: 0.0087, Val Loss: 0.0017\n",
      "Epoch [4/15], Train Loss: 0.0026, Val Loss: 0.0010\n",
      "Epoch [1/15], Train Loss: 0.0101, Val Loss: 0.0013\n",
      "Epoch [4/15], Train Loss: 0.0016, Val Loss: 0.0010\n",
      "Epoch [1/15], Train Loss: 0.0091, Val Loss: 0.0019\n",
      "Epoch [4/15], Train Loss: 0.0015, Val Loss: 0.0010\n",
      "Epoch [5/15], Train Loss: 0.0024, Val Loss: 0.0008\n",
      "Epoch [7/15], Train Loss: 0.0028, Val Loss: 0.0012\n",
      "Epoch [6/15], Train Loss: 0.0022, Val Loss: 0.0008\n",
      "Epoch [5/15], Train Loss: 0.0031, Val Loss: 0.0024\n",
      "Epoch [5/15], Train Loss: 0.0077, Val Loss: 0.0014\n",
      "Epoch [7/15], Train Loss: 0.0021, Val Loss: 0.0006\n",
      "Epoch [2/15], Train Loss: 0.0039, Val Loss: 0.0013\n",
      "Epoch [2/15], Train Loss: 0.0034, Val Loss: 0.0010\n",
      "Epoch [5/15], Train Loss: 0.0017, Val Loss: 0.0012\n",
      "Epoch [5/15], Train Loss: 0.0013, Val Loss: 0.0007\n",
      "Epoch [8/15], Train Loss: 0.0020, Val Loss: 0.0007\n",
      "Epoch [8/15], Train Loss: 0.0026, Val Loss: 0.0011\n",
      "Epoch [6/15], Train Loss: 0.0028, Val Loss: 0.0017\n",
      "Epoch [9/15], Train Loss: 0.0020, Val Loss: 0.0008\n",
      "Epoch [6/15], Train Loss: 0.0067, Val Loss: 0.0022\n",
      "Epoch [3/15], Train Loss: 0.0025, Val Loss: 0.0009\n",
      "Epoch [10/15], Train Loss: 0.0020, Val Loss: 0.0006\n",
      "Epoch [3/15], Train Loss: 0.0020, Val Loss: 0.0007\n",
      "Epoch [6/15], Train Loss: 0.0019, Val Loss: 0.0013\n",
      "Epoch [6/15], Train Loss: 0.0012, Val Loss: 0.0006\n",
      "Epoch [11/15], Train Loss: 0.0020, Val Loss: 0.0007\n",
      "Epoch [9/15], Train Loss: 0.0024, Val Loss: 0.0012\n",
      "Epoch [7/15], Train Loss: 0.0026, Val Loss: 0.0016\n",
      "Epoch [12/15], Train Loss: 0.0020, Val Loss: 0.0007\n",
      "Epoch [7/15], Train Loss: 0.0059, Val Loss: 0.0017\n",
      "Epoch [4/15], Train Loss: 0.0017, Val Loss: 0.0010\n",
      "Epoch [4/15], Train Loss: 0.0014, Val Loss: 0.0007\n",
      "Epoch [13/15], Train Loss: 0.0020, Val Loss: 0.0007\n",
      "Epoch [7/15], Train Loss: 0.1128, Val Loss: 0.0126\n",
      "Epoch [7/15], Train Loss: 0.0012, Val Loss: 0.0010\n"
     ]
    },
    {
     "name": "stderr",
     "output_type": "stream",
     "text": [
      "[I 2025-03-31 13:10:42,420] Trial 17 finished with value: 0.0006328029518748911 and parameters: {'rnn_units': 48, 'dropout_rate_rnn': 0.4, 'dense_units': 8, 'dropout_rate_dense': 0.30000000000000004, 'learning_rate': 0.001, 'weight_decay': 1e-05}. Best is trial 6 with value: 0.0006140163812585431.\n"
     ]
    },
    {
     "name": "stdout",
     "output_type": "stream",
     "text": [
      "Epoch [14/15], Train Loss: 0.0019, Val Loss: 0.0008\n",
      "Early stopping nach 14 Epochen.\n",
      "Epoch [10/15], Train Loss: 0.0022, Val Loss: 0.0012\n",
      "Epoch [8/15], Train Loss: 0.0024, Val Loss: 0.0013\n",
      "Epoch [5/15], Train Loss: 0.0014, Val Loss: 0.0007\n",
      "Epoch [8/15], Train Loss: 0.0051, Val Loss: 0.0011\n",
      "Epoch [5/15], Train Loss: 0.0013, Val Loss: 0.0009\n",
      "Epoch [8/15], Train Loss: 0.0011, Val Loss: 0.0007\n",
      "Epoch [8/15], Train Loss: 0.0188, Val Loss: 0.0119\n",
      "Epoch [1/15], Train Loss: 0.0061, Val Loss: 0.0013\n",
      "Epoch [11/15], Train Loss: 0.0020, Val Loss: 0.0010\n",
      "Epoch [9/15], Train Loss: 0.0022, Val Loss: 0.0017\n",
      "Epoch [6/15], Train Loss: 0.0012, Val Loss: 0.0006\n",
      "Epoch [9/15], Train Loss: 0.0045, Val Loss: 0.0012\n",
      "Epoch [6/15], Train Loss: 0.0012, Val Loss: 0.0006\n",
      "Epoch [9/15], Train Loss: 0.0011, Val Loss: 0.0007\n",
      "Epoch [9/15], Train Loss: 0.0148, Val Loss: 0.0106\n",
      "Epoch [2/15], Train Loss: 0.0023, Val Loss: 0.0012\n",
      "Epoch [12/15], Train Loss: 0.0019, Val Loss: 0.0009\n",
      "Epoch [10/15], Train Loss: 0.0021, Val Loss: 0.0013\n",
      "Epoch [7/15], Train Loss: 0.0011, Val Loss: 0.0006\n",
      "Epoch [7/15], Train Loss: 0.0012, Val Loss: 0.0007\n",
      "Epoch [10/15], Train Loss: 0.0039, Val Loss: 0.0011\n",
      "Epoch [10/15], Train Loss: 0.0011, Val Loss: 0.0007\n"
     ]
    },
    {
     "name": "stderr",
     "output_type": "stream",
     "text": [
      "[I 2025-03-31 13:12:52,549] Trial 13 finished with value: 0.0008512251570796399 and parameters: {'rnn_units': 128, 'dropout_rate_rnn': 0.4, 'dense_units': 56, 'dropout_rate_dense': 0.2, 'learning_rate': 0.01, 'weight_decay': 1e-05}. Best is trial 6 with value: 0.0006140163812585431.\n"
     ]
    },
    {
     "name": "stdout",
     "output_type": "stream",
     "text": [
      "Epoch [10/15], Train Loss: 0.0119, Val Loss: 0.0047\n",
      "Early stopping nach 10 Epochen.\n",
      "Epoch [3/15], Train Loss: 0.0016, Val Loss: 0.0008\n",
      "Epoch [11/15], Train Loss: 0.0019, Val Loss: 0.0013\n",
      "Epoch [13/15], Train Loss: 0.0018, Val Loss: 0.0008\n",
      "Epoch [8/15], Train Loss: 0.0010, Val Loss: 0.0008\n",
      "Epoch [8/15], Train Loss: 0.0011, Val Loss: 0.0007\n",
      "Epoch [11/15], Train Loss: 0.0035, Val Loss: 0.0011\n",
      "Epoch [11/15], Train Loss: 0.0011, Val Loss: 0.0006\n",
      "Epoch [1/15], Train Loss: 0.0038, Val Loss: 0.0013\n",
      "Epoch [12/15], Train Loss: 0.0018, Val Loss: 0.0013\n",
      "Epoch [14/15], Train Loss: 0.0017, Val Loss: 0.0009\n",
      "Epoch [4/15], Train Loss: 0.0013, Val Loss: 0.0007\n",
      "Epoch [9/15], Train Loss: 0.0010, Val Loss: 0.0007\n",
      "Epoch [9/15], Train Loss: 0.0011, Val Loss: 0.0007\n",
      "Epoch [12/15], Train Loss: 0.0011, Val Loss: 0.0007\n",
      "Epoch [12/15], Train Loss: 0.0031, Val Loss: 0.0012\n",
      "Epoch [2/15], Train Loss: 0.0017, Val Loss: 0.0008\n",
      "Epoch [13/15], Train Loss: 0.0018, Val Loss: 0.0010\n"
     ]
    },
    {
     "name": "stderr",
     "output_type": "stream",
     "text": [
      "[I 2025-03-31 13:14:33,842] Trial 10 finished with value: 0.0008140040104814445 and parameters: {'rnn_units': 112, 'dropout_rate_rnn': 0.4, 'dense_units': 32, 'dropout_rate_dense': 0.1, 'learning_rate': 0.0001, 'weight_decay': 1e-05}. Best is trial 6 with value: 0.0006140163812585431.\n"
     ]
    },
    {
     "name": "stdout",
     "output_type": "stream",
     "text": [
      "Epoch [15/15], Train Loss: 0.0016, Val Loss: 0.0008\n",
      "Epoch [5/15], Train Loss: 0.0012, Val Loss: 0.0008\n",
      "Epoch [10/15], Train Loss: 0.0010, Val Loss: 0.0007\n",
      "Epoch [10/15], Train Loss: 0.0011, Val Loss: 0.0006\n",
      "Epoch [13/15], Train Loss: 0.0011, Val Loss: 0.0006\n",
      "Epoch [13/15], Train Loss: 0.0028, Val Loss: 0.0011\n",
      "Epoch [3/15], Train Loss: 0.0013, Val Loss: 0.0010\n",
      "Epoch [14/15], Train Loss: 0.0017, Val Loss: 0.0012\n",
      "Epoch [1/15], Train Loss: 0.0044, Val Loss: 0.0019\n",
      "Epoch [6/15], Train Loss: 0.0012, Val Loss: 0.0007\n",
      "Epoch [11/15], Train Loss: 0.0010, Val Loss: 0.0007\n",
      "Epoch [11/15], Train Loss: 0.0011, Val Loss: 0.0006\n",
      "Epoch [14/15], Train Loss: 0.0011, Val Loss: 0.0006\n",
      "Epoch [14/15], Train Loss: 0.0025, Val Loss: 0.0011\n",
      "Epoch [4/15], Train Loss: 0.0012, Val Loss: 0.0008\n",
      "Epoch [2/15], Train Loss: 0.0019, Val Loss: 0.0010\n"
     ]
    },
    {
     "name": "stderr",
     "output_type": "stream",
     "text": [
      "[I 2025-03-31 13:15:57,881] Trial 11 finished with value: 0.00097119541210451 and parameters: {'rnn_units': 80, 'dropout_rate_rnn': 0.2, 'dense_units': 32, 'dropout_rate_dense': 0.30000000000000004, 'learning_rate': 0.0001, 'weight_decay': 0.001}. Best is trial 6 with value: 0.0006140163812585431.\n"
     ]
    },
    {
     "name": "stdout",
     "output_type": "stream",
     "text": [
      "Epoch [15/15], Train Loss: 0.0016, Val Loss: 0.0010\n",
      "Epoch [7/15], Train Loss: 0.0011, Val Loss: 0.0008\n",
      "Epoch [12/15], Train Loss: 0.0010, Val Loss: 0.0007\n",
      "Epoch [12/15], Train Loss: 0.0011, Val Loss: 0.0006\n"
     ]
    },
    {
     "name": "stderr",
     "output_type": "stream",
     "text": [
      "[I 2025-03-31 13:16:21,318] Trial 15 finished with value: 0.0005903245406854342 and parameters: {'rnn_units': 80, 'dropout_rate_rnn': 0.30000000000000004, 'dense_units': 40, 'dropout_rate_dense': 0.2, 'learning_rate': 0.001, 'weight_decay': 0.0001}. Best is trial 15 with value: 0.0005903245406854342.\n"
     ]
    },
    {
     "name": "stdout",
     "output_type": "stream",
     "text": [
      "Epoch [15/15], Train Loss: 0.0011, Val Loss: 0.0007\n"
     ]
    },
    {
     "name": "stderr",
     "output_type": "stream",
     "text": [
      "[I 2025-03-31 13:16:28,960] Trial 12 finished with value: 0.0010618649304829418 and parameters: {'rnn_units': 128, 'dropout_rate_rnn': 0.4, 'dense_units': 32, 'dropout_rate_dense': 0.30000000000000004, 'learning_rate': 0.0001, 'weight_decay': 1e-05}. Best is trial 15 with value: 0.0005903245406854342.\n"
     ]
    },
    {
     "name": "stdout",
     "output_type": "stream",
     "text": [
      "Epoch [15/15], Train Loss: 0.0023, Val Loss: 0.0012\n",
      "Epoch [5/15], Train Loss: 0.0011, Val Loss: 0.0008\n",
      "Epoch [3/15], Train Loss: 0.0014, Val Loss: 0.0008\n",
      "Epoch [1/15], Train Loss: 0.0077, Val Loss: 0.0013\n",
      "Epoch [1/15], Train Loss: 0.0090, Val Loss: 0.0014\n",
      "Epoch [1/15], Train Loss: 0.0210, Val Loss: 0.0020\n",
      "Epoch [8/15], Train Loss: 0.0011, Val Loss: 0.0007\n",
      "Epoch [2/15], Train Loss: 0.0028, Val Loss: 0.0011\n",
      "Epoch [2/15], Train Loss: 0.0077, Val Loss: 0.0014\n",
      "Epoch [13/15], Train Loss: 0.0010, Val Loss: 0.0008\n",
      "Epoch [13/15], Train Loss: 0.0012, Val Loss: 0.0006\n",
      "Epoch [3/15], Train Loss: 0.0019, Val Loss: 0.0009\n",
      "Epoch [6/15], Train Loss: 0.0011, Val Loss: 0.0007\n",
      "Epoch [3/15], Train Loss: 0.0042, Val Loss: 0.0015\n",
      "Epoch [4/15], Train Loss: 0.0013, Val Loss: 0.0007\n",
      "Epoch [2/15], Train Loss: 0.0032, Val Loss: 0.0009\n",
      "Epoch [4/15], Train Loss: 0.0015, Val Loss: 0.0008\n",
      "Epoch [4/15], Train Loss: 0.0025, Val Loss: 0.0010\n",
      "Epoch [9/15], Train Loss: 0.0011, Val Loss: 0.0008\n",
      "Epoch [5/15], Train Loss: 0.0013, Val Loss: 0.0007\n"
     ]
    },
    {
     "name": "stderr",
     "output_type": "stream",
     "text": [
      "[I 2025-03-31 13:18:13,775] Trial 18 finished with value: 0.0005743369560913115 and parameters: {'rnn_units': 128, 'dropout_rate_rnn': 0.30000000000000004, 'dense_units': 16, 'dropout_rate_dense': 0.1, 'learning_rate': 0.001, 'weight_decay': 1e-05}. Best is trial 18 with value: 0.0005743369560913115.\n"
     ]
    },
    {
     "name": "stdout",
     "output_type": "stream",
     "text": [
      "Epoch [14/15], Train Loss: 0.0010, Val Loss: 0.0006\n",
      "Early stopping nach 14 Epochen.\n",
      "Epoch [5/15], Train Loss: 0.0018, Val Loss: 0.0012\n",
      "Epoch [14/15], Train Loss: 0.0011, Val Loss: 0.0010\n",
      "Epoch [7/15], Train Loss: 0.0011, Val Loss: 0.0007\n",
      "Epoch [6/15], Train Loss: 0.0013, Val Loss: 0.0007\n",
      "Epoch [5/15], Train Loss: 0.0012, Val Loss: 0.0009\n",
      "Epoch [3/15], Train Loss: 0.0019, Val Loss: 0.0009\n",
      "Epoch [6/15], Train Loss: 0.0015, Val Loss: 0.0008\n",
      "Epoch [1/15], Train Loss: 0.0077, Val Loss: 0.0014\n",
      "Epoch [7/15], Train Loss: 0.0013, Val Loss: 0.0009\n",
      "Epoch [7/15], Train Loss: 0.0013, Val Loss: 0.0007\n",
      "Epoch [2/15], Train Loss: 0.0028, Val Loss: 0.0009\n",
      "Epoch [10/15], Train Loss: 0.0011, Val Loss: 0.0010\n",
      "Epoch [8/15], Train Loss: 0.0013, Val Loss: 0.0007\n"
     ]
    },
    {
     "name": "stderr",
     "output_type": "stream",
     "text": [
      "[I 2025-03-31 13:19:18,698] Trial 19 finished with value: 0.0006143561339183268 and parameters: {'rnn_units': 128, 'dropout_rate_rnn': 0.30000000000000004, 'dense_units': 8, 'dropout_rate_dense': 0.1, 'learning_rate': 0.001, 'weight_decay': 1e-05}. Best is trial 18 with value: 0.0005743369560913115.\n"
     ]
    },
    {
     "name": "stdout",
     "output_type": "stream",
     "text": [
      "Epoch [15/15], Train Loss: 0.0011, Val Loss: 0.0006\n",
      "Epoch [8/15], Train Loss: 0.0013, Val Loss: 0.0008\n",
      "Epoch [3/15], Train Loss: 0.0020, Val Loss: 0.0008\n",
      "Epoch [8/15], Train Loss: 0.0011, Val Loss: 0.0007\n",
      "Epoch [6/15], Train Loss: 0.0012, Val Loss: 0.0007\n",
      "Epoch [4/15], Train Loss: 0.0014, Val Loss: 0.0009\n",
      "Epoch [9/15], Train Loss: 0.0013, Val Loss: 0.0006\n",
      "Epoch [1/15], Train Loss: 0.0049, Val Loss: 0.0017\n",
      "Epoch [9/15], Train Loss: 0.0012, Val Loss: 0.0007\n",
      "Epoch [4/15], Train Loss: 0.0016, Val Loss: 0.0007\n",
      "Epoch [11/15], Train Loss: 0.0011, Val Loss: 0.0007\n",
      "Epoch [10/15], Train Loss: 0.0013, Val Loss: 0.0006\n",
      "Epoch [2/15], Train Loss: 0.0020, Val Loss: 0.0009\n",
      "Epoch [10/15], Train Loss: 0.0012, Val Loss: 0.0007\n",
      "Epoch [5/15], Train Loss: 0.0013, Val Loss: 0.0011\n",
      "Epoch [9/15], Train Loss: 0.0011, Val Loss: 0.0006\n",
      "Epoch [11/15], Train Loss: 0.0012, Val Loss: 0.0008\n",
      "Epoch [3/15], Train Loss: 0.0015, Val Loss: 0.0008\n",
      "Epoch [7/15], Train Loss: 0.0012, Val Loss: 0.0008\n",
      "Epoch [5/15], Train Loss: 0.0013, Val Loss: 0.0008\n",
      "Epoch [11/15], Train Loss: 0.0012, Val Loss: 0.0007\n",
      "Epoch [6/15], Train Loss: 0.0012, Val Loss: 0.0006\n",
      "Epoch [12/15], Train Loss: 0.0012, Val Loss: 0.0007\n",
      "Epoch [4/15], Train Loss: 0.0013, Val Loss: 0.0007\n",
      "Epoch [12/15], Train Loss: 0.0012, Val Loss: 0.0006\n",
      "Epoch [7/15], Train Loss: 0.0012, Val Loss: 0.0007\n",
      "Epoch [12/15], Train Loss: 0.0011, Val Loss: 0.0010\n",
      "Epoch [13/15], Train Loss: 0.0012, Val Loss: 0.0008\n",
      "Epoch [5/15], Train Loss: 0.0012, Val Loss: 0.0007\n",
      "Epoch [13/15], Train Loss: 0.0012, Val Loss: 0.0007\n",
      "Epoch [8/15], Train Loss: 0.0012, Val Loss: 0.0007\n",
      "Epoch [10/15], Train Loss: 0.0011, Val Loss: 0.0008\n",
      "Epoch [8/15], Train Loss: 0.0012, Val Loss: 0.0008\n",
      "Epoch [6/15], Train Loss: 0.0012, Val Loss: 0.0008\n",
      "Epoch [14/15], Train Loss: 0.0012, Val Loss: 0.0006\n",
      "Epoch [6/15], Train Loss: 0.0011, Val Loss: 0.0006\n",
      "Epoch [14/15], Train Loss: 0.0012, Val Loss: 0.0007\n",
      "Epoch [9/15], Train Loss: 0.0011, Val Loss: 0.0006\n"
     ]
    },
    {
     "name": "stderr",
     "output_type": "stream",
     "text": [
      "[I 2025-03-31 13:22:34,738] Trial 20 finished with value: 0.0006809995961262875 and parameters: {'rnn_units': 128, 'dropout_rate_rnn': 0.30000000000000004, 'dense_units': 24, 'dropout_rate_dense': 0.1, 'learning_rate': 0.001, 'weight_decay': 0.0001}. Best is trial 18 with value: 0.0005743369560913115.\n"
     ]
    },
    {
     "name": "stdout",
     "output_type": "stream",
     "text": [
      "Epoch [13/15], Train Loss: 0.0011, Val Loss: 0.0009\n",
      "Early stopping nach 13 Epochen.\n",
      "Epoch [15/15], Train Loss: 0.0012, Val Loss: 0.0009\n"
     ]
    },
    {
     "name": "stderr",
     "output_type": "stream",
     "text": [
      "[I 2025-03-31 13:22:35,208] Trial 24 finished with value: 0.0006371874569595093 and parameters: {'rnn_units': 64, 'dropout_rate_rnn': 0.30000000000000004, 'dense_units': 8, 'dropout_rate_dense': 0.1, 'learning_rate': 0.001, 'weight_decay': 0.0001}. Best is trial 18 with value: 0.0005743369560913115.\n"
     ]
    },
    {
     "name": "stdout",
     "output_type": "stream",
     "text": [
      "Epoch [7/15], Train Loss: 0.0011, Val Loss: 0.0009\n"
     ]
    },
    {
     "name": "stderr",
     "output_type": "stream",
     "text": [
      "[I 2025-03-31 13:22:44,231] Trial 25 finished with value: 0.0006435765079063017 and parameters: {'rnn_units': 64, 'dropout_rate_rnn': 0.30000000000000004, 'dense_units': 8, 'dropout_rate_dense': 0.1, 'learning_rate': 0.001, 'weight_decay': 0.0001}. Best is trial 18 with value: 0.0005743369560913115.\n"
     ]
    },
    {
     "name": "stdout",
     "output_type": "stream",
     "text": [
      "Epoch [15/15], Train Loss: 0.0012, Val Loss: 0.0008\n",
      "Epoch [10/15], Train Loss: 0.0011, Val Loss: 0.0007\n",
      "Epoch [9/15], Train Loss: 0.0013, Val Loss: 0.0009\n",
      "Epoch [7/15], Train Loss: 0.0012, Val Loss: 0.0009\n",
      "Epoch [11/15], Train Loss: 0.0011, Val Loss: 0.0008\n",
      "Epoch [8/15], Train Loss: 0.0011, Val Loss: 0.0006\n",
      "Epoch [11/15], Train Loss: 0.0011, Val Loss: 0.0009\n",
      "Epoch [9/15], Train Loss: 0.0011, Val Loss: 0.0006\n",
      "Epoch [1/15], Train Loss: 0.0118, Val Loss: 0.0012\n",
      "Epoch [1/15], Train Loss: 0.0094, Val Loss: 0.0012\n",
      "Epoch [12/15], Train Loss: 0.0011, Val Loss: 0.0007\n",
      "Epoch [10/15], Train Loss: 0.0011, Val Loss: 0.0006\n",
      "Epoch [10/15], Train Loss: 0.0012, Val Loss: 0.0008\n"
     ]
    },
    {
     "name": "stderr",
     "output_type": "stream",
     "text": [
      "[I 2025-03-31 13:23:47,448] Trial 26 finished with value: 0.0006287034429401354 and parameters: {'rnn_units': 64, 'dropout_rate_rnn': 0.30000000000000004, 'dense_units': 24, 'dropout_rate_dense': 0.1, 'learning_rate': 0.001, 'weight_decay': 0.0001}. Best is trial 18 with value: 0.0005743369560913115.\n"
     ]
    },
    {
     "name": "stdout",
     "output_type": "stream",
     "text": [
      "Epoch [13/15], Train Loss: 0.0011, Val Loss: 0.0008\n",
      "Early stopping nach 13 Epochen.\n",
      "Epoch [8/15], Train Loss: 0.0012, Val Loss: 0.0008\n",
      "Epoch [12/15], Train Loss: 0.0011, Val Loss: 0.0008\n",
      "Epoch [11/15], Train Loss: 0.0011, Val Loss: 0.0007\n",
      "Epoch [2/15], Train Loss: 0.0045, Val Loss: 0.0011\n",
      "Epoch [2/15], Train Loss: 0.0036, Val Loss: 0.0009\n",
      "Epoch [12/15], Train Loss: 0.0011, Val Loss: 0.0006\n",
      "Epoch [11/15], Train Loss: 0.0012, Val Loss: 0.0008\n",
      "Epoch [9/15], Train Loss: 0.0012, Val Loss: 0.0008\n",
      "Epoch [13/15], Train Loss: 0.0011, Val Loss: 0.0008\n",
      "Epoch [13/15], Train Loss: 0.0011, Val Loss: 0.0010\n",
      "Epoch [3/15], Train Loss: 0.0029, Val Loss: 0.0011\n",
      "Epoch [14/15], Train Loss: 0.0011, Val Loss: 0.0007\n",
      "Epoch [3/15], Train Loss: 0.0023, Val Loss: 0.0009\n"
     ]
    },
    {
     "name": "stderr",
     "output_type": "stream",
     "text": [
      "[I 2025-03-31 13:24:56,299] Trial 27 finished with value: 0.0006295986669659126 and parameters: {'rnn_units': 64, 'dropout_rate_rnn': 0.30000000000000004, 'dense_units': 24, 'dropout_rate_dense': 0.1, 'learning_rate': 0.001, 'weight_decay': 0.0001}. Best is trial 18 with value: 0.0005743369560913115.\n"
     ]
    },
    {
     "name": "stdout",
     "output_type": "stream",
     "text": [
      "Epoch [15/15], Train Loss: 0.0011, Val Loss: 0.0008\n",
      "Early stopping nach 15 Epochen.\n",
      "Epoch [12/15], Train Loss: 0.0012, Val Loss: 0.0007\n",
      "Epoch [10/15], Train Loss: 0.0012, Val Loss: 0.0008\n",
      "Epoch [14/15], Train Loss: 0.0011, Val Loss: 0.0007\n",
      "Epoch [4/15], Train Loss: 0.0020, Val Loss: 0.0008\n",
      "Epoch [4/15], Train Loss: 0.0016, Val Loss: 0.0007\n",
      "Epoch [13/15], Train Loss: 0.0012, Val Loss: 0.0007\n",
      "Epoch [11/15], Train Loss: 0.0012, Val Loss: 0.0008\n"
     ]
    },
    {
     "name": "stderr",
     "output_type": "stream",
     "text": [
      "[I 2025-03-31 13:25:28,908] Trial 21 finished with value: 0.0006421912859819244 and parameters: {'rnn_units': 96, 'dropout_rate_rnn': 0.30000000000000004, 'dense_units': 24, 'dropout_rate_dense': 0.1, 'learning_rate': 0.001, 'weight_decay': 0.0001}. Best is trial 18 with value: 0.0005743369560913115.\n"
     ]
    },
    {
     "name": "stdout",
     "output_type": "stream",
     "text": [
      "Epoch [15/15], Train Loss: 0.0011, Val Loss: 0.0006\n",
      "Epoch [5/15], Train Loss: 0.0015, Val Loss: 0.0007\n",
      "Epoch [5/15], Train Loss: 0.0013, Val Loss: 0.0009\n",
      "Epoch [14/15], Train Loss: 0.0012, Val Loss: 0.0007\n",
      "Epoch [12/15], Train Loss: 0.0012, Val Loss: 0.0007\n",
      "Epoch [6/15], Train Loss: 0.0013, Val Loss: 0.0008\n",
      "Epoch [6/15], Train Loss: 0.0012, Val Loss: 0.0006\n"
     ]
    },
    {
     "name": "stderr",
     "output_type": "stream",
     "text": [
      "[I 2025-03-31 13:26:06,871] Trial 22 finished with value: 0.000631184100242418 and parameters: {'rnn_units': 96, 'dropout_rate_rnn': 0.30000000000000004, 'dense_units': 8, 'dropout_rate_dense': 0.1, 'learning_rate': 0.001, 'weight_decay': 0.0001}. Best is trial 18 with value: 0.0005743369560913115.\n"
     ]
    },
    {
     "name": "stdout",
     "output_type": "stream",
     "text": [
      "Epoch [15/15], Train Loss: 0.0012, Val Loss: 0.0006\n",
      "Epoch [13/15], Train Loss: 0.0012, Val Loss: 0.0009\n",
      "Epoch [7/15], Train Loss: 0.0011, Val Loss: 0.0006\n",
      "Epoch [7/15], Train Loss: 0.0011, Val Loss: 0.0006\n",
      "Epoch [14/15], Train Loss: 0.0012, Val Loss: 0.0006\n",
      "Epoch [8/15], Train Loss: 0.0011, Val Loss: 0.0012\n",
      "Epoch [8/15], Train Loss: 0.0011, Val Loss: 0.0006\n"
     ]
    },
    {
     "name": "stderr",
     "output_type": "stream",
     "text": [
      "[I 2025-03-31 13:26:39,356] Trial 23 finished with value: 0.000626548415311845 and parameters: {'rnn_units': 96, 'dropout_rate_rnn': 0.30000000000000004, 'dense_units': 8, 'dropout_rate_dense': 0.1, 'learning_rate': 0.001, 'weight_decay': 0.0001}. Best is trial 18 with value: 0.0005743369560913115.\n"
     ]
    },
    {
     "name": "stdout",
     "output_type": "stream",
     "text": [
      "Epoch [15/15], Train Loss: 0.0012, Val Loss: 0.0007\n",
      "Epoch [9/15], Train Loss: 0.0010, Val Loss: 0.0006\n",
      "Epoch [9/15], Train Loss: 0.0010, Val Loss: 0.0008\n",
      "Epoch [10/15], Train Loss: 0.0010, Val Loss: 0.0007\n",
      "Epoch [10/15], Train Loss: 0.0010, Val Loss: 0.0006\n",
      "Epoch [11/15], Train Loss: 0.0010, Val Loss: 0.0008\n",
      "Epoch [11/15], Train Loss: 0.0010, Val Loss: 0.0007\n",
      "Epoch [12/15], Train Loss: 0.0010, Val Loss: 0.0008\n",
      "Epoch [12/15], Train Loss: 0.0010, Val Loss: 0.0006\n",
      "Epoch [13/15], Train Loss: 0.0010, Val Loss: 0.0009\n",
      "Epoch [13/15], Train Loss: 0.0010, Val Loss: 0.0006\n",
      "Epoch [14/15], Train Loss: 0.0010, Val Loss: 0.0006\n",
      "Epoch [14/15], Train Loss: 0.0010, Val Loss: 0.0007\n"
     ]
    },
    {
     "name": "stderr",
     "output_type": "stream",
     "text": [
      "[I 2025-03-31 13:27:50,906] Trial 29 finished with value: 0.0005941036032445188 and parameters: {'rnn_units': 96, 'dropout_rate_rnn': 0.30000000000000004, 'dense_units': 16, 'dropout_rate_dense': 0.1, 'learning_rate': 0.001, 'weight_decay': 1e-05}. Best is trial 18 with value: 0.0005743369560913115.\n"
     ]
    },
    {
     "name": "stdout",
     "output_type": "stream",
     "text": [
      "Epoch [15/15], Train Loss: 0.0010, Val Loss: 0.0006\n"
     ]
    },
    {
     "name": "stderr",
     "output_type": "stream",
     "text": [
      "[I 2025-03-31 13:27:51,215] Trial 28 finished with value: 0.0005934571509574345 and parameters: {'rnn_units': 96, 'dropout_rate_rnn': 0.30000000000000004, 'dense_units': 16, 'dropout_rate_dense': 0.1, 'learning_rate': 0.001, 'weight_decay': 1e-05}. Best is trial 18 with value: 0.0005743369560913115.\n"
     ]
    },
    {
     "name": "stdout",
     "output_type": "stream",
     "text": [
      "Epoch [15/15], Train Loss: 0.0010, Val Loss: 0.0007\n",
      "Best trial parameters:\n",
      "rnn_units: 128\n",
      "dropout_rate_rnn: 0.30000000000000004\n",
      "dense_units: 16\n",
      "dropout_rate_dense: 0.1\n",
      "learning_rate: 0.001\n",
      "weight_decay: 1e-05\n"
     ]
    }
   ],
   "source": [
    "def objective(trial):\n",
    "    hp = {\n",
    "        'rnn_units': trial.suggest_int('rnn_units', 16, 128, step=16),\n",
    "        'dropout_rate_rnn': trial.suggest_float('dropout_rate_rnn', 0.1, 0.5, step=0.1),\n",
    "        'dense_units': trial.suggest_int('dense_units', 8, 64, step=8),\n",
    "        'dropout_rate_dense': trial.suggest_float('dropout_rate_dense', 0.0, 0.4, step=0.1),\n",
    "        'learning_rate': trial.suggest_categorical('learning_rate', [1e-2, 1e-3, 1e-4]),\n",
    "        'weight_decay': trial.suggest_categorical('weight_decay', [1e-5, 1e-4, 1e-3]),\n",
    "    }\n",
    "\n",
    "    rnn_model = SimpleRNN(input_size = X_train.shape[2], hp= hp)\n",
    "    criterion = nn.MSELoss()\n",
    "    optimizer = torch.optim.Adam(rnn_model.parameters(), lr=hp['learning_rate'], weight_decay=hp['weight_decay'])\n",
    "\n",
    "    num_epochs = 15\n",
    "    patience = 7  # Stop, wenn val_loss sich 10 Epochen lang nicht verbessert\n",
    "    best_val_loss = float('inf')\n",
    "    early_stopping_counter = 0\n",
    "\n",
    "    for epoch in range(num_epochs):\n",
    "        rnn_model.train()\n",
    "        train_loss = 0.0\n",
    "\n",
    "        # Training Loop\n",
    "        for X_batch, y_batch in train_loader:\n",
    "            y_pred = rnn_model(X_batch)\n",
    "            loss = criterion(y_pred, y_batch)\n",
    "            optimizer.zero_grad()\n",
    "            loss.backward()\n",
    "            optimizer.step()\n",
    "\n",
    "            train_loss += loss.item()\n",
    "        train_loss /= len(train_loader)\n",
    "\n",
    "        # Validation Loop (nach jeder Epoche)\n",
    "        rnn_model.eval()\n",
    "        val_loss = 0.0\n",
    "        with torch.no_grad():\n",
    "            for X_batch, y_batch in val_loader:\n",
    "                y_pred = rnn_model(X_batch)\n",
    "                loss = criterion(y_pred, y_batch)\n",
    "                val_loss += loss.item()\n",
    "        val_loss /= len(val_loader)\n",
    "\n",
    "        print(f'Epoch [{epoch+1}/{num_epochs}], Train Loss: {train_loss:.4f}, Val Loss: {val_loss:.4f}')\n",
    "\n",
    "        # Early Stopping Check\n",
    "        if val_loss < best_val_loss:\n",
    "            best_val_loss = val_loss\n",
    "            early_stopping_counter = 0  # Reset Counter\n",
    "        else:\n",
    "            early_stopping_counter += 1\n",
    "            if early_stopping_counter >= patience:\n",
    "                print(f\"Early stopping nach {epoch+1} Epochen.\")\n",
    "                break\n",
    "\n",
    "    return best_val_loss  # Val Loss zurückgeben für Optuna\n",
    "\n",
    "# Hyperparameter tuning\n",
    "study = optuna.create_study(direction='minimize')\n",
    "study.optimize(objective, n_trials=30, n_jobs = 8)\n",
    "\n",
    "# Show Best Result\n",
    "print(\"Best trial parameters:\")\n",
    "for key, value in study.best_trial.params.items():\n",
    "    print(f\"{key}: {value}\")\n"
   ]
  },
  {
   "cell_type": "code",
   "execution_count": 9,
   "metadata": {},
   "outputs": [],
   "source": [
    "# save best hyperparameters\n",
    "best_hp = study.best_trial.params\n",
    "with open(\"best_hp_all_models/best_hp_rnn.json\", \"w\") as f:\n",
    "    json.dump(best_hp, f)"
   ]
  },
  {
   "cell_type": "code",
   "execution_count": 10,
   "metadata": {},
   "outputs": [],
   "source": [
    "# load best hyperparameters \n",
    "with open(\"best_hp_all_models/best_hp_rnn.json\", \"r\") as f:\n",
    "    best_hp = json.load(f)\n"
   ]
  },
  {
   "cell_type": "code",
   "execution_count": 13,
   "metadata": {},
   "outputs": [
    {
     "name": "stdout",
     "output_type": "stream",
     "text": [
      "Epoch [1/50], Train Loss: 0.0102, Val Loss: 0.0012\n",
      "Epoch [2/50], Train Loss: 0.0041, Val Loss: 0.0021\n",
      "Epoch [3/50], Train Loss: 0.0026, Val Loss: 0.0008\n",
      "Epoch [4/50], Train Loss: 0.0018, Val Loss: 0.0011\n",
      "Epoch [5/50], Train Loss: 0.0014, Val Loss: 0.0007\n",
      "Epoch [6/50], Train Loss: 0.0012, Val Loss: 0.0006\n",
      "Epoch [7/50], Train Loss: 0.0011, Val Loss: 0.0007\n",
      "Epoch [8/50], Train Loss: 0.0011, Val Loss: 0.0007\n",
      "Epoch [9/50], Train Loss: 0.0011, Val Loss: 0.0007\n",
      "Epoch [10/50], Train Loss: 0.0010, Val Loss: 0.0007\n",
      "Epoch [11/50], Train Loss: 0.0010, Val Loss: 0.0006\n",
      "Epoch [12/50], Train Loss: 0.0010, Val Loss: 0.0007\n",
      "Epoch [13/50], Train Loss: 0.0010, Val Loss: 0.0007\n",
      "Epoch [14/50], Train Loss: 0.0010, Val Loss: 0.0006\n",
      "Epoch [15/50], Train Loss: 0.0010, Val Loss: 0.0007\n",
      "Epoch [16/50], Train Loss: 0.0010, Val Loss: 0.0009\n",
      "Epoch [17/50], Train Loss: 0.0010, Val Loss: 0.0006\n",
      "Epoch [18/50], Train Loss: 0.0010, Val Loss: 0.0008\n",
      "Epoch [19/50], Train Loss: 0.0010, Val Loss: 0.0007\n",
      "Epoch [20/50], Train Loss: 0.0010, Val Loss: 0.0007\n",
      "Epoch [21/50], Train Loss: 0.0010, Val Loss: 0.0006\n",
      "Epoch [22/50], Train Loss: 0.0010, Val Loss: 0.0006\n",
      "Epoch [23/50], Train Loss: 0.0010, Val Loss: 0.0007\n",
      "Epoch [24/50], Train Loss: 0.0010, Val Loss: 0.0007\n",
      "Epoch [25/50], Train Loss: 0.0009, Val Loss: 0.0008\n",
      "Epoch [26/50], Train Loss: 0.0010, Val Loss: 0.0009\n",
      "Epoch [27/50], Train Loss: 0.0009, Val Loss: 0.0006\n",
      "Epoch [28/50], Train Loss: 0.0009, Val Loss: 0.0006\n",
      "Epoch [29/50], Train Loss: 0.0010, Val Loss: 0.0006\n",
      "Epoch [30/50], Train Loss: 0.0009, Val Loss: 0.0006\n",
      "Epoch [31/50], Train Loss: 0.0009, Val Loss: 0.0006\n",
      "Epoch [32/50], Train Loss: 0.0009, Val Loss: 0.0007\n",
      "Epoch [33/50], Train Loss: 0.0009, Val Loss: 0.0006\n",
      "Epoch [34/50], Train Loss: 0.0009, Val Loss: 0.0008\n",
      "Epoch [35/50], Train Loss: 0.0009, Val Loss: 0.0007\n",
      "Epoch [36/50], Train Loss: 0.0009, Val Loss: 0.0008\n",
      "Epoch [37/50], Train Loss: 0.0009, Val Loss: 0.0008\n",
      "Epoch [38/50], Train Loss: 0.0009, Val Loss: 0.0006\n",
      "Epoch [39/50], Train Loss: 0.0009, Val Loss: 0.0007\n",
      "Epoch [40/50], Train Loss: 0.0009, Val Loss: 0.0006\n",
      "Early stopping nach 40 Epochen.\n"
     ]
    },
    {
     "data": {
      "image/png": "[encoded data removed]",
      "text/plain": [
       "<Figure size 800x500 with 1 Axes>"
      ]
     },
     "metadata": {},
     "output_type": "display_data"
    }
   ],
   "source": [
    "# Bestes Modell mit den gefundenen Hyperparametern trainieren\n",
    "best_hp = study.best_trial.params\n",
    "final_model = SimpleRNN(input_size=X_train.shape[2], hp=best_hp)\n",
    "criterion = nn.MSELoss()\n",
    "optimizer = torch.optim.Adam(final_model.parameters(), lr=best_hp['learning_rate'], weight_decay=best_hp['weight_decay'])\n",
    "\n",
    "num_epochs = 50\n",
    "train_loss_history = []\n",
    "val_loss_history = []\n",
    "patience = 10\n",
    "best_val_loss = float('inf')\n",
    "early_stopping_counter = 0\n",
    "\n",
    "for epoch in range(num_epochs):\n",
    "    final_model.train()\n",
    "    train_loss = 0.0\n",
    "    for X_batch, y_batch in train_loader:\n",
    "        optimizer.zero_grad()\n",
    "        y_pred = final_model(X_batch)\n",
    "        loss = criterion(y_pred, y_batch)\n",
    "        loss.backward()\n",
    "        optimizer.step()\n",
    "        train_loss += loss.item()\n",
    "    train_loss /= len(train_loader)\n",
    "    train_loss_history.append(train_loss)\n",
    "\n",
    "    # Validation Loss berechnen\n",
    "    final_model.eval()\n",
    "    val_loss = 0.0\n",
    "    with torch.no_grad():\n",
    "        for X_batch, y_batch in val_loader:\n",
    "            y_pred = final_model(X_batch)\n",
    "            loss = criterion(y_pred, y_batch)\n",
    "            val_loss += loss.item()\n",
    "    val_loss /= len(val_loader)\n",
    "    val_loss_history.append(val_loss)\n",
    "\n",
    "    print(f'Epoch [{epoch+1}/{num_epochs}], Train Loss: {train_loss:.4f}, Val Loss: {val_loss:.4f}')\n",
    "\n",
    "    # Early Stopping Check\n",
    "    if val_loss < best_val_loss:\n",
    "        best_val_loss = val_loss\n",
    "        early_stopping_counter = 0  # Reset Counter\n",
    "    else:\n",
    "        early_stopping_counter += 1\n",
    "        if early_stopping_counter >= patience:\n",
    "            print(f\"Early stopping nach {epoch+1} Epochen.\")\n",
    "            break\n",
    "\n",
    "    # Save weights of the model \n",
    "    torch.save(final_model.state_dict(), \"saved_models/rnn_model_final.pth\")\n",
    "\n",
    "# **Trainingshistorie plotten**\n",
    "plt.figure(figsize=(8, 5))\n",
    "plt.plot(train_loss_history, label=\"Train Loss\")\n",
    "plt.plot(val_loss_history, label=\"Val Loss\")\n",
    "plt.xlabel(\"Epochen\")\n",
    "plt.ylabel(\"Loss\")\n",
    "plt.legend()\n",
    "plt.title(\"Trainings- und Validierungsverlust\")\n",
    "plt.show()"
   ]
  },
  {
   "cell_type": "code",
   "execution_count": 14,
   "metadata": {},
   "outputs": [
    {
     "data": {
      "text/plain": [
       "SimpleRNN(\n",
       "  (rnn): RNN(17, 128, batch_first=True)\n",
       "  (dropout1): Dropout(p=0.30000000000000004, inplace=False)\n",
       "  (fc1): Linear(in_features=128, out_features=16, bias=True)\n",
       "  (dropout2): Dropout(p=0.1, inplace=False)\n",
       "  (fc2): Linear(in_features=16, out_features=1, bias=True)\n",
       ")"
      ]
     },
     "execution_count": 14,
     "metadata": {},
     "output_type": "execute_result"
    }
   ],
   "source": [
    "# load trained model  \n",
    "rnn_final = SimpleRNN(input_size=X_train.shape[2], hp=best_hp)\n",
    "rnn_final.load_state_dict(torch.load(\"saved_models/rnn_model_final.pth\"))\n",
    "rnn_final.eval()"
   ]
  },
  {
   "cell_type": "code",
   "execution_count": 16,
   "metadata": {},
   "outputs": [
    {
     "name": "stdout",
     "output_type": "stream",
     "text": [
      "Test Loss (MSE): 0.0005\n",
      "Test RMSE (PyTorch): 0.0224\n"
     ]
    }
   ],
   "source": [
    "from sklearn.metrics import mean_squared_error\n",
    "import numpy as np\n",
    "\n",
    "rnn_final.eval()\n",
    "test_loss = 0\n",
    "test_predictions = []\n",
    "test_targets = []\n",
    "\n",
    "with torch.no_grad():\n",
    "    for X_test_batch, y_test_batch in test_loader:\n",
    "        X_test_batch = X_test_batch\n",
    "        y_test_batch = y_test_batch\n",
    "\n",
    "        test_outputs = rnn_final(X_test_batch).squeeze()\n",
    "        loss = criterion(test_outputs, y_test_batch.squeeze())\n",
    "        test_loss += loss.item()\n",
    "\n",
    "        test_predictions.extend(test_outputs.cpu().numpy())\n",
    "        test_targets.extend(y_test_batch.squeeze().cpu().numpy())\n",
    "\n",
    "# Mittelwert des Kriteriums (z. B. MSELoss)\n",
    "test_loss /= len(test_loader)\n",
    "print(f\"Test Loss (MSE): {test_loss:.4f}\")\n",
    "\n",
    "# RMSE\n",
    "def RMSELoss(y_pred, y_true):\n",
    "    return torch.sqrt(torch.mean((y_pred - y_true) ** 2))\n",
    "\n",
    "# Torch-Tensors\n",
    "y_pred_tensor = torch.tensor(test_predictions)\n",
    "y_true_tensor = torch.tensor(test_targets)\n",
    "\n",
    "rmse = RMSELoss(y_pred_tensor, y_true_tensor).item()\n",
    "print(f\"Test RMSE (PyTorch): {rmse:.4f}\")"
   ]
  },
  {
   "cell_type": "code",
   "execution_count": null,
   "metadata": {},
   "outputs": [],
   "source": []
  }
 ],
 "metadata": {
  "kernelspec": {
   "display_name": "ep_forecasting_env",
   "language": "python",
   "name": "python3"
  },
  "language_info": {
   "codemirror_mode": {
    "name": "ipython",
    "version": 3
   },
   "file_extension": ".py",
   "mimetype": "text/x-python",
   "name": "python",
   "nbconvert_exporter": "python",
   "pygments_lexer": "ipython3",
   "version": "3.9.18"
  }
 },
 "nbformat": 4,
 "nbformat_minor": 2
}

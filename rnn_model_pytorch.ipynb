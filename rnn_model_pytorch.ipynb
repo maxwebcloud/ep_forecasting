{
 "cells": [
  {
   "cell_type": "code",
   "execution_count": 1,
   "metadata": {},
   "outputs": [],
   "source": [
    "from sympy import false, true\n",
    "import torch\n",
    "import torch.nn as nn\n",
    "from torch.utils.data import DataLoader, TensorDataset\n",
    "import pickle"
   ]
  },
  {
   "cell_type": "code",
   "execution_count": 4,
   "metadata": {},
   "outputs": [],
   "source": [
    "# Data Import \n",
    "\n",
    "# Load X_train\n",
    "with open(\"data/X_train.pkl\", \"rb\") as f:\n",
    "    X_train = pickle.load(f)\n",
    "\n",
    "# Load y_train\n",
    "with open(\"data/y_train.pkl\", \"rb\") as f:\n",
    "    y_train = pickle.load(f)\n",
    "\n",
    "# Load X_val\n",
    "with open(\"data/X_val.pkl\", \"rb\") as f:\n",
    "    X_val = pickle.load(f)\n",
    "\n",
    "# Load y_val\n",
    "with open(\"data/y_val.pkl\", \"rb\") as f:\n",
    "    y_val = pickle.load(f)\n",
    "\n",
    "# Load X_test\n",
    "with open(\"data/X_test.pkl\", \"rb\") as f:\n",
    "    X_test = pickle.load(f)\n",
    "\n",
    "# Load y_test\n",
    "with open(\"data/y_test.pkl\", \"rb\") as f:\n",
    "    y_test = pickle.load(f)\n",
    "\n",
    "# Load df_final_viz\n",
    "with open(\"data/df_final_viz.pkl\", \"rb\") as f:\n",
    "    df_final_viz = pickle.load(f)"
   ]
  },
  {
   "cell_type": "code",
   "execution_count": 32,
   "metadata": {},
   "outputs": [],
   "source": [
    "# In Torch-Tensoren umwandeln\n",
    "X_train_tensor = torch.tensor(X_train, dtype=torch.float32)\n",
    "y_train_tensor = torch.tensor(y_train, dtype=torch.float32).unsqueeze(1)\n",
    "\n",
    "X_val_tensor = torch.tensor(X_val, dtype=torch.float32)\n",
    "y_val_tensor = torch.tensor(y_val, dtype=torch.float32).unsqueeze(1)\n",
    "\n",
    "X_test_tensor = torch.tensor(X_test, dtype=torch.float32)\n",
    "y_test_tensor = torch.tensor(y_test, dtype=torch.float32).unsqueeze(1)\n",
    "\n",
    "# Datasets und DataLoader\n",
    "train_dataset = TensorDataset(X_train_tensor, y_train_tensor)\n",
    "val_dataset = TensorDataset(X_val_tensor, y_val_tensor)\n",
    "test_dataset = TensorDataset(X_test_tensor, y_test_tensor)\n",
    "\n",
    "train_loader = DataLoader(train_dataset, batch_size=32, shuffle=True, drop_last = True)\n",
    "val_loader = DataLoader(val_dataset, batch_size=32, shuffle=False, drop_last = True)\n",
    "test_loader = DataLoader(test_dataset, batch_size=32, shuffle=False, drop_last = True)"
   ]
  },
  {
   "cell_type": "code",
   "execution_count": 31,
   "metadata": {},
   "outputs": [
    {
     "data": {
      "text/plain": [
       "27024"
      ]
     },
     "execution_count": 31,
     "metadata": {},
     "output_type": "execute_result"
    }
   ],
   "source": [
    "X_train.shape[0]"
   ]
  },
  {
   "cell_type": "code",
   "execution_count": 33,
   "metadata": {},
   "outputs": [],
   "source": [
    "class SimpleRNN(nn.Module):\n",
    "    def __init__(self, input_size, hidden_size, dense_units):\n",
    "        super(SimpleRNN, self).__init__()\n",
    "        self.rnn = nn.RNN(input_size, hidden_size, batch_first=True)\n",
    "        self.dropout = nn.Dropout(0.1)\n",
    "        self.fc1 = nn.Linear(hidden_size, dense_units)\n",
    "        self.fc2 = nn.Linear(dense_units, 1)\n",
    "\n",
    "    def forward(self, x):\n",
    "        out, _ = self.rnn(x)\n",
    "        out = out[:, -1, :]  # Nur der letzte Zeitschritt\n",
    "        out = self.dropout(out)\n",
    "        out = self.fc1(out)\n",
    "        out = self.fc2(out)\n",
    "        return out"
   ]
  },
  {
   "cell_type": "code",
   "execution_count": null,
   "metadata": {},
   "outputs": [
    {
     "data": {
      "text/plain": [
       "torch.Size([32, 1])"
      ]
     },
     "execution_count": 29,
     "metadata": {},
     "output_type": "execute_result"
    }
   ],
   "source": [
    "y_batch.shape"
   ]
  },
  {
   "cell_type": "code",
   "execution_count": 36,
   "metadata": {},
   "outputs": [
    {
     "name": "stdout",
     "output_type": "stream",
     "text": [
      "Epoch [1/50], Train Loss: 0.0049, Val Loss: 0.0011\n",
      "Epoch [2/50], Train Loss: 0.0016, Val Loss: 0.0008\n",
      "Epoch [3/50], Train Loss: 0.0012, Val Loss: 0.0007\n",
      "Epoch [4/50], Train Loss: 0.0010, Val Loss: 0.0007\n",
      "Epoch [5/50], Train Loss: 0.0009, Val Loss: 0.0007\n",
      "Epoch [6/50], Train Loss: 0.0009, Val Loss: 0.0006\n",
      "Epoch [7/50], Train Loss: 0.0008, Val Loss: 0.0007\n",
      "Epoch [8/50], Train Loss: 0.0008, Val Loss: 0.0009\n",
      "Epoch [9/50], Train Loss: 0.0008, Val Loss: 0.0007\n",
      "Epoch [10/50], Train Loss: 0.0008, Val Loss: 0.0006\n",
      "Epoch [11/50], Train Loss: 0.0008, Val Loss: 0.0009\n",
      "Epoch [12/50], Train Loss: 0.0008, Val Loss: 0.0006\n",
      "Epoch [13/50], Train Loss: 0.0007, Val Loss: 0.0007\n",
      "Epoch [14/50], Train Loss: 0.0007, Val Loss: 0.0008\n",
      "Epoch [15/50], Train Loss: 0.0007, Val Loss: 0.0008\n",
      "Epoch [16/50], Train Loss: 0.0007, Val Loss: 0.0008\n",
      "Epoch [17/50], Train Loss: 0.0007, Val Loss: 0.0006\n",
      "Epoch [18/50], Train Loss: 0.0007, Val Loss: 0.0006\n",
      "Epoch [19/50], Train Loss: 0.0007, Val Loss: 0.0006\n",
      "Epoch [20/50], Train Loss: 0.0007, Val Loss: 0.0007\n",
      "Epoch [21/50], Train Loss: 0.0007, Val Loss: 0.0005\n",
      "Epoch [22/50], Train Loss: 0.0007, Val Loss: 0.0005\n",
      "Epoch [23/50], Train Loss: 0.0007, Val Loss: 0.0006\n",
      "Epoch [24/50], Train Loss: 0.0007, Val Loss: 0.0006\n",
      "Epoch [25/50], Train Loss: 0.0007, Val Loss: 0.0006\n",
      "Epoch [26/50], Train Loss: 0.0007, Val Loss: 0.0005\n",
      "Epoch [27/50], Train Loss: 0.0007, Val Loss: 0.0006\n",
      "Epoch [28/50], Train Loss: 0.0007, Val Loss: 0.0005\n",
      "Epoch [29/50], Train Loss: 0.0006, Val Loss: 0.0007\n",
      "Epoch [30/50], Train Loss: 0.0006, Val Loss: 0.0006\n",
      "Epoch [31/50], Train Loss: 0.0006, Val Loss: 0.0009\n",
      "Epoch [32/50], Train Loss: 0.0006, Val Loss: 0.0005\n",
      "Epoch [33/50], Train Loss: 0.0006, Val Loss: 0.0006\n",
      "Epoch [34/50], Train Loss: 0.0006, Val Loss: 0.0005\n",
      "Epoch [35/50], Train Loss: 0.0006, Val Loss: 0.0005\n",
      "Epoch [36/50], Train Loss: 0.0006, Val Loss: 0.0005\n",
      "Epoch [37/50], Train Loss: 0.0006, Val Loss: 0.0006\n",
      "Epoch [38/50], Train Loss: 0.0006, Val Loss: 0.0006\n",
      "Epoch [39/50], Train Loss: 0.0006, Val Loss: 0.0006\n",
      "Epoch [40/50], Train Loss: 0.0006, Val Loss: 0.0006\n",
      "Epoch [41/50], Train Loss: 0.0006, Val Loss: 0.0006\n",
      "Epoch [42/50], Train Loss: 0.0006, Val Loss: 0.0005\n",
      "Epoch [43/50], Train Loss: 0.0006, Val Loss: 0.0006\n",
      "Epoch [44/50], Train Loss: 0.0006, Val Loss: 0.0005\n",
      "Epoch [45/50], Train Loss: 0.0006, Val Loss: 0.0006\n",
      "Epoch [46/50], Train Loss: 0.0006, Val Loss: 0.0005\n",
      "Epoch [47/50], Train Loss: 0.0006, Val Loss: 0.0005\n",
      "Epoch [48/50], Train Loss: 0.0006, Val Loss: 0.0006\n",
      "Epoch [49/50], Train Loss: 0.0006, Val Loss: 0.0005\n",
      "Epoch [50/50], Train Loss: 0.0006, Val Loss: 0.0005\n"
     ]
    }
   ],
   "source": [
    "rnn_model = SimpleRNN(input_size = X_train.shape[2], hidden_size = 48, dense_units = 32)\n",
    "criterion = nn.MSELoss()\n",
    "optimizer = torch.optim.Adam(rnn_model.parameters(), lr = 0.001)\n",
    "\n",
    "num_epochs = 50\n",
    "for epoch in range(num_epochs):\n",
    "    rnn_model.train()\n",
    "    train_loss = 0.0\n",
    "    for X_batch, y_batch in train_loader:\n",
    "        y_pred = rnn_model(X_batch)\n",
    "        loss = criterion(y_pred, y_batch)\n",
    "        optimizer.zero_grad()\n",
    "        loss.backward()\n",
    "        optimizer.step()\n",
    "\n",
    "        train_loss += loss.item()\n",
    "    train_loss/= len(train_loader)\n",
    "\n",
    "    rnn_model.eval()\n",
    "    val_loss = 0.0\n",
    "    with torch.no_grad():\n",
    "        for X_batch, y_batch in val_loader:\n",
    "            y_pred = rnn_model(X_batch)\n",
    "            loss = criterion(y_pred, y_batch)\n",
    "            val_loss += loss.item()\n",
    "    val_loss /= len(val_loader)\n",
    "\n",
    "    print(f'Epoch [{epoch+1}/{num_epochs}], Train Loss: {train_loss:.4f}, Val Loss: {val_loss:.4f}')\n"
   ]
  },
  {
   "cell_type": "code",
   "execution_count": 10,
   "metadata": {},
   "outputs": [
    {
     "data": {
      "text/plain": [
       "torch.Size([16, 24, 17])"
      ]
     },
     "execution_count": 10,
     "metadata": {},
     "output_type": "execute_result"
    }
   ],
   "source": [
    "X_batch.shape"
   ]
  }
 ],
 "metadata": {
  "kernelspec": {
   "display_name": "ep_forecasting_env",
   "language": "python",
   "name": "python3"
  },
  "language_info": {
   "codemirror_mode": {
    "name": "ipython",
    "version": 3
   },
   "file_extension": ".py",
   "mimetype": "text/x-python",
   "name": "python",
   "nbconvert_exporter": "python",
   "pygments_lexer": "ipython3",
   "version": "3.9.18"
  }
 },
 "nbformat": 4,
 "nbformat_minor": 2
}

{
 "cells": [
  {
   "cell_type": "markdown",
   "id": "94ba8dfe",
   "metadata": {},
   "source": [
    "### Wilcoxon test for the LSTM and RNN Models with a sequence length of 168"
   ]
  },
  {
   "cell_type": "code",
   "execution_count": null,
   "id": "a47ed36d",
   "metadata": {},
   "outputs": [],
   "source": [
    "# Imports\n",
    "import scipy.stats as stats"
   ]
  },
  {
   "cell_type": "code",
   "execution_count": null,
   "id": "90a65492",
   "metadata": {},
   "outputs": [],
   "source": [
    "# Rmse values copied from the terminal output\n",
    "\n",
    "lstm_rmses = [0.02544, 0.02153, 0.02169, 0.02321, 0.02479]\n",
    "rnn_rmses = [0.03471, 0.02291, 0.02698, 0.13910, 0.02811]"
   ]
  },
  {
   "cell_type": "code",
   "execution_count": 4,
   "id": "dfac0bc3",
   "metadata": {},
   "outputs": [
    {
     "name": "stdout",
     "output_type": "stream",
     "text": [
      "0.0625\n"
     ]
    }
   ],
   "source": [
    "# Wilcoxon test\n",
    "\n",
    "stat, p_value = stats.wilcoxon(lstm_rmses, rnn_rmses)\n",
    "print(p_value)"
   ]
  }
 ],
 "metadata": {
  "kernelspec": {
   "display_name": "ep_forecasting_env",
   "language": "python",
   "name": "python3"
  },
  "language_info": {
   "codemirror_mode": {
    "name": "ipython",
    "version": 3
   },
   "file_extension": ".py",
   "mimetype": "text/x-python",
   "name": "python",
   "nbconvert_exporter": "python",
   "pygments_lexer": "ipython3",
   "version": "3.9.18"
  }
 },
 "nbformat": 4,
 "nbformat_minor": 5
}

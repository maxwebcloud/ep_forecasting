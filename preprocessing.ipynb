{
 "cells": [
  {
   "cell_type": "code",
   "execution_count": 1,
   "metadata": {},
   "outputs": [],
   "source": [
    "#Packages \n",
    "import pandas as pd"
   ]
  },
  {
   "cell_type": "code",
   "execution_count": 2,
   "metadata": {},
   "outputs": [],
   "source": [
    "#Data Import\n",
    "df_energy = pd.read_csv(\"data/energy_dataset.csv\") \n",
    "df_weather = pd.read_csv(\"data/weather_features.csv\")"
   ]
  },
  {
   "cell_type": "markdown",
   "metadata": {},
   "source": [
    "# 1.Exploration and Cleaning"
   ]
  },
  {
   "cell_type": "markdown",
   "metadata": {},
   "source": [
    "## 1.1 Energy dataset"
   ]
  },
  {
   "cell_type": "code",
   "execution_count": 3,
   "metadata": {},
   "outputs": [
    {
     "data": {
      "application/vnd.microsoft.datawrangler.viewer.v0+json": {
       "columns": [
        {
         "name": "index",
         "rawType": "int64",
         "type": "integer"
        },
        {
         "name": "time",
         "rawType": "object",
         "type": "string"
        },
        {
         "name": "generation biomass",
         "rawType": "float64",
         "type": "float"
        },
        {
         "name": "generation fossil brown coal/lignite",
         "rawType": "float64",
         "type": "float"
        },
        {
         "name": "generation fossil coal-derived gas",
         "rawType": "float64",
         "type": "float"
        },
        {
         "name": "generation fossil gas",
         "rawType": "float64",
         "type": "float"
        },
        {
         "name": "generation fossil hard coal",
         "rawType": "float64",
         "type": "float"
        },
        {
         "name": "generation fossil oil",
         "rawType": "float64",
         "type": "float"
        },
        {
         "name": "generation fossil oil shale",
         "rawType": "float64",
         "type": "float"
        },
        {
         "name": "generation fossil peat",
         "rawType": "float64",
         "type": "float"
        },
        {
         "name": "generation geothermal",
         "rawType": "float64",
         "type": "float"
        },
        {
         "name": "generation hydro pumped storage aggregated",
         "rawType": "float64",
         "type": "float"
        },
        {
         "name": "generation hydro pumped storage consumption",
         "rawType": "float64",
         "type": "float"
        },
        {
         "name": "generation hydro run-of-river and poundage",
         "rawType": "float64",
         "type": "float"
        },
        {
         "name": "generation hydro water reservoir",
         "rawType": "float64",
         "type": "float"
        },
        {
         "name": "generation marine",
         "rawType": "float64",
         "type": "float"
        },
        {
         "name": "generation nuclear",
         "rawType": "float64",
         "type": "float"
        },
        {
         "name": "generation other",
         "rawType": "float64",
         "type": "float"
        },
        {
         "name": "generation other renewable",
         "rawType": "float64",
         "type": "float"
        },
        {
         "name": "generation solar",
         "rawType": "float64",
         "type": "float"
        },
        {
         "name": "generation waste",
         "rawType": "float64",
         "type": "float"
        },
        {
         "name": "generation wind offshore",
         "rawType": "float64",
         "type": "float"
        },
        {
         "name": "generation wind onshore",
         "rawType": "float64",
         "type": "float"
        },
        {
         "name": "forecast solar day ahead",
         "rawType": "float64",
         "type": "float"
        },
        {
         "name": "forecast wind offshore eday ahead",
         "rawType": "float64",
         "type": "float"
        },
        {
         "name": "forecast wind onshore day ahead",
         "rawType": "float64",
         "type": "float"
        },
        {
         "name": "total load forecast",
         "rawType": "float64",
         "type": "float"
        },
        {
         "name": "total load actual",
         "rawType": "float64",
         "type": "float"
        },
        {
         "name": "price day ahead",
         "rawType": "float64",
         "type": "float"
        },
        {
         "name": "price actual",
         "rawType": "float64",
         "type": "float"
        }
       ],
       "conversionMethod": "pd.DataFrame",
       "ref": "d47fd7dd-969d-4f64-bcf8-9930a9eb455f",
       "rows": [
        [
         "0",
         "2015-01-01 00:00:00+01:00",
         "447.0",
         "329.0",
         "0.0",
         "4844.0",
         "4821.0",
         "162.0",
         "0.0",
         "0.0",
         "0.0",
         null,
         "863.0",
         "1051.0",
         "1899.0",
         "0.0",
         "7096.0",
         "43.0",
         "73.0",
         "49.0",
         "196.0",
         "0.0",
         "6378.0",
         "17.0",
         null,
         "6436.0",
         "26118.0",
         "25385.0",
         "50.1",
         "65.41"
        ],
        [
         "1",
         "2015-01-01 01:00:00+01:00",
         "449.0",
         "328.0",
         "0.0",
         "5196.0",
         "4755.0",
         "158.0",
         "0.0",
         "0.0",
         "0.0",
         null,
         "920.0",
         "1009.0",
         "1658.0",
         "0.0",
         "7096.0",
         "43.0",
         "71.0",
         "50.0",
         "195.0",
         "0.0",
         "5890.0",
         "16.0",
         null,
         "5856.0",
         "24934.0",
         "24382.0",
         "48.1",
         "64.92"
        ],
        [
         "2",
         "2015-01-01 02:00:00+01:00",
         "448.0",
         "323.0",
         "0.0",
         "4857.0",
         "4581.0",
         "157.0",
         "0.0",
         "0.0",
         "0.0",
         null,
         "1164.0",
         "973.0",
         "1371.0",
         "0.0",
         "7099.0",
         "43.0",
         "73.0",
         "50.0",
         "196.0",
         "0.0",
         "5461.0",
         "8.0",
         null,
         "5454.0",
         "23515.0",
         "22734.0",
         "47.33",
         "64.48"
        ],
        [
         "3",
         "2015-01-01 03:00:00+01:00",
         "438.0",
         "254.0",
         "0.0",
         "4314.0",
         "4131.0",
         "160.0",
         "0.0",
         "0.0",
         "0.0",
         null,
         "1503.0",
         "949.0",
         "779.0",
         "0.0",
         "7098.0",
         "43.0",
         "75.0",
         "50.0",
         "191.0",
         "0.0",
         "5238.0",
         "2.0",
         null,
         "5151.0",
         "22642.0",
         "21286.0",
         "42.27",
         "59.32"
        ],
        [
         "4",
         "2015-01-01 04:00:00+01:00",
         "428.0",
         "187.0",
         "0.0",
         "4130.0",
         "3840.0",
         "156.0",
         "0.0",
         "0.0",
         "0.0",
         null,
         "1826.0",
         "953.0",
         "720.0",
         "0.0",
         "7097.0",
         "43.0",
         "74.0",
         "42.0",
         "189.0",
         "0.0",
         "4935.0",
         "9.0",
         null,
         "4861.0",
         "21785.0",
         "20264.0",
         "38.41",
         "56.04"
        ]
       ],
       "shape": {
        "columns": 29,
        "rows": 5
       }
      },
      "text/html": [
       "<div>\n",
       "<style scoped>\n",
       "    .dataframe tbody tr th:only-of-type {\n",
       "        vertical-align: middle;\n",
       "    }\n",
       "\n",
       "    .dataframe tbody tr th {\n",
       "        vertical-align: top;\n",
       "    }\n",
       "\n",
       "    .dataframe thead th {\n",
       "        text-align: right;\n",
       "    }\n",
       "</style>\n",
       "<table border=\"1\" class=\"dataframe\">\n",
       "  <thead>\n",
       "    <tr style=\"text-align: right;\">\n",
       "      <th></th>\n",
       "      <th>time</th>\n",
       "      <th>generation biomass</th>\n",
       "      <th>generation fossil brown coal/lignite</th>\n",
       "      <th>generation fossil coal-derived gas</th>\n",
       "      <th>generation fossil gas</th>\n",
       "      <th>generation fossil hard coal</th>\n",
       "      <th>generation fossil oil</th>\n",
       "      <th>generation fossil oil shale</th>\n",
       "      <th>generation fossil peat</th>\n",
       "      <th>generation geothermal</th>\n",
       "      <th>...</th>\n",
       "      <th>generation waste</th>\n",
       "      <th>generation wind offshore</th>\n",
       "      <th>generation wind onshore</th>\n",
       "      <th>forecast solar day ahead</th>\n",
       "      <th>forecast wind offshore eday ahead</th>\n",
       "      <th>forecast wind onshore day ahead</th>\n",
       "      <th>total load forecast</th>\n",
       "      <th>total load actual</th>\n",
       "      <th>price day ahead</th>\n",
       "      <th>price actual</th>\n",
       "    </tr>\n",
       "  </thead>\n",
       "  <tbody>\n",
       "    <tr>\n",
       "      <th>0</th>\n",
       "      <td>2015-01-01 00:00:00+01:00</td>\n",
       "      <td>447.0</td>\n",
       "      <td>329.0</td>\n",
       "      <td>0.0</td>\n",
       "      <td>4844.0</td>\n",
       "      <td>4821.0</td>\n",
       "      <td>162.0</td>\n",
       "      <td>0.0</td>\n",
       "      <td>0.0</td>\n",
       "      <td>0.0</td>\n",
       "      <td>...</td>\n",
       "      <td>196.0</td>\n",
       "      <td>0.0</td>\n",
       "      <td>6378.0</td>\n",
       "      <td>17.0</td>\n",
       "      <td>NaN</td>\n",
       "      <td>6436.0</td>\n",
       "      <td>26118.0</td>\n",
       "      <td>25385.0</td>\n",
       "      <td>50.10</td>\n",
       "      <td>65.41</td>\n",
       "    </tr>\n",
       "    <tr>\n",
       "      <th>1</th>\n",
       "      <td>2015-01-01 01:00:00+01:00</td>\n",
       "      <td>449.0</td>\n",
       "      <td>328.0</td>\n",
       "      <td>0.0</td>\n",
       "      <td>5196.0</td>\n",
       "      <td>4755.0</td>\n",
       "      <td>158.0</td>\n",
       "      <td>0.0</td>\n",
       "      <td>0.0</td>\n",
       "      <td>0.0</td>\n",
       "      <td>...</td>\n",
       "      <td>195.0</td>\n",
       "      <td>0.0</td>\n",
       "      <td>5890.0</td>\n",
       "      <td>16.0</td>\n",
       "      <td>NaN</td>\n",
       "      <td>5856.0</td>\n",
       "      <td>24934.0</td>\n",
       "      <td>24382.0</td>\n",
       "      <td>48.10</td>\n",
       "      <td>64.92</td>\n",
       "    </tr>\n",
       "    <tr>\n",
       "      <th>2</th>\n",
       "      <td>2015-01-01 02:00:00+01:00</td>\n",
       "      <td>448.0</td>\n",
       "      <td>323.0</td>\n",
       "      <td>0.0</td>\n",
       "      <td>4857.0</td>\n",
       "      <td>4581.0</td>\n",
       "      <td>157.0</td>\n",
       "      <td>0.0</td>\n",
       "      <td>0.0</td>\n",
       "      <td>0.0</td>\n",
       "      <td>...</td>\n",
       "      <td>196.0</td>\n",
       "      <td>0.0</td>\n",
       "      <td>5461.0</td>\n",
       "      <td>8.0</td>\n",
       "      <td>NaN</td>\n",
       "      <td>5454.0</td>\n",
       "      <td>23515.0</td>\n",
       "      <td>22734.0</td>\n",
       "      <td>47.33</td>\n",
       "      <td>64.48</td>\n",
       "    </tr>\n",
       "    <tr>\n",
       "      <th>3</th>\n",
       "      <td>2015-01-01 03:00:00+01:00</td>\n",
       "      <td>438.0</td>\n",
       "      <td>254.0</td>\n",
       "      <td>0.0</td>\n",
       "      <td>4314.0</td>\n",
       "      <td>4131.0</td>\n",
       "      <td>160.0</td>\n",
       "      <td>0.0</td>\n",
       "      <td>0.0</td>\n",
       "      <td>0.0</td>\n",
       "      <td>...</td>\n",
       "      <td>191.0</td>\n",
       "      <td>0.0</td>\n",
       "      <td>5238.0</td>\n",
       "      <td>2.0</td>\n",
       "      <td>NaN</td>\n",
       "      <td>5151.0</td>\n",
       "      <td>22642.0</td>\n",
       "      <td>21286.0</td>\n",
       "      <td>42.27</td>\n",
       "      <td>59.32</td>\n",
       "    </tr>\n",
       "    <tr>\n",
       "      <th>4</th>\n",
       "      <td>2015-01-01 04:00:00+01:00</td>\n",
       "      <td>428.0</td>\n",
       "      <td>187.0</td>\n",
       "      <td>0.0</td>\n",
       "      <td>4130.0</td>\n",
       "      <td>3840.0</td>\n",
       "      <td>156.0</td>\n",
       "      <td>0.0</td>\n",
       "      <td>0.0</td>\n",
       "      <td>0.0</td>\n",
       "      <td>...</td>\n",
       "      <td>189.0</td>\n",
       "      <td>0.0</td>\n",
       "      <td>4935.0</td>\n",
       "      <td>9.0</td>\n",
       "      <td>NaN</td>\n",
       "      <td>4861.0</td>\n",
       "      <td>21785.0</td>\n",
       "      <td>20264.0</td>\n",
       "      <td>38.41</td>\n",
       "      <td>56.04</td>\n",
       "    </tr>\n",
       "  </tbody>\n",
       "</table>\n",
       "<p>5 rows × 29 columns</p>\n",
       "</div>"
      ],
      "text/plain": [
       "                        time  generation biomass  \\\n",
       "0  2015-01-01 00:00:00+01:00               447.0   \n",
       "1  2015-01-01 01:00:00+01:00               449.0   \n",
       "2  2015-01-01 02:00:00+01:00               448.0   \n",
       "3  2015-01-01 03:00:00+01:00               438.0   \n",
       "4  2015-01-01 04:00:00+01:00               428.0   \n",
       "\n",
       "   generation fossil brown coal/lignite  generation fossil coal-derived gas  \\\n",
       "0                                 329.0                                 0.0   \n",
       "1                                 328.0                                 0.0   \n",
       "2                                 323.0                                 0.0   \n",
       "3                                 254.0                                 0.0   \n",
       "4                                 187.0                                 0.0   \n",
       "\n",
       "   generation fossil gas  generation fossil hard coal  generation fossil oil  \\\n",
       "0                 4844.0                       4821.0                  162.0   \n",
       "1                 5196.0                       4755.0                  158.0   \n",
       "2                 4857.0                       4581.0                  157.0   \n",
       "3                 4314.0                       4131.0                  160.0   \n",
       "4                 4130.0                       3840.0                  156.0   \n",
       "\n",
       "   generation fossil oil shale  generation fossil peat  generation geothermal  \\\n",
       "0                          0.0                     0.0                    0.0   \n",
       "1                          0.0                     0.0                    0.0   \n",
       "2                          0.0                     0.0                    0.0   \n",
       "3                          0.0                     0.0                    0.0   \n",
       "4                          0.0                     0.0                    0.0   \n",
       "\n",
       "   ...  generation waste  generation wind offshore  generation wind onshore  \\\n",
       "0  ...             196.0                       0.0                   6378.0   \n",
       "1  ...             195.0                       0.0                   5890.0   \n",
       "2  ...             196.0                       0.0                   5461.0   \n",
       "3  ...             191.0                       0.0                   5238.0   \n",
       "4  ...             189.0                       0.0                   4935.0   \n",
       "\n",
       "   forecast solar day ahead  forecast wind offshore eday ahead  \\\n",
       "0                      17.0                                NaN   \n",
       "1                      16.0                                NaN   \n",
       "2                       8.0                                NaN   \n",
       "3                       2.0                                NaN   \n",
       "4                       9.0                                NaN   \n",
       "\n",
       "   forecast wind onshore day ahead  total load forecast  total load actual  \\\n",
       "0                           6436.0              26118.0            25385.0   \n",
       "1                           5856.0              24934.0            24382.0   \n",
       "2                           5454.0              23515.0            22734.0   \n",
       "3                           5151.0              22642.0            21286.0   \n",
       "4                           4861.0              21785.0            20264.0   \n",
       "\n",
       "   price day ahead  price actual  \n",
       "0            50.10         65.41  \n",
       "1            48.10         64.92  \n",
       "2            47.33         64.48  \n",
       "3            42.27         59.32  \n",
       "4            38.41         56.04  \n",
       "\n",
       "[5 rows x 29 columns]"
      ]
     },
     "execution_count": 3,
     "metadata": {},
     "output_type": "execute_result"
    }
   ],
   "source": [
    "df_energy.head()\n"
   ]
  },
  {
   "cell_type": "code",
   "execution_count": null,
   "metadata": {},
   "outputs": [],
   "source": [
    "# drop unusable columns\n",
    "\n",
    "df_energy = df_energy.drop(['generation fossil coal-derived gas','generation fossil oil shale', \n",
    "                            'generation fossil peat', 'generation geothermal', \n",
    "                            'generation hydro pumped storage aggregated', 'generation marine', \n",
    "                            'generation wind offshore', 'forecast wind offshore eday ahead',\n",
    "                            'total load forecast', 'forecast solar day ahead',\n",
    "                            'forecast wind onshore day ahead'], \n",
    "                            axis=1)"
   ]
  },
  {
   "cell_type": "code",
   "execution_count": null,
   "metadata": {},
   "outputs": [],
   "source": [
    "df_energy.describe().round(2)"
   ]
  },
  {
   "cell_type": "code",
   "execution_count": null,
   "metadata": {},
   "outputs": [],
   "source": [
    "df_energy.info()"
   ]
  },
  {
   "cell_type": "code",
   "execution_count": null,
   "metadata": {},
   "outputs": [],
   "source": [
    "# Convert time to datetime object and set it as index\n",
    "\n",
    "df_energy['time'] = pd.to_datetime(df_energy['time'], utc=True, infer_datetime_format=True)\n",
    "df_energy = df_energy.set_index('time')"
   ]
  },
  {
   "cell_type": "code",
   "execution_count": null,
   "metadata": {},
   "outputs": [],
   "source": [
    "# Find NaNs and duplicates in df_energy\n",
    "\n",
    "print('There are {} missing values or NaNs in df_energy.'\n",
    "      .format(df_energy.isnull().values.sum()))\n",
    "\n",
    "temp_energy = df_energy.duplicated(keep='first').sum()\n",
    "\n",
    "print('There are {} duplicate rows in df_energy based on all columns.'\n",
    "      .format(temp_energy))"
   ]
  },
  {
   "cell_type": "code",
   "execution_count": null,
   "metadata": {},
   "outputs": [],
   "source": [
    "# Find the number of NaNs in each column\n",
    "\n",
    "df_energy.isnull().sum(axis=0)"
   ]
  },
  {
   "cell_type": "code",
   "execution_count": null,
   "metadata": {},
   "outputs": [],
   "source": [
    "# Define a function to plot different types of time-series\n",
    "\n",
    "def plot_series(df=None, column=None, series=pd.Series([]), \n",
    "                label=None, ylabel=None, title=None, start=0, end=None):\n",
    "    \"\"\"\n",
    "    Plots a certain time-series which has either been loaded in a dataframe\n",
    "    and which constitutes one of its columns or it a custom pandas series \n",
    "    created by the user. The user can define either the 'df' and the 'column' \n",
    "    or the 'series' and additionally, can also define the 'label', the \n",
    "    'ylabel', the 'title', the 'start' and the 'end' of the plot.\n",
    "    \"\"\"\n",
    "    sns.set()\n",
    "    fig, ax = plt.subplots(figsize=(30, 12))\n",
    "    ax.set_xlabel('Time', fontsize=16)\n",
    "    if column:\n",
    "        ax.plot(df[column][start:end], label=label)\n",
    "        ax.set_ylabel(ylabel, fontsize=16)\n",
    "    if series.any():\n",
    "        ax.plot(series, label=label)\n",
    "        ax.set_ylabel(ylabel, fontsize=16)\n",
    "    if label:\n",
    "        ax.legend(fontsize=16)\n",
    "    if title:\n",
    "        ax.set_title(title, fontsize=24)\n",
    "    ax.grid(True)\n",
    "    return ax"
   ]
  },
  {
   "cell_type": "code",
   "execution_count": null,
   "metadata": {},
   "outputs": [],
   "source": [
    "# Zoom into the plot of the hourly (actual) total load\n",
    "\n",
    "ax = plot_series(df=df_energy, column='total load actual', ylabel='Total Load (MWh)',\n",
    "                 title='Actual Total Load (First 2 weeks - Original)', end=24*7*2)\n",
    "plt.show()"
   ]
  },
  {
   "cell_type": "code",
   "execution_count": null,
   "metadata": {},
   "outputs": [],
   "source": []
  },
  {
   "cell_type": "markdown",
   "metadata": {},
   "source": [
    "## 1.2 Weather features dataset"
   ]
  },
  {
   "cell_type": "code",
   "execution_count": 4,
   "metadata": {},
   "outputs": [
    {
     "data": {
      "application/vnd.microsoft.datawrangler.viewer.v0+json": {
       "columns": [
        {
         "name": "index",
         "rawType": "int64",
         "type": "integer"
        },
        {
         "name": "dt_iso",
         "rawType": "object",
         "type": "string"
        },
        {
         "name": "city_name",
         "rawType": "object",
         "type": "string"
        },
        {
         "name": "temp",
         "rawType": "float64",
         "type": "float"
        },
        {
         "name": "temp_min",
         "rawType": "float64",
         "type": "float"
        },
        {
         "name": "temp_max",
         "rawType": "float64",
         "type": "float"
        },
        {
         "name": "pressure",
         "rawType": "int64",
         "type": "integer"
        },
        {
         "name": "humidity",
         "rawType": "int64",
         "type": "integer"
        },
        {
         "name": "wind_speed",
         "rawType": "int64",
         "type": "integer"
        },
        {
         "name": "wind_deg",
         "rawType": "int64",
         "type": "integer"
        },
        {
         "name": "rain_1h",
         "rawType": "float64",
         "type": "float"
        },
        {
         "name": "rain_3h",
         "rawType": "float64",
         "type": "float"
        },
        {
         "name": "snow_3h",
         "rawType": "float64",
         "type": "float"
        },
        {
         "name": "clouds_all",
         "rawType": "int64",
         "type": "integer"
        },
        {
         "name": "weather_id",
         "rawType": "int64",
         "type": "integer"
        },
        {
         "name": "weather_main",
         "rawType": "object",
         "type": "string"
        },
        {
         "name": "weather_description",
         "rawType": "object",
         "type": "string"
        },
        {
         "name": "weather_icon",
         "rawType": "object",
         "type": "string"
        }
       ],
       "conversionMethod": "pd.DataFrame",
       "ref": "d84c65dd-a5b6-4d5e-9fb2-5791fa6f63b4",
       "rows": [
        [
         "0",
         "2015-01-01 00:00:00+01:00",
         "Valencia",
         "270.475",
         "270.475",
         "270.475",
         "1001",
         "77",
         "1",
         "62",
         "0.0",
         "0.0",
         "0.0",
         "0",
         "800",
         "clear",
         "sky is clear",
         "01n"
        ],
        [
         "1",
         "2015-01-01 01:00:00+01:00",
         "Valencia",
         "270.475",
         "270.475",
         "270.475",
         "1001",
         "77",
         "1",
         "62",
         "0.0",
         "0.0",
         "0.0",
         "0",
         "800",
         "clear",
         "sky is clear",
         "01n"
        ],
        [
         "2",
         "2015-01-01 02:00:00+01:00",
         "Valencia",
         "269.686",
         "269.686",
         "269.686",
         "1002",
         "78",
         "0",
         "23",
         "0.0",
         "0.0",
         "0.0",
         "0",
         "800",
         "clear",
         "sky is clear",
         "01n"
        ],
        [
         "3",
         "2015-01-01 03:00:00+01:00",
         "Valencia",
         "269.686",
         "269.686",
         "269.686",
         "1002",
         "78",
         "0",
         "23",
         "0.0",
         "0.0",
         "0.0",
         "0",
         "800",
         "clear",
         "sky is clear",
         "01n"
        ],
        [
         "4",
         "2015-01-01 04:00:00+01:00",
         "Valencia",
         "269.686",
         "269.686",
         "269.686",
         "1002",
         "78",
         "0",
         "23",
         "0.0",
         "0.0",
         "0.0",
         "0",
         "800",
         "clear",
         "sky is clear",
         "01n"
        ]
       ],
       "shape": {
        "columns": 17,
        "rows": 5
       }
      },
      "text/html": [
       "<div>\n",
       "<style scoped>\n",
       "    .dataframe tbody tr th:only-of-type {\n",
       "        vertical-align: middle;\n",
       "    }\n",
       "\n",
       "    .dataframe tbody tr th {\n",
       "        vertical-align: top;\n",
       "    }\n",
       "\n",
       "    .dataframe thead th {\n",
       "        text-align: right;\n",
       "    }\n",
       "</style>\n",
       "<table border=\"1\" class=\"dataframe\">\n",
       "  <thead>\n",
       "    <tr style=\"text-align: right;\">\n",
       "      <th></th>\n",
       "      <th>dt_iso</th>\n",
       "      <th>city_name</th>\n",
       "      <th>temp</th>\n",
       "      <th>temp_min</th>\n",
       "      <th>temp_max</th>\n",
       "      <th>pressure</th>\n",
       "      <th>humidity</th>\n",
       "      <th>wind_speed</th>\n",
       "      <th>wind_deg</th>\n",
       "      <th>rain_1h</th>\n",
       "      <th>rain_3h</th>\n",
       "      <th>snow_3h</th>\n",
       "      <th>clouds_all</th>\n",
       "      <th>weather_id</th>\n",
       "      <th>weather_main</th>\n",
       "      <th>weather_description</th>\n",
       "      <th>weather_icon</th>\n",
       "    </tr>\n",
       "  </thead>\n",
       "  <tbody>\n",
       "    <tr>\n",
       "      <th>0</th>\n",
       "      <td>2015-01-01 00:00:00+01:00</td>\n",
       "      <td>Valencia</td>\n",
       "      <td>270.475</td>\n",
       "      <td>270.475</td>\n",
       "      <td>270.475</td>\n",
       "      <td>1001</td>\n",
       "      <td>77</td>\n",
       "      <td>1</td>\n",
       "      <td>62</td>\n",
       "      <td>0.0</td>\n",
       "      <td>0.0</td>\n",
       "      <td>0.0</td>\n",
       "      <td>0</td>\n",
       "      <td>800</td>\n",
       "      <td>clear</td>\n",
       "      <td>sky is clear</td>\n",
       "      <td>01n</td>\n",
       "    </tr>\n",
       "    <tr>\n",
       "      <th>1</th>\n",
       "      <td>2015-01-01 01:00:00+01:00</td>\n",
       "      <td>Valencia</td>\n",
       "      <td>270.475</td>\n",
       "      <td>270.475</td>\n",
       "      <td>270.475</td>\n",
       "      <td>1001</td>\n",
       "      <td>77</td>\n",
       "      <td>1</td>\n",
       "      <td>62</td>\n",
       "      <td>0.0</td>\n",
       "      <td>0.0</td>\n",
       "      <td>0.0</td>\n",
       "      <td>0</td>\n",
       "      <td>800</td>\n",
       "      <td>clear</td>\n",
       "      <td>sky is clear</td>\n",
       "      <td>01n</td>\n",
       "    </tr>\n",
       "    <tr>\n",
       "      <th>2</th>\n",
       "      <td>2015-01-01 02:00:00+01:00</td>\n",
       "      <td>Valencia</td>\n",
       "      <td>269.686</td>\n",
       "      <td>269.686</td>\n",
       "      <td>269.686</td>\n",
       "      <td>1002</td>\n",
       "      <td>78</td>\n",
       "      <td>0</td>\n",
       "      <td>23</td>\n",
       "      <td>0.0</td>\n",
       "      <td>0.0</td>\n",
       "      <td>0.0</td>\n",
       "      <td>0</td>\n",
       "      <td>800</td>\n",
       "      <td>clear</td>\n",
       "      <td>sky is clear</td>\n",
       "      <td>01n</td>\n",
       "    </tr>\n",
       "    <tr>\n",
       "      <th>3</th>\n",
       "      <td>2015-01-01 03:00:00+01:00</td>\n",
       "      <td>Valencia</td>\n",
       "      <td>269.686</td>\n",
       "      <td>269.686</td>\n",
       "      <td>269.686</td>\n",
       "      <td>1002</td>\n",
       "      <td>78</td>\n",
       "      <td>0</td>\n",
       "      <td>23</td>\n",
       "      <td>0.0</td>\n",
       "      <td>0.0</td>\n",
       "      <td>0.0</td>\n",
       "      <td>0</td>\n",
       "      <td>800</td>\n",
       "      <td>clear</td>\n",
       "      <td>sky is clear</td>\n",
       "      <td>01n</td>\n",
       "    </tr>\n",
       "    <tr>\n",
       "      <th>4</th>\n",
       "      <td>2015-01-01 04:00:00+01:00</td>\n",
       "      <td>Valencia</td>\n",
       "      <td>269.686</td>\n",
       "      <td>269.686</td>\n",
       "      <td>269.686</td>\n",
       "      <td>1002</td>\n",
       "      <td>78</td>\n",
       "      <td>0</td>\n",
       "      <td>23</td>\n",
       "      <td>0.0</td>\n",
       "      <td>0.0</td>\n",
       "      <td>0.0</td>\n",
       "      <td>0</td>\n",
       "      <td>800</td>\n",
       "      <td>clear</td>\n",
       "      <td>sky is clear</td>\n",
       "      <td>01n</td>\n",
       "    </tr>\n",
       "  </tbody>\n",
       "</table>\n",
       "</div>"
      ],
      "text/plain": [
       "                      dt_iso city_name     temp  temp_min  temp_max  pressure  \\\n",
       "0  2015-01-01 00:00:00+01:00  Valencia  270.475   270.475   270.475      1001   \n",
       "1  2015-01-01 01:00:00+01:00  Valencia  270.475   270.475   270.475      1001   \n",
       "2  2015-01-01 02:00:00+01:00  Valencia  269.686   269.686   269.686      1002   \n",
       "3  2015-01-01 03:00:00+01:00  Valencia  269.686   269.686   269.686      1002   \n",
       "4  2015-01-01 04:00:00+01:00  Valencia  269.686   269.686   269.686      1002   \n",
       "\n",
       "   humidity  wind_speed  wind_deg  rain_1h  rain_3h  snow_3h  clouds_all  \\\n",
       "0        77           1        62      0.0      0.0      0.0           0   \n",
       "1        77           1        62      0.0      0.0      0.0           0   \n",
       "2        78           0        23      0.0      0.0      0.0           0   \n",
       "3        78           0        23      0.0      0.0      0.0           0   \n",
       "4        78           0        23      0.0      0.0      0.0           0   \n",
       "\n",
       "   weather_id weather_main weather_description weather_icon  \n",
       "0         800        clear        sky is clear          01n  \n",
       "1         800        clear        sky is clear          01n  \n",
       "2         800        clear        sky is clear          01n  \n",
       "3         800        clear        sky is clear          01n  \n",
       "4         800        clear        sky is clear          01n  "
      ]
     },
     "execution_count": 4,
     "metadata": {},
     "output_type": "execute_result"
    }
   ],
   "source": [
    "df_weather.head() "
   ]
  },
  {
   "cell_type": "code",
   "execution_count": null,
   "metadata": {},
   "outputs": [],
   "source": []
  },
  {
   "cell_type": "code",
   "execution_count": null,
   "metadata": {},
   "outputs": [],
   "source": []
  },
  {
   "cell_type": "code",
   "execution_count": null,
   "metadata": {},
   "outputs": [],
   "source": []
  },
  {
   "cell_type": "code",
   "execution_count": null,
   "metadata": {},
   "outputs": [],
   "source": []
  }
 ],
 "metadata": {
  "kernelspec": {
   "display_name": "ep_forecasting_env",
   "language": "python",
   "name": "python3"
  },
  "language_info": {
   "codemirror_mode": {
    "name": "ipython",
    "version": 3
   },
   "file_extension": ".py",
   "mimetype": "text/x-python",
   "name": "python",
   "nbconvert_exporter": "python",
   "pygments_lexer": "ipython3",
   "version": "3.9.18"
  }
 },
 "nbformat": 4,
 "nbformat_minor": 2
}

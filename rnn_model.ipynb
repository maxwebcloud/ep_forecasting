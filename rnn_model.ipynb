{
 "cells": [
  {
   "cell_type": "markdown",
   "metadata": {},
   "source": [
    "## RNN model "
   ]
  },
  {
   "cell_type": "code",
   "execution_count": 15,
   "metadata": {},
   "outputs": [],
   "source": [
    "import numpy as np\n",
    "import pandas as pd\n",
    "import matplotlib.pyplot as plt\n",
    "from tensorflow.keras.models import Sequential\n",
    "from tensorflow.keras.layers import Dense, SimpleRNN\n",
    "from sklearn.metrics import mean_squared_error, root_mean_squared_error\n",
    "import tensorflow as tf\n",
    "import pickle\n",
    "from tensorflow.keras.models import load_model"
   ]
  },
  {
   "cell_type": "code",
   "execution_count": 4,
   "metadata": {},
   "outputs": [],
   "source": [
    "# Data Import \n",
    "\n",
    "# Load X_train\n",
    "with open(\"data/X_train.pkl\", \"rb\") as f:\n",
    "    X_train = pickle.load(f)\n",
    "\n",
    "# Load y_train\n",
    "with open(\"data/y_train.pkl\", \"rb\") as f:\n",
    "    y_train = pickle.load(f)\n",
    "\n",
    "# Load X_val\n",
    "with open(\"data/X_val.pkl\", \"rb\") as f:\n",
    "    X_val = pickle.load(f)\n",
    "\n",
    "# Load y_val\n",
    "with open(\"data/y_val.pkl\", \"rb\") as f:\n",
    "    y_val = pickle.load(f)\n",
    "\n",
    "# Load X_test\n",
    "with open(\"data/X_test.pkl\", \"rb\") as f:\n",
    "    X_test = pickle.load(f)\n",
    "\n",
    "# Load y_test\n",
    "with open(\"data/y_test.pkl\", \"rb\") as f:\n",
    "    y_test = pickle.load(f)"
   ]
  },
  {
   "cell_type": "code",
   "execution_count": 18,
   "metadata": {},
   "outputs": [],
   "source": [
    "def plot_model_rmse_and_loss(history):\n",
    "    \n",
    "    # Evaluate train and validation accuracies and losses\n",
    "    \n",
    "    #train_rmse = history.history['root_mean_squared_error']\n",
    "    #val_rmse = history.history['val_root_mean_squared_error']\n",
    "    \n",
    "    train_loss = history.history['loss']\n",
    "    val_loss = history.history['val_loss']\n",
    "    \n",
    "    # Visualize epochs vs. train and validation accuracies and losses\n",
    "    \n",
    "    #plt.figure(figsize=(20, 10))\n",
    "    #plt.subplot(1, 2, 1)\n",
    "    #plt.plot(train_rmse, label='Training RMSE')\n",
    "    #plt.plot(val_rmse, label='Validation RMSE')\n",
    "    #plt.legend()\n",
    "    #plt.title('Epochs vs. Training and Validation RMSE')\n",
    "    \n",
    "    plt.subplot(1, 2, 2)\n",
    "    plt.plot(train_loss, label='Training Loss')\n",
    "    plt.plot(val_loss, label='Validation Loss')\n",
    "    plt.legend()\n",
    "    plt.title('Epochs vs. Training and Validation Loss')\n",
    "    \n",
    "    plt.show()"
   ]
  },
  {
   "cell_type": "code",
   "execution_count": 10,
   "metadata": {},
   "outputs": [
    {
     "name": "stdout",
     "output_type": "stream",
     "text": [
      "Epoch 1/50\n",
      "845/845 [==============================] - 29s 31ms/step - loss: 0.0084 - val_loss: 0.0014\n",
      "Epoch 2/50\n",
      "845/845 [==============================] - 50s 59ms/step - loss: 0.0020 - val_loss: 9.1024e-04\n",
      "Epoch 3/50\n",
      "845/845 [==============================] - 37s 43ms/step - loss: 0.0013 - val_loss: 8.4322e-04\n",
      "Epoch 4/50\n",
      "845/845 [==============================] - 27s 32ms/step - loss: 0.0011 - val_loss: 8.4327e-04\n",
      "Epoch 5/50\n",
      "845/845 [==============================] - 46s 55ms/step - loss: 0.0011 - val_loss: 0.0012\n",
      "Epoch 6/50\n",
      "845/845 [==============================] - 34s 40ms/step - loss: 9.9788e-04 - val_loss: 9.0027e-04\n",
      "Epoch 7/50\n",
      "845/845 [==============================] - 28s 33ms/step - loss: 0.0010 - val_loss: 0.0010\n",
      "Epoch 8/50\n",
      "845/845 [==============================] - 23s 27ms/step - loss: 9.9451e-04 - val_loss: 0.0012\n",
      "Epoch 9/50\n",
      "845/845 [==============================] - 41s 48ms/step - loss: 9.8298e-04 - val_loss: 6.4217e-04\n",
      "Epoch 10/50\n",
      "845/845 [==============================] - 36s 43ms/step - loss: 9.6475e-04 - val_loss: 9.5248e-04\n",
      "Epoch 11/50\n",
      "845/845 [==============================] - 56s 66ms/step - loss: 9.3054e-04 - val_loss: 6.7180e-04\n",
      "Epoch 12/50\n",
      "845/845 [==============================] - 87s 103ms/step - loss: 8.7665e-04 - val_loss: 7.0266e-04\n",
      "Epoch 13/50\n",
      "845/845 [==============================] - 84s 99ms/step - loss: 8.9092e-04 - val_loss: 6.7062e-04\n",
      "Epoch 14/50\n",
      "845/845 [==============================] - 65s 76ms/step - loss: 8.5106e-04 - val_loss: 0.0015\n",
      "Epoch 15/50\n",
      "845/845 [==============================] - 85s 101ms/step - loss: 8.5513e-04 - val_loss: 6.9340e-04\n",
      "Epoch 16/50\n",
      "845/845 [==============================] - 72s 85ms/step - loss: 7.9662e-04 - val_loss: 6.4759e-04\n",
      "Epoch 17/50\n",
      "845/845 [==============================] - 62s 74ms/step - loss: 8.2133e-04 - val_loss: 8.0474e-04\n",
      "Epoch 18/50\n",
      "845/845 [==============================] - 79s 94ms/step - loss: 7.7447e-04 - val_loss: 6.8071e-04\n",
      "Epoch 19/50\n",
      "845/845 [==============================] - 40s 48ms/step - loss: 7.8572e-04 - val_loss: 5.7867e-04\n",
      "Epoch 20/50\n",
      "845/845 [==============================] - 71s 84ms/step - loss: 7.6504e-04 - val_loss: 6.1216e-04\n",
      "Epoch 21/50\n",
      "845/845 [==============================] - 22s 26ms/step - loss: 7.6100e-04 - val_loss: 0.0011\n",
      "Epoch 22/50\n",
      "845/845 [==============================] - 22s 26ms/step - loss: 7.7882e-04 - val_loss: 7.5078e-04\n",
      "Epoch 23/50\n",
      "845/845 [==============================] - 26s 30ms/step - loss: 7.2593e-04 - val_loss: 5.8442e-04\n",
      "Epoch 24/50\n",
      "845/845 [==============================] - 29s 34ms/step - loss: 7.8635e-04 - val_loss: 0.0019\n",
      "Epoch 25/50\n",
      "845/845 [==============================] - 12s 14ms/step - loss: 7.3608e-04 - val_loss: 7.6094e-04\n",
      "Epoch 26/50\n",
      "845/845 [==============================] - 10s 12ms/step - loss: 7.1860e-04 - val_loss: 5.9284e-04\n",
      "Epoch 27/50\n",
      "845/845 [==============================] - 13s 15ms/step - loss: 7.0702e-04 - val_loss: 5.7337e-04\n",
      "Epoch 28/50\n",
      "845/845 [==============================] - 14s 17ms/step - loss: 6.8991e-04 - val_loss: 5.4093e-04\n",
      "Epoch 29/50\n",
      "845/845 [==============================] - 17s 20ms/step - loss: 7.2586e-04 - val_loss: 5.8181e-04\n",
      "Epoch 30/50\n",
      "845/845 [==============================] - 25s 29ms/step - loss: 7.1844e-04 - val_loss: 8.8783e-04\n",
      "Epoch 31/50\n",
      "845/845 [==============================] - 36s 43ms/step - loss: 7.5852e-04 - val_loss: 0.0011\n",
      "Epoch 32/50\n",
      "845/845 [==============================] - 17s 20ms/step - loss: 6.9873e-04 - val_loss: 5.9418e-04\n",
      "Epoch 33/50\n",
      "845/845 [==============================] - 21s 25ms/step - loss: 6.9581e-04 - val_loss: 6.8739e-04\n",
      "Epoch 34/50\n",
      "845/845 [==============================] - 20s 24ms/step - loss: 7.3567e-04 - val_loss: 5.1979e-04\n",
      "Epoch 35/50\n",
      "845/845 [==============================] - 9s 10ms/step - loss: 6.9253e-04 - val_loss: 7.2363e-04\n",
      "Epoch 36/50\n",
      "845/845 [==============================] - 9s 11ms/step - loss: 7.0113e-04 - val_loss: 5.8062e-04\n",
      "Epoch 37/50\n",
      "845/845 [==============================] - 9s 10ms/step - loss: 6.7071e-04 - val_loss: 5.6012e-04\n",
      "Epoch 38/50\n",
      "845/845 [==============================] - 10s 12ms/step - loss: 6.5509e-04 - val_loss: 5.2706e-04\n",
      "Epoch 39/50\n",
      "845/845 [==============================] - 8s 9ms/step - loss: 0.0013 - val_loss: 0.0047\n",
      "Epoch 40/50\n",
      "845/845 [==============================] - 10s 11ms/step - loss: 0.0027 - val_loss: 0.0011\n",
      "Epoch 41/50\n",
      "845/845 [==============================] - 9s 11ms/step - loss: 0.0013 - val_loss: 9.5012e-04\n",
      "Epoch 42/50\n",
      "845/845 [==============================] - 21s 25ms/step - loss: 0.0012 - val_loss: 9.8282e-04\n",
      "Epoch 43/50\n",
      "845/845 [==============================] - 19s 22ms/step - loss: 0.0011 - val_loss: 0.0013\n",
      "Epoch 44/50\n",
      "845/845 [==============================] - 10s 12ms/step - loss: 0.0011 - val_loss: 8.0348e-04\n"
     ]
    }
   ],
   "source": [
    "rnn_model = tf.keras.Sequential([\n",
    "    tf.keras.layers.SimpleRNN(32, input_shape=(None, X_train.shape[2])),\n",
    "    Dropout(0.1)\n",
    "    tf.keras.layers.Dense(1)\n",
    "])\n",
    "\n",
    "lr_schedule = tf.keras.callbacks.LearningRateScheduler(lambda epoch: 1e-4 * 10**(epoch / 10))\n",
    "early_stopping = tf.keras.callbacks.EarlyStopping(patience=10)\n",
    "model_checkpoint = tf.keras.callbacks.ModelCheckpoint(\"rnn_1.h5\", monitor= \"val_loss\", save_best_only=True)\n",
    "optimizer = tf.keras.optimizers.Adam(learning_rate=6e-3, amsgrad=True)\n",
    "\n",
    "rnn_model.compile(optimizer=optimizer, loss='mse')\n",
    "history = rnn_model.fit(X_train, y_train, epochs=50, validation_data = (X_val, y_val), batch_size=32, verbose=1, callbacks = [early_stopping, model_checkpoint])\n"
   ]
  },
  {
   "cell_type": "code",
   "execution_count": 17,
   "metadata": {},
   "outputs": [
    {
     "name": "stdout",
     "output_type": "stream",
     "text": [
      "125/125 [==============================] - 2s 13ms/step\n",
      "RMSE: 0.0204\n"
     ]
    }
   ],
   "source": [
    "rnn_model = load_model(\"rnn_1.h5\")\n",
    "predictions = rnn_model.predict(X_test)\n",
    "rmse = np.sqrt(mean_squared_error(y_test, predictions))\n",
    "print(f'RMSE: {rmse:.4f}')"
   ]
  },
  {
   "cell_type": "code",
   "execution_count": 19,
   "metadata": {},
   "outputs": [
    {
     "data": {
      "image/png": "[encoded data removed]",
      "text/plain": [
       "<Figure size 640x480 with 1 Axes>"
      ]
     },
     "metadata": {},
     "output_type": "display_data"
    }
   ],
   "source": [
    "plot_model_rmse_and_loss(history)"
   ]
  },
  {
   "cell_type": "code",
   "execution_count": 7,
   "metadata": {},
   "outputs": [
    {
     "name": "stdout",
     "output_type": "stream",
     "text": [
      "(27024, 24, 17)\n"
     ]
    }
   ],
   "source": [
    "print(X_train.shape)"
   ]
  }
 ],
 "metadata": {
  "kernelspec": {
   "display_name": "ep_forecasting_env",
   "language": "python",
   "name": "python3"
  },
  "language_info": {
   "codemirror_mode": {
    "name": "ipython",
    "version": 3
   },
   "file_extension": ".py",
   "mimetype": "text/x-python",
   "name": "python",
   "nbconvert_exporter": "python",
   "pygments_lexer": "ipython3",
   "version": "3.9.18"
  }
 },
 "nbformat": 4,
 "nbformat_minor": 2
}

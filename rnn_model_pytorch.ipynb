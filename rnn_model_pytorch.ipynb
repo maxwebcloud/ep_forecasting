{
 "cells": [
  {
   "cell_type": "code",
   "execution_count": 48,
   "metadata": {},
   "outputs": [
    {
     "name": "stderr",
     "output_type": "stream",
     "text": [
      "c:\\Users\\veren\\anaconda3\\envs\\ep_forecasting_env\\lib\\site-packages\\tqdm\\auto.py:21: TqdmWarning: IProgress not found. Please update jupyter and ipywidgets. See https://ipywidgets.readthedocs.io/en/stable/user_install.html\n",
      "  from .autonotebook import tqdm as notebook_tqdm\n"
     ]
    }
   ],
   "source": [
    "from sympy import false, true\n",
    "import torch\n",
    "import torch.nn as nn\n",
    "from torch.utils.data import DataLoader, TensorDataset\n",
    "import pickle\n",
    "import matplotlib.pyplot as plt\n",
    "import optuna"
   ]
  },
  {
   "cell_type": "code",
   "execution_count": 49,
   "metadata": {},
   "outputs": [],
   "source": [
    "# Data Import \n",
    "\n",
    "# Load X_train\n",
    "with open(\"data/X_train.pkl\", \"rb\") as f:\n",
    "    X_train = pickle.load(f)\n",
    "\n",
    "# Load y_train\n",
    "with open(\"data/y_train.pkl\", \"rb\") as f:\n",
    "    y_train = pickle.load(f)\n",
    "\n",
    "# Load X_val\n",
    "with open(\"data/X_val.pkl\", \"rb\") as f:\n",
    "    X_val = pickle.load(f)\n",
    "\n",
    "# Load y_val\n",
    "with open(\"data/y_val.pkl\", \"rb\") as f:\n",
    "    y_val = pickle.load(f)\n",
    "\n",
    "# Load X_test\n",
    "with open(\"data/X_test.pkl\", \"rb\") as f:\n",
    "    X_test = pickle.load(f)\n",
    "\n",
    "# Load y_test\n",
    "with open(\"data/y_test.pkl\", \"rb\") as f:\n",
    "    y_test = pickle.load(f)\n",
    "\n",
    "# Load df_final_viz\n",
    "with open(\"data/df_final_viz.pkl\", \"rb\") as f:\n",
    "    df_final_viz = pickle.load(f)"
   ]
  },
  {
   "cell_type": "code",
   "execution_count": 50,
   "metadata": {},
   "outputs": [
    {
     "name": "stdout",
     "output_type": "stream",
     "text": [
      "PyTorch nutzt 16 Threads\n"
     ]
    }
   ],
   "source": [
    "torch.set_num_threads(torch.get_num_threads())  # Nutzt standardmäßig alle verfügbaren Kerne\n",
    "print(f\"PyTorch nutzt {torch.get_num_threads()} Threads\")\n"
   ]
  },
  {
   "cell_type": "code",
   "execution_count": 57,
   "metadata": {},
   "outputs": [],
   "source": [
    "# In Torch-Tensoren umwandeln\n",
    "X_train_tensor = torch.tensor(X_train, dtype=torch.float32)\n",
    "y_train_tensor = torch.tensor(y_train, dtype=torch.float32).unsqueeze(1)\n",
    "\n",
    "X_val_tensor = torch.tensor(X_val, dtype=torch.float32)\n",
    "y_val_tensor = torch.tensor(y_val, dtype=torch.float32).unsqueeze(1)\n",
    "\n",
    "X_test_tensor = torch.tensor(X_test, dtype=torch.float32)\n",
    "y_test_tensor = torch.tensor(y_test, dtype=torch.float32).unsqueeze(1)\n",
    "\n",
    "# Datasets und DataLoader\n",
    "train_dataset = TensorDataset(X_train_tensor, y_train_tensor)\n",
    "val_dataset = TensorDataset(X_val_tensor, y_val_tensor)\n",
    "test_dataset = TensorDataset(X_test_tensor, y_test_tensor)\n",
    "\n",
    "train_loader = DataLoader(train_dataset, batch_size=32, shuffle=True, drop_last = True, num_workers = 8)\n",
    "val_loader = DataLoader(val_dataset, batch_size=32, shuffle=False, drop_last = True, num_workers = 8)\n",
    "test_loader = DataLoader(test_dataset, batch_size=32, shuffle=False, drop_last = True, num_workers = 8)"
   ]
  },
  {
   "cell_type": "code",
   "execution_count": 52,
   "metadata": {},
   "outputs": [
    {
     "data": {
      "text/plain": [
       "27024"
      ]
     },
     "execution_count": 52,
     "metadata": {},
     "output_type": "execute_result"
    }
   ],
   "source": [
    "X_train.shape[0]"
   ]
  },
  {
   "cell_type": "code",
   "execution_count": 58,
   "metadata": {},
   "outputs": [],
   "source": [
    "class SimpleRNN(nn.Module):\n",
    "    def __init__(self, input_size, hp):\n",
    "        super(SimpleRNN, self).__init__()\n",
    "        self.rnn = nn.RNN(input_size, hp['rnn_units'], batch_first=True)\n",
    "        self.dropout1 = nn.Dropout(hp['dropout_rate_rnn'])\n",
    "        self.fc1 = nn.Linear(hp['rnn_units'], hp['dense_units'])\n",
    "        self.dropout2 = nn.Dropout(hp['dropout_rate_dense'])\n",
    "        self.fc2 = nn.Linear(hp['dense_units'], 1)\n",
    "\n",
    "    def forward(self, x):\n",
    "        out, _ = self.rnn(x)\n",
    "        out = out[:, -1, :]  # Nur der letzte Zeitschritt\n",
    "        out = self.dropout1(out)\n",
    "        out = self.fc1(out)\n",
    "        out = self.dropout2(out)\n",
    "        out = self.fc2(out)\n",
    "        return out"
   ]
  },
  {
   "cell_type": "code",
   "execution_count": null,
   "metadata": {},
   "outputs": [
    {
     "name": "stderr",
     "output_type": "stream",
     "text": [
      "[I 2025-03-31 09:31:39,517] A new study created in memory with name: no-name-97a31bca-2df9-42ba-9631-73e0aabf594f\n"
     ]
    },
    {
     "name": "stdout",
     "output_type": "stream",
     "text": [
      "Epoch [1/15], Train Loss: 0.0082, Val Loss: 0.0025\n",
      "Epoch [1/15], Train Loss: 0.0301, Val Loss: 0.0102\n",
      "Epoch [1/15], Train Loss: 0.0182, Val Loss: 0.0034\n",
      "Epoch [1/15], Train Loss: 0.0056, Val Loss: 0.0019\n",
      "Epoch [1/15], Train Loss: 0.0057, Val Loss: 0.0011\n",
      "Epoch [1/15], Train Loss: 0.0133, Val Loss: 0.0028\n",
      "Epoch [2/15], Train Loss: 0.0021, Val Loss: 0.0015\n",
      "Epoch [2/15], Train Loss: 0.0134, Val Loss: 0.0043\n",
      "Epoch [2/15], Train Loss: 0.0022, Val Loss: 0.0010\n",
      "Epoch [2/15], Train Loss: 0.0073, Val Loss: 0.0019\n",
      "Epoch [2/15], Train Loss: 0.0032, Val Loss: 0.0020\n",
      "Epoch [3/15], Train Loss: 0.0016, Val Loss: 0.0010\n",
      "Epoch [3/15], Train Loss: 0.0096, Val Loss: 0.0022\n",
      "Epoch [2/15], Train Loss: 0.0041, Val Loss: 0.0021\n",
      "Epoch [4/15], Train Loss: 0.0014, Val Loss: 0.0009\n",
      "Epoch [4/15], Train Loss: 0.0080, Val Loss: 0.0022\n",
      "Epoch [3/15], Train Loss: 0.0017, Val Loss: 0.0007\n",
      "Epoch [3/15], Train Loss: 0.0061, Val Loss: 0.0020\n",
      "Epoch [3/15], Train Loss: 0.0033, Val Loss: 0.0016\n",
      "Epoch [3/15], Train Loss: 0.0034, Val Loss: 0.0021\n",
      "Epoch [5/15], Train Loss: 0.0013, Val Loss: 0.0009\n",
      "Epoch [5/15], Train Loss: 0.0070, Val Loss: 0.0019\n",
      "Epoch [4/15], Train Loss: 0.0015, Val Loss: 0.0009\n",
      "Epoch [4/15], Train Loss: 0.0053, Val Loss: 0.0015\n",
      "Epoch [6/15], Train Loss: 0.0013, Val Loss: 0.0010\n",
      "Epoch [4/15], Train Loss: 0.0036, Val Loss: 0.0020\n",
      "Epoch [4/15], Train Loss: 0.0029, Val Loss: 0.0020\n",
      "Epoch [6/15], Train Loss: 0.0059, Val Loss: 0.0020\n",
      "Epoch [7/15], Train Loss: 0.0013, Val Loss: 0.0013\n",
      "Epoch [5/15], Train Loss: 0.0014, Val Loss: 0.0007\n",
      "Epoch [5/15], Train Loss: 0.0048, Val Loss: 0.0029\n",
      "Epoch [7/15], Train Loss: 0.0051, Val Loss: 0.0020\n",
      "Epoch [5/15], Train Loss: 0.0038, Val Loss: 0.0011\n",
      "Epoch [8/15], Train Loss: 0.0013, Val Loss: 0.0010\n",
      "Epoch [5/15], Train Loss: 0.0026, Val Loss: 0.0020\n",
      "Epoch [8/15], Train Loss: 0.0046, Val Loss: 0.0015\n",
      "Epoch [6/15], Train Loss: 0.0014, Val Loss: 0.0007\n",
      "Epoch [6/15], Train Loss: 0.0042, Val Loss: 0.0020\n",
      "Epoch [9/15], Train Loss: 0.0013, Val Loss: 0.0010\n",
      "Epoch [6/15], Train Loss: 0.0200, Val Loss: 0.0123\n",
      "Epoch [6/15], Train Loss: 0.0023, Val Loss: 0.0015\n",
      "Epoch [9/15], Train Loss: 0.0040, Val Loss: 0.0016\n",
      "Epoch [10/15], Train Loss: 0.0013, Val Loss: 0.0010\n",
      "Epoch [7/15], Train Loss: 0.0014, Val Loss: 0.0008\n",
      "Epoch [7/15], Train Loss: 0.0038, Val Loss: 0.0014\n",
      "Epoch [10/15], Train Loss: 0.0034, Val Loss: 0.0013\n"
     ]
    },
    {
     "name": "stderr",
     "output_type": "stream",
     "text": [
      "[I 2025-03-31 09:38:39,543] Trial 5 finished with value: 0.0008676108472789037 and parameters: {'rnn_units': 48, 'dropout_rate_rnn': 0.2, 'dense_units': 56, 'dropout_rate_dense': 0.0, 'learning_rate': 0.001, 'weight_decay': 0.001}. Best is trial 5 with value: 0.0008676108472789037.\n"
     ]
    },
    {
     "name": "stdout",
     "output_type": "stream",
     "text": [
      "Epoch [11/15], Train Loss: 0.0013, Val Loss: 0.0010\n",
      "Early stopping nach 11 Epochen.\n",
      "Epoch [7/15], Train Loss: 0.0163, Val Loss: 0.0090\n",
      "Epoch [7/15], Train Loss: 0.0021, Val Loss: 0.0014\n",
      "Epoch [8/15], Train Loss: 0.0014, Val Loss: 0.0007\n",
      "Epoch [1/15], Train Loss: 0.0262, Val Loss: 0.0111\n",
      "Epoch [11/15], Train Loss: 0.0031, Val Loss: 0.0013\n",
      "Epoch [8/15], Train Loss: 0.0034, Val Loss: 0.0018\n"
     ]
    },
    {
     "name": "stderr",
     "output_type": "stream",
     "text": [
      "[I 2025-03-31 09:39:38,312] Trial 1 finished with value: 0.0010949653383689902 and parameters: {'rnn_units': 64, 'dropout_rate_rnn': 0.5, 'dense_units': 16, 'dropout_rate_dense': 0.4, 'learning_rate': 0.01, 'weight_decay': 0.0001}. Best is trial 5 with value: 0.0008676108472789037.\n"
     ]
    },
    {
     "name": "stdout",
     "output_type": "stream",
     "text": [
      "Epoch [8/15], Train Loss: 0.0100, Val Loss: 0.0088\n",
      "Early stopping nach 8 Epochen.\n",
      "Epoch [2/15], Train Loss: 0.0080, Val Loss: 0.0038\n",
      "Epoch [12/15], Train Loss: 0.0028, Val Loss: 0.0011\n",
      "Epoch [8/15], Train Loss: 0.0019, Val Loss: 0.0012\n",
      "Epoch [9/15], Train Loss: 0.0014, Val Loss: 0.0008\n",
      "Epoch [3/15], Train Loss: 0.0049, Val Loss: 0.0028\n",
      "Epoch [9/15], Train Loss: 0.0031, Val Loss: 0.0018\n",
      "Epoch [13/15], Train Loss: 0.0025, Val Loss: 0.0012\n",
      "Epoch [1/15], Train Loss: 0.0041, Val Loss: 0.0010\n",
      "Epoch [4/15], Train Loss: 0.0041, Val Loss: 0.0021\n",
      "Epoch [9/15], Train Loss: 0.0018, Val Loss: 0.0012\n",
      "Epoch [10/15], Train Loss: 0.0014, Val Loss: 0.0007\n",
      "Epoch [14/15], Train Loss: 0.0023, Val Loss: 0.0011\n",
      "Epoch [10/15], Train Loss: 0.0028, Val Loss: 0.0013\n",
      "Epoch [2/15], Train Loss: 0.0021, Val Loss: 0.0013\n"
     ]
    },
    {
     "name": "stderr",
     "output_type": "stream",
     "text": [
      "[I 2025-03-31 09:41:49,673] Trial 0 finished with value: 0.0010443706766724767 and parameters: {'rnn_units': 32, 'dropout_rate_rnn': 0.1, 'dense_units': 32, 'dropout_rate_dense': 0.4, 'learning_rate': 0.0001, 'weight_decay': 1e-05}. Best is trial 5 with value: 0.0008676108472789037.\n"
     ]
    },
    {
     "name": "stdout",
     "output_type": "stream",
     "text": [
      "Epoch [15/15], Train Loss: 0.0021, Val Loss: 0.0010\n",
      "Epoch [11/15], Train Loss: 0.0014, Val Loss: 0.0007\n",
      "Epoch [10/15], Train Loss: 0.0016, Val Loss: 0.0012\n",
      "Epoch [11/15], Train Loss: 0.0025, Val Loss: 0.0011\n",
      "Epoch [3/15], Train Loss: 0.0023, Val Loss: 0.0014\n",
      "Epoch [12/15], Train Loss: 0.0014, Val Loss: 0.0007\n",
      "Epoch [1/15], Train Loss: 0.0037, Val Loss: 0.0011\n",
      "Epoch [11/15], Train Loss: 0.0015, Val Loss: 0.0011\n",
      "Epoch [5/15], Train Loss: 0.0037, Val Loss: 0.0027\n",
      "Epoch [12/15], Train Loss: 0.0023, Val Loss: 0.0010\n",
      "Epoch [4/15], Train Loss: 0.0026, Val Loss: 0.0014\n",
      "Epoch [13/15], Train Loss: 0.0014, Val Loss: 0.0008\n",
      "Epoch [2/15], Train Loss: 0.0019, Val Loss: 0.0010\n",
      "Epoch [6/15], Train Loss: 0.0032, Val Loss: 0.0018\n",
      "Epoch [12/15], Train Loss: 0.0015, Val Loss: 0.0011\n",
      "Epoch [13/15], Train Loss: 0.0022, Val Loss: 0.0011\n",
      "Epoch [7/15], Train Loss: 0.0029, Val Loss: 0.0020\n",
      "Epoch [14/15], Train Loss: 0.0014, Val Loss: 0.0007\n",
      "Epoch [5/15], Train Loss: 0.0025, Val Loss: 0.0021\n",
      "Epoch [3/15], Train Loss: 0.0016, Val Loss: 0.0008\n",
      "Epoch [13/15], Train Loss: 0.0014, Val Loss: 0.0012\n",
      "Epoch [8/15], Train Loss: 0.0026, Val Loss: 0.0016\n"
     ]
    },
    {
     "name": "stderr",
     "output_type": "stream",
     "text": [
      "[I 2025-03-31 09:44:56,771] Trial 3 finished with value: 0.0006530390658759467 and parameters: {'rnn_units': 128, 'dropout_rate_rnn': 0.30000000000000004, 'dense_units': 24, 'dropout_rate_dense': 0.4, 'learning_rate': 0.001, 'weight_decay': 1e-05}. Best is trial 3 with value: 0.0006530390658759467.\n"
     ]
    },
    {
     "name": "stdout",
     "output_type": "stream",
     "text": [
      "Epoch [14/15], Train Loss: 0.0020, Val Loss: 0.0011\n",
      "Epoch [15/15], Train Loss: 0.0014, Val Loss: 0.0007\n",
      "Epoch [6/15], Train Loss: 0.0028, Val Loss: 0.0015\n",
      "Epoch [9/15], Train Loss: 0.0024, Val Loss: 0.0020\n",
      "Epoch [4/15], Train Loss: 0.0015, Val Loss: 0.0008\n",
      "Epoch [14/15], Train Loss: 0.0013, Val Loss: 0.0009\n",
      "Epoch [1/15], Train Loss: 0.0074, Val Loss: 0.0011\n"
     ]
    },
    {
     "name": "stderr",
     "output_type": "stream",
     "text": [
      "[I 2025-03-31 09:45:45,386] Trial 4 finished with value: 0.0010339606214397317 and parameters: {'rnn_units': 128, 'dropout_rate_rnn': 0.2, 'dense_units': 48, 'dropout_rate_dense': 0.4, 'learning_rate': 0.0001, 'weight_decay': 0.001}. Best is trial 3 with value: 0.0006530390658759467.\n"
     ]
    },
    {
     "name": "stdout",
     "output_type": "stream",
     "text": [
      "Epoch [15/15], Train Loss: 0.0019, Val Loss: 0.0010\n",
      "Epoch [7/15], Train Loss: 0.0025, Val Loss: 0.0010\n",
      "Epoch [10/15], Train Loss: 0.0022, Val Loss: 0.0014\n",
      "Epoch [1/15], Train Loss: 0.0387, Val Loss: 0.0118\n"
     ]
    },
    {
     "name": "stderr",
     "output_type": "stream",
     "text": [
      "[I 2025-03-31 09:46:20,800] Trial 2 finished with value: 0.000934555239279777 and parameters: {'rnn_units': 128, 'dropout_rate_rnn': 0.4, 'dense_units': 24, 'dropout_rate_dense': 0.0, 'learning_rate': 0.0001, 'weight_decay': 0.001}. Best is trial 3 with value: 0.0006530390658759467.\n"
     ]
    },
    {
     "name": "stdout",
     "output_type": "stream",
     "text": [
      "Epoch [15/15], Train Loss: 0.0013, Val Loss: 0.0011\n",
      "Epoch [5/15], Train Loss: 0.0015, Val Loss: 0.0008\n",
      "Epoch [11/15], Train Loss: 0.0021, Val Loss: 0.0013\n",
      "Epoch [2/15], Train Loss: 0.0028, Val Loss: 0.0009\n"
     ]
    },
    {
     "name": "stderr",
     "output_type": "stream",
     "text": [
      "[I 2025-03-31 09:46:45,444] Trial 7 finished with value: 0.00095656412867679 and parameters: {'rnn_units': 64, 'dropout_rate_rnn': 0.4, 'dense_units': 56, 'dropout_rate_dense': 0.2, 'learning_rate': 0.01, 'weight_decay': 0.0001}. Best is trial 3 with value: 0.0006530390658759467.\n"
     ]
    },
    {
     "name": "stdout",
     "output_type": "stream",
     "text": [
      "Epoch [8/15], Train Loss: 0.0349, Val Loss: 0.0083\n",
      "Early stopping nach 8 Epochen.\n",
      "Epoch [2/15], Train Loss: 0.0138, Val Loss: 0.0099\n",
      "Epoch [12/15], Train Loss: 0.0020, Val Loss: 0.0014\n",
      "Epoch [1/15], Train Loss: 0.0066, Val Loss: 0.0018\n",
      "Epoch [6/15], Train Loss: 0.0015, Val Loss: 0.0008\n",
      "Epoch [1/15], Train Loss: 0.0049, Val Loss: 0.0025\n",
      "Epoch [3/15], Train Loss: 0.0020, Val Loss: 0.0007\n",
      "Epoch [3/15], Train Loss: 0.0106, Val Loss: 0.0077\n",
      "Epoch [13/15], Train Loss: 0.0018, Val Loss: 0.0014\n",
      "Epoch [2/15], Train Loss: 0.0020, Val Loss: 0.0009\n",
      "Epoch [4/15], Train Loss: 0.0077, Val Loss: 0.0036\n",
      "Epoch [2/15], Train Loss: 0.0031, Val Loss: 0.0018\n",
      "Epoch [4/15], Train Loss: 0.0015, Val Loss: 0.0008\n",
      "Epoch [14/15], Train Loss: 0.0017, Val Loss: 0.0012\n",
      "Epoch [7/15], Train Loss: 0.0016, Val Loss: 0.0008\n",
      "Epoch [5/15], Train Loss: 0.0057, Val Loss: 0.0032\n",
      "Epoch [3/15], Train Loss: 0.0015, Val Loss: 0.0011\n"
     ]
    },
    {
     "name": "stderr",
     "output_type": "stream",
     "text": [
      "[I 2025-03-31 09:48:57,446] Trial 6 finished with value: 0.00118958462060677 and parameters: {'rnn_units': 48, 'dropout_rate_rnn': 0.30000000000000004, 'dense_units': 8, 'dropout_rate_dense': 0.0, 'learning_rate': 0.0001, 'weight_decay': 0.001}. Best is trial 3 with value: 0.0006530390658759467.\n"
     ]
    },
    {
     "name": "stdout",
     "output_type": "stream",
     "text": [
      "Epoch [15/15], Train Loss: 0.0017, Val Loss: 0.0013\n",
      "Epoch [6/15], Train Loss: 0.0053, Val Loss: 0.0032\n",
      "Epoch [5/15], Train Loss: 0.0012, Val Loss: 0.0007\n",
      "Epoch [3/15], Train Loss: 0.0033, Val Loss: 0.0019\n",
      "Epoch [4/15], Train Loss: 0.0013, Val Loss: 0.0006\n",
      "Epoch [8/15], Train Loss: 0.0015, Val Loss: 0.0007\n",
      "Epoch [1/15], Train Loss: 0.0122, Val Loss: 0.0022\n",
      "Epoch [7/15], Train Loss: 0.0050, Val Loss: 0.0028\n",
      "Epoch [5/15], Train Loss: 0.0011, Val Loss: 0.0007\n",
      "Epoch [2/15], Train Loss: 0.0031, Val Loss: 0.0016\n",
      "Epoch [6/15], Train Loss: 0.0011, Val Loss: 0.0008\n",
      "Epoch [4/15], Train Loss: 0.0036, Val Loss: 0.0029\n",
      "Epoch [8/15], Train Loss: 0.0047, Val Loss: 0.0029\n",
      "Epoch [9/15], Train Loss: 0.0015, Val Loss: 0.0007\n",
      "Epoch [3/15], Train Loss: 0.0024, Val Loss: 0.0011\n",
      "Epoch [6/15], Train Loss: 0.0010, Val Loss: 0.0007\n",
      "Epoch [9/15], Train Loss: 0.0044, Val Loss: 0.0027\n",
      "Epoch [7/15], Train Loss: 0.0010, Val Loss: 0.0008\n",
      "Epoch [4/15], Train Loss: 0.0021, Val Loss: 0.0012\n",
      "Epoch [5/15], Train Loss: 0.0038, Val Loss: 0.0033\n",
      "Epoch [7/15], Train Loss: 0.0010, Val Loss: 0.0008\n",
      "Epoch [10/15], Train Loss: 0.0042, Val Loss: 0.0025\n",
      "Epoch [10/15], Train Loss: 0.0015, Val Loss: 0.0009\n",
      "Epoch [5/15], Train Loss: 0.0020, Val Loss: 0.0011\n",
      "Epoch [8/15], Train Loss: 0.0010, Val Loss: 0.0006\n",
      "Epoch [11/15], Train Loss: 0.0040, Val Loss: 0.0025\n",
      "Epoch [8/15], Train Loss: 0.0010, Val Loss: 0.0007\n",
      "Epoch [6/15], Train Loss: 0.0038, Val Loss: 0.0019\n",
      "Epoch [6/15], Train Loss: 0.0019, Val Loss: 0.0010\n",
      "Epoch [12/15], Train Loss: 0.0038, Val Loss: 0.0022\n",
      "Epoch [11/15], Train Loss: 0.0015, Val Loss: 0.0008\n",
      "Epoch [9/15], Train Loss: 0.0009, Val Loss: 0.0007\n",
      "Epoch [7/15], Train Loss: 0.0019, Val Loss: 0.0009\n",
      "Epoch [9/15], Train Loss: 0.0010, Val Loss: 0.0007\n",
      "Epoch [7/15], Train Loss: 0.0038, Val Loss: 0.0026\n",
      "Epoch [13/15], Train Loss: 0.0036, Val Loss: 0.0022\n",
      "Epoch [10/15], Train Loss: 0.0009, Val Loss: 0.0006\n",
      "Epoch [8/15], Train Loss: 0.0019, Val Loss: 0.0010\n",
      "Epoch [12/15], Train Loss: 0.0015, Val Loss: 0.0007\n",
      "Epoch [14/15], Train Loss: 0.0035, Val Loss: 0.0020\n",
      "Epoch [10/15], Train Loss: 0.0009, Val Loss: 0.0007\n"
     ]
    },
    {
     "name": "stderr",
     "output_type": "stream",
     "text": [
      "[I 2025-03-31 09:54:27,424] Trial 12 finished with value: 0.0006254629491107358 and parameters: {'rnn_units': 48, 'dropout_rate_rnn': 0.2, 'dense_units': 48, 'dropout_rate_dense': 0.1, 'learning_rate': 0.001, 'weight_decay': 1e-05}. Best is trial 12 with value: 0.0006254629491107358.\n"
     ]
    },
    {
     "name": "stdout",
     "output_type": "stream",
     "text": [
      "Epoch [11/15], Train Loss: 0.0009, Val Loss: 0.0007\n",
      "Early stopping nach 11 Epochen.\n",
      "Epoch [8/15], Train Loss: 0.0038, Val Loss: 0.0019\n",
      "Epoch [9/15], Train Loss: 0.0019, Val Loss: 0.0009\n"
     ]
    },
    {
     "name": "stderr",
     "output_type": "stream",
     "text": [
      "[I 2025-03-31 09:54:57,240] Trial 10 finished with value: 0.0018855381049140687 and parameters: {'rnn_units': 16, 'dropout_rate_rnn': 0.4, 'dense_units': 16, 'dropout_rate_dense': 0.0, 'learning_rate': 0.0001, 'weight_decay': 0.0001}. Best is trial 12 with value: 0.0006254629491107358.\n"
     ]
    },
    {
     "name": "stdout",
     "output_type": "stream",
     "text": [
      "Epoch [15/15], Train Loss: 0.0033, Val Loss: 0.0019\n",
      "Epoch [10/15], Train Loss: 0.0019, Val Loss: 0.0010\n",
      "Epoch [11/15], Train Loss: 0.0009, Val Loss: 0.0007\n",
      "Epoch [1/15], Train Loss: 0.0161, Val Loss: 0.0052\n",
      "Epoch [13/15], Train Loss: 0.0015, Val Loss: 0.0007\n"
     ]
    },
    {
     "name": "stderr",
     "output_type": "stream",
     "text": [
      "[I 2025-03-31 09:55:30,062] Trial 11 finished with value: 0.001774597648275836 and parameters: {'rnn_units': 80, 'dropout_rate_rnn': 0.4, 'dense_units': 48, 'dropout_rate_dense': 0.30000000000000004, 'learning_rate': 0.01, 'weight_decay': 0.001}. Best is trial 12 with value: 0.0006254629491107358.\n"
     ]
    },
    {
     "name": "stdout",
     "output_type": "stream",
     "text": [
      "Epoch [9/15], Train Loss: 0.0039, Val Loss: 0.0023\n",
      "Early stopping nach 9 Epochen.\n",
      "Epoch [11/15], Train Loss: 0.0019, Val Loss: 0.0009\n",
      "Epoch [1/15], Train Loss: 0.0054, Val Loss: 0.0015\n",
      "Epoch [12/15], Train Loss: 0.0009, Val Loss: 0.0007\n",
      "Epoch [2/15], Train Loss: 0.0050, Val Loss: 0.0025\n",
      "Epoch [12/15], Train Loss: 0.0019, Val Loss: 0.0010\n",
      "Epoch [1/15], Train Loss: 0.0056, Val Loss: 0.0011\n",
      "Epoch [14/15], Train Loss: 0.0015, Val Loss: 0.0008\n",
      "Epoch [13/15], Train Loss: 0.0019, Val Loss: 0.0010\n",
      "Epoch [2/15], Train Loss: 0.0023, Val Loss: 0.0008\n",
      "Epoch [13/15], Train Loss: 0.0009, Val Loss: 0.0007\n",
      "Epoch [3/15], Train Loss: 0.0038, Val Loss: 0.0017\n",
      "Epoch [2/15], Train Loss: 0.0023, Val Loss: 0.0009\n",
      "Epoch [14/15], Train Loss: 0.0019, Val Loss: 0.0010\n"
     ]
    },
    {
     "name": "stderr",
     "output_type": "stream",
     "text": [
      "[I 2025-03-31 09:57:39,581] Trial 8 finished with value: 0.0006972745170294788 and parameters: {'rnn_units': 112, 'dropout_rate_rnn': 0.30000000000000004, 'dense_units': 8, 'dropout_rate_dense': 0.2, 'learning_rate': 0.001, 'weight_decay': 0.0001}. Best is trial 12 with value: 0.0006254629491107358.\n"
     ]
    },
    {
     "name": "stdout",
     "output_type": "stream",
     "text": [
      "Epoch [15/15], Train Loss: 0.0016, Val Loss: 0.0008\n",
      "Epoch [3/15], Train Loss: 0.0015, Val Loss: 0.0007\n"
     ]
    },
    {
     "name": "stderr",
     "output_type": "stream",
     "text": [
      "[I 2025-03-31 09:57:54,395] Trial 13 finished with value: 0.00092358139215409 and parameters: {'rnn_units': 16, 'dropout_rate_rnn': 0.4, 'dense_units': 56, 'dropout_rate_dense': 0.0, 'learning_rate': 0.001, 'weight_decay': 0.001}. Best is trial 12 with value: 0.0006254629491107358.\n"
     ]
    },
    {
     "name": "stdout",
     "output_type": "stream",
     "text": [
      "Epoch [15/15], Train Loss: 0.0019, Val Loss: 0.0011\n",
      "Epoch [14/15], Train Loss: 0.0009, Val Loss: 0.0007\n",
      "Epoch [3/15], Train Loss: 0.0016, Val Loss: 0.0007\n",
      "Epoch [4/15], Train Loss: 0.0032, Val Loss: 0.0015\n"
     ]
    }
   ],
   "source": [
    "def objective(trial):\n",
    "    hp = {\n",
    "        'rnn_units': trial.suggest_int('rnn_units', 16, 128, step=16),\n",
    "        'dropout_rate_rnn': trial.suggest_float('dropout_rate_rnn', 0.1, 0.5, step=0.1),\n",
    "        'dense_units': trial.suggest_int('dense_units', 8, 64, step=8),\n",
    "        'dropout_rate_dense': trial.suggest_float('dropout_rate_dense', 0.0, 0.4, step=0.1),\n",
    "        'learning_rate': trial.suggest_categorical('learning_rate', [1e-2, 1e-3, 1e-4]),\n",
    "        'weight_decay': trial.suggest_categorical('weight_decay', [1e-5, 1e-4, 1e-3]),\n",
    "    }\n",
    "\n",
    "    rnn_model = SimpleRNN(input_size = X_train.shape[2], hp= hp)\n",
    "    criterion = nn.MSELoss()\n",
    "    optimizer = torch.optim.Adam(rnn_model.parameters(), lr=hp['learning_rate'], weight_decay=hp['weight_decay'])\n",
    "\n",
    "    num_epochs = 15\n",
    "    patience = 7  # Stop, wenn val_loss sich 10 Epochen lang nicht verbessert\n",
    "    best_val_loss = float('inf')\n",
    "    early_stopping_counter = 0\n",
    "\n",
    "    for epoch in range(num_epochs):\n",
    "        rnn_model.train()\n",
    "        train_loss = 0.0\n",
    "\n",
    "        # Training Loop\n",
    "        for X_batch, y_batch in train_loader:\n",
    "            y_pred = rnn_model(X_batch)\n",
    "            loss = criterion(y_pred, y_batch)\n",
    "            optimizer.zero_grad()\n",
    "            loss.backward()\n",
    "            optimizer.step()\n",
    "\n",
    "            train_loss += loss.item()\n",
    "        train_loss /= len(train_loader)\n",
    "\n",
    "        # Validation Loop (nach jeder Epoche)\n",
    "        rnn_model.eval()\n",
    "        val_loss = 0.0\n",
    "        with torch.no_grad():\n",
    "            for X_batch, y_batch in val_loader:\n",
    "                y_pred = rnn_model(X_batch)\n",
    "                loss = criterion(y_pred, y_batch)\n",
    "                val_loss += loss.item()\n",
    "        val_loss /= len(val_loader)\n",
    "\n",
    "        print(f'Epoch [{epoch+1}/{num_epochs}], Train Loss: {train_loss:.4f}, Val Loss: {val_loss:.4f}')\n",
    "\n",
    "        # Early Stopping Check\n",
    "        if val_loss < best_val_loss:\n",
    "            best_val_loss = val_loss\n",
    "            early_stopping_counter = 0  # Reset Counter\n",
    "        else:\n",
    "            early_stopping_counter += 1\n",
    "            if early_stopping_counter >= patience:\n",
    "                print(f\"Early stopping nach {epoch+1} Epochen.\")\n",
    "                break\n",
    "\n",
    "    return best_val_loss  # Val Loss zurückgeben für Optuna\n",
    "\n",
    "# Hyperparameter tuning\n",
    "study = optuna.create_study(direction='minimize')\n",
    "study.optimize(objective, n_trials=30, n_jobs = 6)\n",
    "\n",
    "# Show Best Result\n",
    "print(\"Best trial parameters:\")\n",
    "for key, value in study.best_trial.params.items():\n",
    "    print(f\"{key}: {value}\")\n"
   ]
  },
  {
   "cell_type": "code",
   "execution_count": null,
   "metadata": {},
   "outputs": [
    {
     "data": {
      "text/plain": [
       "torch.Size([16, 24, 17])"
      ]
     },
     "execution_count": 10,
     "metadata": {},
     "output_type": "execute_result"
    }
   ],
   "source": [
    "# Bestes Modell mit den gefundenen Hyperparametern trainieren\n",
    "best_hp = study.best_trial.params\n",
    "final_model = SimpleRNN(input_size=X_train.shape[2], hp=best_hp)\n",
    "criterion = nn.MSELoss()\n",
    "optimizer = torch.optim.Adam(final_model.parameters(), lr=best_hp['learning_rate'], weight_decay=best_hp['weight_decay'])\n",
    "\n",
    "num_epochs = 50\n",
    "train_loss_history = []\n",
    "val_loss_history = []\n",
    "\n",
    "for epoch in range(num_epochs):\n",
    "    final_model.train()\n",
    "    train_loss = 0.0\n",
    "    for X_batch, y_batch in train_loader:\n",
    "        optimizer.zero_grad()\n",
    "        y_pred = final_model(X_batch)\n",
    "        loss = criterion(y_pred, y_batch.unsqueeze(1))\n",
    "        loss.backward()\n",
    "        optimizer.step()\n",
    "        train_loss += loss.item()\n",
    "    train_loss /= len(train_loader)\n",
    "    train_loss_history.append(train_loss)\n",
    "\n",
    "    # Validation Loss berechnen\n",
    "    final_model.eval()\n",
    "    val_loss = 0.0\n",
    "    with torch.no_grad():\n",
    "        for X_batch, y_batch in val_loader:\n",
    "            y_pred = final_model(X_batch)\n",
    "            loss = criterion(y_pred, y_batch.unsqueeze(1))\n",
    "            val_loss += loss.item()\n",
    "    val_loss /= len(val_loader)\n",
    "    val_loss_history.append(val_loss)\n",
    "\n",
    "    print(f'Epoch [{epoch+1}/{num_epochs}], Train Loss: {train_loss:.4f}, Val Loss: {val_loss:.4f}')\n",
    "\n",
    "# **Trainingshistorie plotten**\n",
    "plt.figure(figsize=(8, 5))\n",
    "plt.plot(train_loss_history, label=\"Train Loss\")\n",
    "plt.plot(val_loss_history, label=\"Val Loss\")\n",
    "plt.xlabel(\"Epochen\")\n",
    "plt.ylabel(\"Loss\")\n",
    "plt.legend()\n",
    "plt.title(\"Trainings- und Validierungsverlust\")\n",
    "plt.show()"
   ]
  }
 ],
 "metadata": {
  "kernelspec": {
   "display_name": "ep_forecasting_env",
   "language": "python",
   "name": "python3"
  },
  "language_info": {
   "codemirror_mode": {
    "name": "ipython",
    "version": 3
   },
   "file_extension": ".py",
   "mimetype": "text/x-python",
   "name": "python",
   "nbconvert_exporter": "python",
   "pygments_lexer": "ipython3",
   "version": "3.9.18"
  }
 },
 "nbformat": 4,
 "nbformat_minor": 2
}

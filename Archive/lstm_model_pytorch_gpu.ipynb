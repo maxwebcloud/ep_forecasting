{
 "cells": [
  {
   "cell_type": "code",
   "execution_count": 49,
   "metadata": {},
   "outputs": [],
   "source": [
    "\n",
    "import time\n",
    "notebook_start = time.time()\n",
    "\n",
    "\n",
    "# Standard Libraries\n",
    "import random\n",
    "import os\n",
    "import pickle\n",
    "import json\n",
    "\n",
    "# Numerical Libraries\n",
    "import numpy as np\n",
    "import pandas as pd\n",
    "\n",
    "# Visualization Libraries\n",
    "import matplotlib.pyplot as plt\n",
    "\n",
    "# Machine Learning & Statistics\n",
    "from sklearn.metrics import mean_squared_error\n",
    "\n",
    "# Jupyter Notebook Imports\n",
    "import import_ipynb\n",
    "\n",
    "# PyTorch & Deep Learning Libraries\n",
    "import torch\n",
    "import torch.nn as nn\n",
    "import torch.optim as optim\n",
    "from torch.utils.data import DataLoader, TensorDataset\n",
    "\n",
    "# Custom Modules\n",
    "from phased_lstm_implementation import PLSTM, Model \n",
    "import joblib\n",
    "scaler_y = joblib.load(\"data/scaler_y.pkl\")\n",
    "\n",
    "# Hyperparameter Tuning\n",
    "import optuna\n",
    "from optuna.pruners import HyperbandPruner\n",
    "\n",
    "\n",
    "\n"
   ]
  },
  {
   "cell_type": "code",
   "execution_count": null,
   "metadata": {},
   "outputs": [
    {
     "name": "stdout",
     "output_type": "stream",
     "text": [
      "Using device: mps\n"
     ]
    }
   ],
   "source": [
    "from numpy import True_\n",
    "\n",
    "\n",
    "USE_GPU = True   # oder False, wenn du CPU erzwingen willst\n",
    "\n",
    "if USE_GPU and torch.backends.mps.is_available():\n",
    "    device = torch.device(\"mps\")\n",
    "else:\n",
    "    device = torch.device(\"cpu\")\n",
    "\n",
    "print(\"Using device:\", device)"
   ]
  },
  {
   "cell_type": "code",
   "execution_count": 51,
   "metadata": {},
   "outputs": [],
   "source": [
    "#Seed \n",
    "SEED = 42\n",
    "\n",
    "def set_seed():\n",
    "\n",
    "    # PyTorch Seed\n",
    "    torch.manual_seed(SEED)\n",
    "\n",
    "    # NumPy Seed\n",
    "    np.random.seed(SEED)\n",
    "\n",
    "    # Python random seed\n",
    "    random.seed(SEED)\n",
    "    # Determinismus erzwingen\n",
    "    torch.backends.cudnn.deterministic = True\n",
    "\n",
    "\n",
    "    # PyTorch (CPU + MPS)\n",
    "    torch.manual_seed(SEED)\n",
    "\n",
    "    # Keine automatische Optimierung\n",
    "    torch.backends.cudnn.benchmark = False  \n",
    "\n",
    "    os.environ[\"PYTHONHASHSEED\"] = str(SEED)\n",
    "    torch.use_deterministic_algorithms(True)\n",
    "\n",
    "set_seed()"
   ]
  },
  {
   "cell_type": "code",
   "execution_count": 52,
   "metadata": {},
   "outputs": [],
   "source": [
    "# Data Import (commented version)\n",
    "with open(\"data/X_train.pkl\", \"rb\") as f:\n",
    "    X_train = pickle.load(f)\n",
    "\n",
    "with open(\"data/y_train.pkl\", \"rb\") as f:\n",
    "    y_train = pickle.load(f)\n",
    "\n",
    "with open(\"data/X_val.pkl\", \"rb\") as f:\n",
    "    X_val = pickle.load(f)\n",
    "\n",
    "with open(\"data/y_val.pkl\", \"rb\") as f:\n",
    "    y_val = pickle.load(f)\n",
    "\n",
    "with open(\"data/X_test.pkl\", \"rb\") as f:\n",
    "    X_test = pickle.load(f)\n",
    "\n",
    "with open(\"data/y_test.pkl\", \"rb\") as f:\n",
    "    y_test = pickle.load(f)\n",
    "\n",
    "with open(\"data/df_final_viz.pkl\", \"rb\") as f:\n",
    "    df_final_viz = pickle.load(f)"
   ]
  },
  {
   "cell_type": "code",
   "execution_count": 53,
   "metadata": {},
   "outputs": [
    {
     "data": {
      "text/plain": [
       "' \\n\\nimport pickle\\n\\n# Load X_train\\nwith open(\"data/X_train_long.pkl\", \"rb\") as f:\\n    X_train = pickle.load(f)\\n\\n# Load y_train\\nwith open(\"data/y_train_long.pkl\", \"rb\") as f:\\n    y_train = pickle.load(f)\\n\\n# Load X_val\\nwith open(\"data/X_val_long.pkl\", \"rb\") as f:\\n    X_val = pickle.load(f)\\n\\n# Load y_val\\nwith open(\"data/y_val_long.pkl\", \"rb\") as f:\\n    y_val = pickle.load(f)\\n\\n# Load X_test\\nwith open(\"data/X_test_long.pkl\", \"rb\") as f:\\n    X_test = pickle.load(f)\\n\\n# Load y_test\\nwith open(\"data/y_test_long.pkl\", \"rb\") as f:\\n    y_test = pickle.load(f)\\n\\n # Load df_final_viz\\nwith open(\"data/df_final_viz.pkl\", \"rb\") as f:\\n  df_final_viz = pickle.load(f)\\n\\n'"
      ]
     },
     "execution_count": 53,
     "metadata": {},
     "output_type": "execute_result"
    }
   ],
   "source": [
    "# Data Import (long versions, same object names)\n",
    "\"\"\" \n",
    "\n",
    "import pickle\n",
    "\n",
    "# Load X_train\n",
    "with open(\"data/X_train_long.pkl\", \"rb\") as f:\n",
    "    X_train = pickle.load(f)\n",
    "\n",
    "# Load y_train\n",
    "with open(\"data/y_train_long.pkl\", \"rb\") as f:\n",
    "    y_train = pickle.load(f)\n",
    "\n",
    "# Load X_val\n",
    "with open(\"data/X_val_long.pkl\", \"rb\") as f:\n",
    "    X_val = pickle.load(f)\n",
    "\n",
    "# Load y_val\n",
    "with open(\"data/y_val_long.pkl\", \"rb\") as f:\n",
    "    y_val = pickle.load(f)\n",
    "\n",
    "# Load X_test\n",
    "with open(\"data/X_test_long.pkl\", \"rb\") as f:\n",
    "    X_test = pickle.load(f)\n",
    "\n",
    "# Load y_test\n",
    "with open(\"data/y_test_long.pkl\", \"rb\") as f:\n",
    "    y_test = pickle.load(f)\n",
    "\n",
    " # Load df_final_viz\n",
    "with open(\"data/df_final_viz.pkl\", \"rb\") as f:\n",
    "  df_final_viz = pickle.load(f)\n",
    "\n",
    "\"\"\"\n",
    "\n"
   ]
  },
  {
   "cell_type": "code",
   "execution_count": 54,
   "metadata": {},
   "outputs": [
    {
     "name": "stdout",
     "output_type": "stream",
     "text": [
      "PyTorch uses: 6 Threads\n"
     ]
    }
   ],
   "source": [
    "# Setting the Number of CPU Threads in PyTorch\n",
    "num_threads = max(1, os.cpu_count() // 2)\n",
    "torch.set_num_threads(num_threads)\n",
    "print(f\"PyTorch uses: {torch.get_num_threads()} Threads\")"
   ]
  },
  {
   "cell_type": "code",
   "execution_count": 55,
   "metadata": {},
   "outputs": [],
   "source": [
    "# Convert data into PyTorch tensors\n",
    "X_train_tensor = torch.tensor(X_train, dtype=torch.float32)\n",
    "y_train_tensor = torch.tensor(y_train, dtype=torch.float32).unsqueeze(1)\n",
    "\n",
    "X_val_tensor = torch.tensor(X_val, dtype=torch.float32)\n",
    "y_val_tensor = torch.tensor(y_val, dtype=torch.float32).unsqueeze(1)\n",
    "\n",
    "X_test_tensor = torch.tensor(X_test, dtype=torch.float32)\n",
    "y_test_tensor = torch.tensor(y_test, dtype=torch.float32).unsqueeze(1)\n",
    "\n",
    "# Create TensorDataset for train, validation, and test sets\n",
    "train_dataset = TensorDataset(X_train_tensor, y_train_tensor)\n",
    "val_dataset = TensorDataset(X_val_tensor, y_val_tensor)\n",
    "test_dataset = TensorDataset(X_test_tensor, y_test_tensor)\n",
    "\n",
    "\n",
    "def get_dataloaders(seed):\n",
    "\n",
    "    g = torch.Generator()\n",
    "    g.manual_seed(seed)\n",
    "\n",
    "    #DataLoader\n",
    "    train_loader = DataLoader(train_dataset, batch_size=256, shuffle=True, drop_last=False, num_workers=0, generator= g)\n",
    "    val_loader = DataLoader(val_dataset, batch_size=256, shuffle=False, drop_last=False, num_workers=0, generator = g)\n",
    "    test_loader = DataLoader(test_dataset, batch_size=256, shuffle=False, drop_last=False, num_workers=0, generator=g)\n",
    "    \n",
    "    return train_loader, test_loader, val_loader\n",
    "    "
   ]
  },
  {
   "cell_type": "code",
   "execution_count": 56,
   "metadata": {},
   "outputs": [
    {
     "data": {
      "text/plain": [
       "torch.Size([27024, 24, 17])"
      ]
     },
     "execution_count": 56,
     "metadata": {},
     "output_type": "execute_result"
    }
   ],
   "source": [
    "X_train_tensor.shape"
   ]
  },
  {
   "cell_type": "code",
   "execution_count": 57,
   "metadata": {},
   "outputs": [],
   "source": [
    "\n",
    "\n",
    "class LSTMModel(nn.Module):\n",
    "    def __init__(self, input_size, hp):\n",
    "        super(LSTMModel, self).__init__()\n",
    "        self.lstm1 = nn.LSTM(input_size, hp['lstm_units'], batch_first=True)\n",
    "        self.dropout1 = nn.Dropout(hp['dropout_rate_lstm'])\n",
    "        self.fc1 = nn.Linear(hp['lstm_units'], hp['dense_units'])\n",
    "        self.dropout3 = nn.Dropout(hp['dropout_rate_dense'])\n",
    "        self.fc2 = nn.Linear(hp['dense_units'], 1)\n",
    "\n",
    "    def forward(self, x):\n",
    "        out, _ = self.lstm1(x)\n",
    "        out = self.dropout1(out)\n",
    "        out = out[:, -1, :]\n",
    "        out = self.fc1(out)\n",
    "        out = self.dropout3(out)\n",
    "        out = self.fc2(out)\n",
    "        return out\n",
    "\n"
   ]
  },
  {
   "cell_type": "code",
   "execution_count": 58,
   "metadata": {},
   "outputs": [
    {
     "name": "stderr",
     "output_type": "stream",
     "text": [
      "[I 2025-04-09 20:39:54,150] A new study created in memory with name: no-name-7252886b-5e3b-4d82-9513-95f1b9b1ef19\n",
      "[I 2025-04-09 20:40:06,300] Trial 0 finished with value: 0.0007075061112118419 and parameters: {'lstm_units': 112, 'dropout_rate_lstm': 0.3, 'dense_units': 48, 'dropout_rate_dense': 0.2, 'learning_rate': 0.001}. Best is trial 0 with value: 0.0007075061112118419.\n",
      "[I 2025-04-09 20:40:09,239] Trial 1 pruned. \n",
      "[I 2025-04-09 20:40:24,371] Trial 2 finished with value: 0.0015911298469291069 and parameters: {'lstm_units': 224, 'dropout_rate_lstm': 0.1, 'dense_units': 16, 'dropout_rate_dense': 0.0, 'learning_rate': 0.0001}. Best is trial 0 with value: 0.0007075061112118419.\n",
      "[I 2025-04-09 20:40:28,090] Trial 3 pruned. \n",
      "[I 2025-04-09 20:40:42,011] Trial 4 finished with value: 0.001056222346960567 and parameters: {'lstm_units': 128, 'dropout_rate_lstm': 0.3, 'dense_units': 16, 'dropout_rate_dense': 0.2, 'learning_rate': 0.001}. Best is trial 0 with value: 0.0007075061112118419.\n",
      "[I 2025-04-09 20:40:45,943] Trial 5 pruned. \n",
      "[I 2025-04-09 20:40:49,250] Trial 6 pruned. \n",
      "[I 2025-04-09 20:40:52,224] Trial 7 pruned. \n",
      "[I 2025-04-09 20:41:04,979] Trial 8 finished with value: 0.0006326144157355884 and parameters: {'lstm_units': 160, 'dropout_rate_lstm': 0.1, 'dense_units': 64, 'dropout_rate_dense': 0.3, 'learning_rate': 0.001}. Best is trial 8 with value: 0.0006326144157355884.\n",
      "[I 2025-04-09 20:41:13,037] Trial 9 pruned. \n"
     ]
    },
    {
     "name": "stdout",
     "output_type": "stream",
     "text": [
      "Best trial parameters:\n",
      "lstm_units: 160\n",
      "dropout_rate_lstm: 0.1\n",
      "dense_units: 64\n",
      "dropout_rate_dense: 0.3\n",
      "learning_rate: 0.001\n"
     ]
    }
   ],
   "source": [
    "# Objective-function with Hyperband-Pruning for LSTM\n",
    "def objective(trial):\n",
    "\n",
    "    set_seed()\n",
    "    train_loader, _, val_loader = get_dataloaders(SEED)\n",
    "    \n",
    "    hp = {\n",
    "        'lstm_units': trial.suggest_int('lstm_units', 32, 256, step=16),\n",
    "        'dropout_rate_lstm': trial.suggest_float('dropout_rate_lstm', 0.1, 0.3, step=0.1),\n",
    "        'dense_units': trial.suggest_int('dense_units', 16, 64, step=16),\n",
    "        'dropout_rate_dense': trial.suggest_float('dropout_rate_dense', 0.0, 0.3, step=0.1),\n",
    "        'learning_rate': trial.suggest_categorical('learning_rate', [1e-3, 1e-4])\n",
    "    }\n",
    "\n",
    "    set_seed()\n",
    "\n",
    "    model = LSTMModel(input_size=X_train.shape[2], hp=hp).to(device)\n",
    "    criterion = nn.MSELoss().to(device)\n",
    "    optimizer = torch.optim.Adam(model.parameters(), lr=hp['learning_rate'])\n",
    "\n",
    "    num_epochs = 15\n",
    "    patience = 7\n",
    "    best_val_loss = float('inf')\n",
    "    early_stopping_counter = 0\n",
    "\n",
    "    for epoch in range(num_epochs):\n",
    "        model.train()\n",
    "        total_loss = 0.0\n",
    "\n",
    "        for X_batch, y_batch in train_loader:\n",
    "            X_batch, y_batch = X_batch.to(device), y_batch.to(device)\n",
    "\n",
    "            optimizer.zero_grad()\n",
    "            y_pred = model(X_batch)\n",
    "            loss = criterion(y_pred, y_batch)\n",
    "            loss.backward()\n",
    "            optimizer.step()\n",
    "            total_loss += loss.item()\n",
    "\n",
    "        avg_loss = total_loss / len(train_loader)\n",
    "\n",
    "        # Validation\n",
    "        model.eval()\n",
    "        val_loss = 0.0\n",
    "        with torch.no_grad():\n",
    "            for X_batch, y_batch in val_loader:\n",
    "                X_batch, y_batch = X_batch.to(device), y_batch.to(device)\n",
    "\n",
    "                y_pred = model(X_batch)\n",
    "                loss = criterion(y_pred, y_batch)\n",
    "                val_loss += loss.item()\n",
    "\n",
    "        val_loss /= len(val_loader)\n",
    "\n",
    "        # Optuna-Pruning Check\n",
    "        trial.report(val_loss, epoch)\n",
    "        if trial.should_prune():\n",
    "            raise optuna.exceptions.TrialPruned()\n",
    "\n",
    "        if val_loss < best_val_loss:\n",
    "            best_val_loss = val_loss\n",
    "            early_stopping_counter = 0\n",
    "        else:\n",
    "            early_stopping_counter += 1\n",
    "            if early_stopping_counter >= patience:\n",
    "                break\n",
    "\n",
    "    return best_val_loss\n",
    "\n",
    "# Study with HyperbandPruner\n",
    "sampler = optuna.samplers.TPESampler(seed=SEED) \n",
    "pruner = optuna.pruners.HyperbandPruner(min_resource=3, max_resource=15, reduction_factor=3)\n",
    "study = optuna.create_study(direction='minimize', pruner=pruner, sampler=sampler)\n",
    "study.optimize(objective, n_trials=10, n_jobs=1)\n",
    "\n",
    "\n",
    "# Show Best Result\n",
    "print(\"Best trial parameters:\")\n",
    "for key, value in study.best_trial.params.items():\n",
    "    print(f\"{key}: {value}\")"
   ]
  },
  {
   "cell_type": "code",
   "execution_count": 59,
   "metadata": {},
   "outputs": [],
   "source": [
    "# save best hyperparameters\n",
    "best_hp = study.best_trial.params\n",
    "with open(\"best_hp_all_models/best_hp_lstm.json\", \"w\") as f:\n",
    "    json.dump(best_hp, f)"
   ]
  },
  {
   "cell_type": "code",
   "execution_count": 60,
   "metadata": {},
   "outputs": [],
   "source": [
    "# load best hyperparameters\n",
    "with open(\"best_hp_all_models/best_hp_lstm.json\", \"r\") as f:\n",
    "    best_hp = json.load(f)"
   ]
  },
  {
   "cell_type": "code",
   "execution_count": 61,
   "metadata": {},
   "outputs": [
    {
     "name": "stdout",
     "output_type": "stream",
     "text": [
      "Epoch [1/50], Train Loss: 0.0164, Val Loss: 0.0047\n",
      "Epoch [2/50], Train Loss: 0.0036, Val Loss: 0.0023\n",
      "Epoch [3/50], Train Loss: 0.0028, Val Loss: 0.0018\n",
      "Epoch [4/50], Train Loss: 0.0025, Val Loss: 0.0013\n",
      "Epoch [5/50], Train Loss: 0.0022, Val Loss: 0.0014\n",
      "Epoch [6/50], Train Loss: 0.0021, Val Loss: 0.0010\n",
      "Epoch [7/50], Train Loss: 0.0020, Val Loss: 0.0010\n",
      "Epoch [8/50], Train Loss: 0.0018, Val Loss: 0.0012\n",
      "Epoch [9/50], Train Loss: 0.0017, Val Loss: 0.0009\n",
      "Epoch [10/50], Train Loss: 0.0016, Val Loss: 0.0009\n",
      "Epoch [11/50], Train Loss: 0.0016, Val Loss: 0.0009\n",
      "Epoch [12/50], Train Loss: 0.0015, Val Loss: 0.0008\n",
      "Epoch [13/50], Train Loss: 0.0014, Val Loss: 0.0009\n",
      "Epoch [14/50], Train Loss: 0.0013, Val Loss: 0.0008\n",
      "Epoch [15/50], Train Loss: 0.0012, Val Loss: 0.0006\n",
      "Epoch [16/50], Train Loss: 0.0012, Val Loss: 0.0007\n",
      "Epoch [17/50], Train Loss: 0.0011, Val Loss: 0.0007\n",
      "Epoch [18/50], Train Loss: 0.0011, Val Loss: 0.0006\n",
      "Epoch [19/50], Train Loss: 0.0010, Val Loss: 0.0006\n",
      "Epoch [20/50], Train Loss: 0.0010, Val Loss: 0.0005\n",
      "Epoch [21/50], Train Loss: 0.0009, Val Loss: 0.0006\n",
      "Epoch [22/50], Train Loss: 0.0009, Val Loss: 0.0006\n",
      "Epoch [23/50], Train Loss: 0.0009, Val Loss: 0.0006\n",
      "Epoch [24/50], Train Loss: 0.0009, Val Loss: 0.0006\n",
      "Epoch [25/50], Train Loss: 0.0008, Val Loss: 0.0006\n",
      "Epoch [26/50], Train Loss: 0.0008, Val Loss: 0.0006\n",
      "Epoch [27/50], Train Loss: 0.0008, Val Loss: 0.0005\n",
      "Epoch [28/50], Train Loss: 0.0008, Val Loss: 0.0005\n",
      "Epoch [29/50], Train Loss: 0.0008, Val Loss: 0.0005\n",
      "Epoch [30/50], Train Loss: 0.0007, Val Loss: 0.0005\n",
      "Epoch [31/50], Train Loss: 0.0007, Val Loss: 0.0006\n",
      "Epoch [32/50], Train Loss: 0.0007, Val Loss: 0.0005\n",
      "Epoch [33/50], Train Loss: 0.0007, Val Loss: 0.0005\n",
      "Epoch [34/50], Train Loss: 0.0007, Val Loss: 0.0005\n",
      "Epoch [35/50], Train Loss: 0.0007, Val Loss: 0.0006\n",
      "Epoch [36/50], Train Loss: 0.0007, Val Loss: 0.0005\n",
      "Epoch [37/50], Train Loss: 0.0007, Val Loss: 0.0006\n",
      "Epoch [38/50], Train Loss: 0.0007, Val Loss: 0.0005\n",
      "Epoch [39/50], Train Loss: 0.0007, Val Loss: 0.0005\n",
      "Early stopping nach 39 Epochen.\n"
     ]
    },
    {
     "data": {
      "image/png": "[encoded data removed]",
      "text/plain": [
       "<Figure size 800x500 with 1 Axes>"
      ]
     },
     "metadata": {},
     "output_type": "display_data"
    }
   ],
   "source": [
    "# Bestes Modell mit den gefundenen Hyperparametern trainieren\n",
    "set_seed()\n",
    "train_loader, _, val_loader = get_dataloaders(SEED)\n",
    "\n",
    "final_model = LSTMModel(input_size=X_train.shape[2], hp=best_hp)\n",
    "device = torch.device(\"mps\" if torch.backends.mps.is_available() else \"cpu\")\n",
    "final_model = final_model.to(device)\n",
    "criterion = nn.MSELoss().to(device)\n",
    "optimizer = torch.optim.Adam(final_model.parameters(), lr=best_hp['learning_rate'])\n",
    "\n",
    "num_epochs = 50\n",
    "train_loss_history = []\n",
    "val_loss_history = []\n",
    "patience = 10\n",
    "best_val_loss = float('inf')\n",
    "early_stopping_counter = 0\n",
    "\n",
    "for epoch in range(num_epochs):\n",
    "    final_model.train()\n",
    "    train_loss = 0.0\n",
    "    for X_batch, y_batch in train_loader:\n",
    "        X_batch, y_batch = X_batch.to(device), y_batch.to(device)\n",
    "        optimizer.zero_grad()\n",
    "        y_pred = final_model(X_batch)\n",
    "        loss = criterion(y_pred, y_batch)\n",
    "        loss.backward()\n",
    "        optimizer.step()\n",
    "        train_loss += loss.item()\n",
    "    train_loss /= len(train_loader)\n",
    "    train_loss_history.append(train_loss)\n",
    "\n",
    "    # Validation Loss berechnen\n",
    "    final_model.eval()\n",
    "    val_loss = 0.0\n",
    "    with torch.no_grad():\n",
    "        for X_batch, y_batch in val_loader:\n",
    "            X_batch, y_batch = X_batch.to(device), y_batch.to(device)\n",
    "            y_pred = final_model(X_batch)\n",
    "            loss = criterion(y_pred, y_batch)\n",
    "            val_loss += loss.item()\n",
    "    val_loss /= len(val_loader)\n",
    "    val_loss_history.append(val_loss)\n",
    "\n",
    "    print(f'Epoch [{epoch+1}/{num_epochs}], Train Loss: {train_loss:.4f}, Val Loss: {val_loss:.4f}')\n",
    "\n",
    "    # Early Stopping Check\n",
    "    if val_loss < best_val_loss:\n",
    "        best_val_loss = val_loss\n",
    "        early_stopping_counter = 0  # Reset Counter\n",
    "        torch.save(final_model.state_dict(), \"saved_models/lstm_model_final.pth\")  # Save best model\n",
    "    else:\n",
    "        early_stopping_counter += 1\n",
    "        if early_stopping_counter >= patience:\n",
    "            print(f\"Early stopping nach {epoch+1} Epochen.\")\n",
    "            break\n",
    "\n",
    "\n",
    "# Trainingshistorie plotten\n",
    "plt.figure(figsize=(8, 5))\n",
    "plt.plot(train_loss_history, label=\"Train Loss\")\n",
    "plt.plot(val_loss_history, label=\"Val Loss\")\n",
    "plt.xlabel(\"Epochen\")\n",
    "plt.ylabel(\"Loss\")\n",
    "plt.legend()\n",
    "plt.title(\"Trainings- und Validierungsverlust\")\n",
    "plt.show()"
   ]
  },
  {
   "cell_type": "code",
   "execution_count": 62,
   "metadata": {},
   "outputs": [
    {
     "data": {
      "text/plain": [
       "LSTMModel(\n",
       "  (lstm1): LSTM(17, 160, batch_first=True)\n",
       "  (dropout1): Dropout(p=0.1, inplace=False)\n",
       "  (fc1): Linear(in_features=160, out_features=64, bias=True)\n",
       "  (dropout3): Dropout(p=0.3, inplace=False)\n",
       "  (fc2): Linear(in_features=64, out_features=1, bias=True)\n",
       ")"
      ]
     },
     "execution_count": 62,
     "metadata": {},
     "output_type": "execute_result"
    }
   ],
   "source": [
    "# load trained model  \n",
    "lstm_final = LSTMModel(input_size=X_train.shape[2], hp=best_hp)\n",
    "lstm_final.load_state_dict(torch.load(\"saved_models/lstm_model_final.pth\"))\n",
    "lstm_final.eval()"
   ]
  },
  {
   "cell_type": "code",
   "execution_count": 63,
   "metadata": {},
   "outputs": [
    {
     "name": "stdout",
     "output_type": "stream",
     "text": [
      "Original Train MSE: 6.3652, Original Train RMSE: 2.5229\n",
      "Original Validation MSE: 5.8366, Original Validation RMSE: 2.4159\n",
      "Original Test MSE: 5.1204, Original Test RMSE: 2.2628\n",
      "Scaled Test MSE: 0.0004, Scaled Test RMSE: 0.0211\n"
     ]
    },
    {
     "ename": "ValueError",
     "evalue": "x and y must have same first dimension, but have shapes (3552,) and (3984, 1)",
     "output_type": "error",
     "traceback": [
      "\u001b[0;31m---------------------------------------------------------------------------\u001b[0m",
      "\u001b[0;31mValueError\u001b[0m                                Traceback (most recent call last)",
      "Cell \u001b[0;32mIn[63], line 70\u001b[0m\n\u001b[1;32m     68\u001b[0m test_start \u001b[38;5;241m=\u001b[39m val_end \u001b[38;5;241m+\u001b[39m seq_length\n\u001b[1;32m     69\u001b[0m test_end \u001b[38;5;241m=\u001b[39m test_start \u001b[38;5;241m+\u001b[39m \u001b[38;5;28mlen\u001b[39m(test_predictions_actual)\n\u001b[0;32m---> 70\u001b[0m \u001b[43mplt\u001b[49m\u001b[38;5;241;43m.\u001b[39;49m\u001b[43mplot\u001b[49m\u001b[43m(\u001b[49m\u001b[43mdf_final_viz\u001b[49m\u001b[38;5;241;43m.\u001b[39;49m\u001b[43mindex\u001b[49m\u001b[43m[\u001b[49m\u001b[43mtest_start\u001b[49m\u001b[43m:\u001b[49m\u001b[43mtest_end\u001b[49m\u001b[43m]\u001b[49m\u001b[43m,\u001b[49m\u001b[43m \u001b[49m\u001b[43mtest_predictions_actual\u001b[49m\u001b[43m,\u001b[49m\u001b[43m \u001b[49m\u001b[43mlabel\u001b[49m\u001b[38;5;241;43m=\u001b[39;49m\u001b[38;5;124;43m'\u001b[39;49m\u001b[38;5;124;43mTest Predictions\u001b[39;49m\u001b[38;5;124;43m'\u001b[39;49m\u001b[43m,\u001b[49m\u001b[43m \u001b[49m\u001b[43mcolor\u001b[49m\u001b[38;5;241;43m=\u001b[39;49m\u001b[38;5;124;43m'\u001b[39;49m\u001b[38;5;124;43morange\u001b[39;49m\u001b[38;5;124;43m'\u001b[39;49m\u001b[43m,\u001b[49m\u001b[43m \u001b[49m\u001b[43malpha\u001b[49m\u001b[38;5;241;43m=\u001b[39;49m\u001b[38;5;241;43m0.8\u001b[39;49m\u001b[43m)\u001b[49m\n\u001b[1;32m     72\u001b[0m plt\u001b[38;5;241m.\u001b[39mtitle(\u001b[38;5;124m'\u001b[39m\u001b[38;5;124mElectricity Price Time Series Forecasting (LSTM)\u001b[39m\u001b[38;5;124m'\u001b[39m)\n\u001b[1;32m     73\u001b[0m plt\u001b[38;5;241m.\u001b[39mxlabel(\u001b[38;5;124m'\u001b[39m\u001b[38;5;124mDate\u001b[39m\u001b[38;5;124m'\u001b[39m)\n",
      "File \u001b[0;32m/opt/anaconda3/envs/ep_forecasting_env/lib/python3.9/site-packages/matplotlib/pyplot.py:3794\u001b[0m, in \u001b[0;36mplot\u001b[0;34m(scalex, scaley, data, *args, **kwargs)\u001b[0m\n\u001b[1;32m   3786\u001b[0m \u001b[38;5;129m@_copy_docstring_and_deprecators\u001b[39m(Axes\u001b[38;5;241m.\u001b[39mplot)\n\u001b[1;32m   3787\u001b[0m \u001b[38;5;28;01mdef\u001b[39;00m \u001b[38;5;21mplot\u001b[39m(\n\u001b[1;32m   3788\u001b[0m     \u001b[38;5;241m*\u001b[39margs: \u001b[38;5;28mfloat\u001b[39m \u001b[38;5;241m|\u001b[39m ArrayLike \u001b[38;5;241m|\u001b[39m \u001b[38;5;28mstr\u001b[39m,\n\u001b[0;32m   (...)\u001b[0m\n\u001b[1;32m   3792\u001b[0m     \u001b[38;5;241m*\u001b[39m\u001b[38;5;241m*\u001b[39mkwargs,\n\u001b[1;32m   3793\u001b[0m ) \u001b[38;5;241m-\u001b[39m\u001b[38;5;241m>\u001b[39m \u001b[38;5;28mlist\u001b[39m[Line2D]:\n\u001b[0;32m-> 3794\u001b[0m     \u001b[38;5;28;01mreturn\u001b[39;00m \u001b[43mgca\u001b[49m\u001b[43m(\u001b[49m\u001b[43m)\u001b[49m\u001b[38;5;241;43m.\u001b[39;49m\u001b[43mplot\u001b[49m\u001b[43m(\u001b[49m\n\u001b[1;32m   3795\u001b[0m \u001b[43m        \u001b[49m\u001b[38;5;241;43m*\u001b[39;49m\u001b[43margs\u001b[49m\u001b[43m,\u001b[49m\n\u001b[1;32m   3796\u001b[0m \u001b[43m        \u001b[49m\u001b[43mscalex\u001b[49m\u001b[38;5;241;43m=\u001b[39;49m\u001b[43mscalex\u001b[49m\u001b[43m,\u001b[49m\n\u001b[1;32m   3797\u001b[0m \u001b[43m        \u001b[49m\u001b[43mscaley\u001b[49m\u001b[38;5;241;43m=\u001b[39;49m\u001b[43mscaley\u001b[49m\u001b[43m,\u001b[49m\n\u001b[1;32m   3798\u001b[0m \u001b[43m        \u001b[49m\u001b[38;5;241;43m*\u001b[39;49m\u001b[38;5;241;43m*\u001b[39;49m\u001b[43m(\u001b[49m\u001b[43m{\u001b[49m\u001b[38;5;124;43m\"\u001b[39;49m\u001b[38;5;124;43mdata\u001b[39;49m\u001b[38;5;124;43m\"\u001b[39;49m\u001b[43m:\u001b[49m\u001b[43m \u001b[49m\u001b[43mdata\u001b[49m\u001b[43m}\u001b[49m\u001b[43m \u001b[49m\u001b[38;5;28;43;01mif\u001b[39;49;00m\u001b[43m \u001b[49m\u001b[43mdata\u001b[49m\u001b[43m \u001b[49m\u001b[38;5;129;43;01mis\u001b[39;49;00m\u001b[43m \u001b[49m\u001b[38;5;129;43;01mnot\u001b[39;49;00m\u001b[43m \u001b[49m\u001b[38;5;28;43;01mNone\u001b[39;49;00m\u001b[43m \u001b[49m\u001b[38;5;28;43;01melse\u001b[39;49;00m\u001b[43m \u001b[49m\u001b[43m{\u001b[49m\u001b[43m}\u001b[49m\u001b[43m)\u001b[49m\u001b[43m,\u001b[49m\n\u001b[1;32m   3799\u001b[0m \u001b[43m        \u001b[49m\u001b[38;5;241;43m*\u001b[39;49m\u001b[38;5;241;43m*\u001b[39;49m\u001b[43mkwargs\u001b[49m\u001b[43m,\u001b[49m\n\u001b[1;32m   3800\u001b[0m \u001b[43m    \u001b[49m\u001b[43m)\u001b[49m\n",
      "File \u001b[0;32m/opt/anaconda3/envs/ep_forecasting_env/lib/python3.9/site-packages/matplotlib/axes/_axes.py:1779\u001b[0m, in \u001b[0;36mAxes.plot\u001b[0;34m(self, scalex, scaley, data, *args, **kwargs)\u001b[0m\n\u001b[1;32m   1536\u001b[0m \u001b[38;5;250m\u001b[39m\u001b[38;5;124;03m\"\"\"\u001b[39;00m\n\u001b[1;32m   1537\u001b[0m \u001b[38;5;124;03mPlot y versus x as lines and/or markers.\u001b[39;00m\n\u001b[1;32m   1538\u001b[0m \n\u001b[0;32m   (...)\u001b[0m\n\u001b[1;32m   1776\u001b[0m \u001b[38;5;124;03m(``'green'``) or hex strings (``'#008000'``).\u001b[39;00m\n\u001b[1;32m   1777\u001b[0m \u001b[38;5;124;03m\"\"\"\u001b[39;00m\n\u001b[1;32m   1778\u001b[0m kwargs \u001b[38;5;241m=\u001b[39m cbook\u001b[38;5;241m.\u001b[39mnormalize_kwargs(kwargs, mlines\u001b[38;5;241m.\u001b[39mLine2D)\n\u001b[0;32m-> 1779\u001b[0m lines \u001b[38;5;241m=\u001b[39m [\u001b[38;5;241m*\u001b[39m\u001b[38;5;28mself\u001b[39m\u001b[38;5;241m.\u001b[39m_get_lines(\u001b[38;5;28mself\u001b[39m, \u001b[38;5;241m*\u001b[39margs, data\u001b[38;5;241m=\u001b[39mdata, \u001b[38;5;241m*\u001b[39m\u001b[38;5;241m*\u001b[39mkwargs)]\n\u001b[1;32m   1780\u001b[0m \u001b[38;5;28;01mfor\u001b[39;00m line \u001b[38;5;129;01min\u001b[39;00m lines:\n\u001b[1;32m   1781\u001b[0m     \u001b[38;5;28mself\u001b[39m\u001b[38;5;241m.\u001b[39madd_line(line)\n",
      "File \u001b[0;32m/opt/anaconda3/envs/ep_forecasting_env/lib/python3.9/site-packages/matplotlib/axes/_base.py:296\u001b[0m, in \u001b[0;36m_process_plot_var_args.__call__\u001b[0;34m(self, axes, data, *args, **kwargs)\u001b[0m\n\u001b[1;32m    294\u001b[0m     this \u001b[38;5;241m+\u001b[39m\u001b[38;5;241m=\u001b[39m args[\u001b[38;5;241m0\u001b[39m],\n\u001b[1;32m    295\u001b[0m     args \u001b[38;5;241m=\u001b[39m args[\u001b[38;5;241m1\u001b[39m:]\n\u001b[0;32m--> 296\u001b[0m \u001b[38;5;28;01myield from\u001b[39;00m \u001b[38;5;28;43mself\u001b[39;49m\u001b[38;5;241;43m.\u001b[39;49m\u001b[43m_plot_args\u001b[49m\u001b[43m(\u001b[49m\n\u001b[1;32m    297\u001b[0m \u001b[43m    \u001b[49m\u001b[43maxes\u001b[49m\u001b[43m,\u001b[49m\u001b[43m \u001b[49m\u001b[43mthis\u001b[49m\u001b[43m,\u001b[49m\u001b[43m \u001b[49m\u001b[43mkwargs\u001b[49m\u001b[43m,\u001b[49m\u001b[43m \u001b[49m\u001b[43mambiguous_fmt_datakey\u001b[49m\u001b[38;5;241;43m=\u001b[39;49m\u001b[43mambiguous_fmt_datakey\u001b[49m\u001b[43m)\u001b[49m\n",
      "File \u001b[0;32m/opt/anaconda3/envs/ep_forecasting_env/lib/python3.9/site-packages/matplotlib/axes/_base.py:486\u001b[0m, in \u001b[0;36m_process_plot_var_args._plot_args\u001b[0;34m(self, axes, tup, kwargs, return_kwargs, ambiguous_fmt_datakey)\u001b[0m\n\u001b[1;32m    483\u001b[0m     axes\u001b[38;5;241m.\u001b[39myaxis\u001b[38;5;241m.\u001b[39mupdate_units(y)\n\u001b[1;32m    485\u001b[0m \u001b[38;5;28;01mif\u001b[39;00m x\u001b[38;5;241m.\u001b[39mshape[\u001b[38;5;241m0\u001b[39m] \u001b[38;5;241m!=\u001b[39m y\u001b[38;5;241m.\u001b[39mshape[\u001b[38;5;241m0\u001b[39m]:\n\u001b[0;32m--> 486\u001b[0m     \u001b[38;5;28;01mraise\u001b[39;00m \u001b[38;5;167;01mValueError\u001b[39;00m(\u001b[38;5;124mf\u001b[39m\u001b[38;5;124m\"\u001b[39m\u001b[38;5;124mx and y must have same first dimension, but \u001b[39m\u001b[38;5;124m\"\u001b[39m\n\u001b[1;32m    487\u001b[0m                      \u001b[38;5;124mf\u001b[39m\u001b[38;5;124m\"\u001b[39m\u001b[38;5;124mhave shapes \u001b[39m\u001b[38;5;132;01m{\u001b[39;00mx\u001b[38;5;241m.\u001b[39mshape\u001b[38;5;132;01m}\u001b[39;00m\u001b[38;5;124m and \u001b[39m\u001b[38;5;132;01m{\u001b[39;00my\u001b[38;5;241m.\u001b[39mshape\u001b[38;5;132;01m}\u001b[39;00m\u001b[38;5;124m\"\u001b[39m)\n\u001b[1;32m    488\u001b[0m \u001b[38;5;28;01mif\u001b[39;00m x\u001b[38;5;241m.\u001b[39mndim \u001b[38;5;241m>\u001b[39m \u001b[38;5;241m2\u001b[39m \u001b[38;5;129;01mor\u001b[39;00m y\u001b[38;5;241m.\u001b[39mndim \u001b[38;5;241m>\u001b[39m \u001b[38;5;241m2\u001b[39m:\n\u001b[1;32m    489\u001b[0m     \u001b[38;5;28;01mraise\u001b[39;00m \u001b[38;5;167;01mValueError\u001b[39;00m(\u001b[38;5;124mf\u001b[39m\u001b[38;5;124m\"\u001b[39m\u001b[38;5;124mx and y can be no greater than 2D, but have \u001b[39m\u001b[38;5;124m\"\u001b[39m\n\u001b[1;32m    490\u001b[0m                      \u001b[38;5;124mf\u001b[39m\u001b[38;5;124m\"\u001b[39m\u001b[38;5;124mshapes \u001b[39m\u001b[38;5;132;01m{\u001b[39;00mx\u001b[38;5;241m.\u001b[39mshape\u001b[38;5;132;01m}\u001b[39;00m\u001b[38;5;124m and \u001b[39m\u001b[38;5;132;01m{\u001b[39;00my\u001b[38;5;241m.\u001b[39mshape\u001b[38;5;132;01m}\u001b[39;00m\u001b[38;5;124m\"\u001b[39m)\n",
      "\u001b[0;31mValueError\u001b[0m: x and y must have same first dimension, but have shapes (3552,) and (3984, 1)"
     ]
    },
    {
     "data": {
      "image/png": "[encoded data removed]",
      "text/plain": [
       "<Figure size 1000x600 with 1 Axes>"
      ]
     },
     "metadata": {},
     "output_type": "display_data"
    }
   ],
   "source": [
    "#Evaluation\n",
    "set_seed()\n",
    "train_loader, test_loader, val_loader = get_dataloaders(SEED)\n",
    "\n",
    "# Make predictions\n",
    "def get_predictions_in_batches(model, X_tensor, batch_size=128):\n",
    "    model = model.to(device)\n",
    "    model.eval()\n",
    "    preds = []\n",
    "\n",
    "    with torch.no_grad():\n",
    "        for i in range(0, len(X_tensor), batch_size):\n",
    "            batch = X_tensor[i:i+batch_size].to(device)\n",
    "            output = model(batch)\n",
    "            preds.append(output.cpu().numpy())  # zurück auf CPU, damit numpy funktioniert\n",
    "    return np.vstack(preds)\n",
    "\n",
    "train_predictions = get_predictions_in_batches(lstm_final, X_train_tensor)\n",
    "validation_predictions = get_predictions_in_batches(lstm_final, X_val_tensor)\n",
    "test_predictions = get_predictions_in_batches(lstm_final, X_test_tensor)\n",
    "\n",
    "# Inverse transform scaled predictions and scaled target\n",
    "train_predictions_actual = scaler_y.inverse_transform(train_predictions)\n",
    "validation_predictions_actual = scaler_y.inverse_transform(validation_predictions)\n",
    "test_predictions_actual = scaler_y.inverse_transform(test_predictions)\n",
    "\n",
    "y_train_actual = scaler_y.inverse_transform(y_train.reshape(-1, 1))\n",
    "y_val_actual = scaler_y.inverse_transform(y_val.reshape(-1, 1))\n",
    "y_test_actual = scaler_y.inverse_transform(y_test.reshape(-1, 1))\n",
    "\n",
    "# Calculate loss on original scale\n",
    "mse_train = mean_squared_error(y_train_actual, train_predictions_actual)\n",
    "rmse_train = np.sqrt(mse_train)\n",
    "\n",
    "mse_val = mean_squared_error(y_val_actual, validation_predictions_actual)\n",
    "rmse_val = np.sqrt(mse_val)\n",
    "\n",
    "mse_test = mean_squared_error(y_test_actual, test_predictions_actual)\n",
    "rmse_test = np.sqrt(mse_test)\n",
    "\n",
    "print(f\"Original Train MSE: {mse_train:.4f}, Original Train RMSE: {rmse_train:.4f}\")\n",
    "print(f\"Original Validation MSE: {mse_val:.4f}, Original Validation RMSE: {rmse_val:.4f}\")\n",
    "print(f\"Original Test MSE: {mse_test:.4f}, Original Test RMSE: {rmse_test:.4f}\")\n",
    "\n",
    "# Calculate loss on scaled test data\n",
    "mse_test_scaled = mean_squared_error(y_test, test_predictions)\n",
    "rmse_test_scaled = np.sqrt(mse_test_scaled)\n",
    "print(f\"Scaled Test MSE: {mse_test_scaled:.4f}, Scaled Test RMSE: {rmse_test_scaled:.4f}\")\n",
    "\n",
    "# Plot of the forecast\n",
    "plt.figure(figsize=(10, 6))\n",
    "\n",
    "# Plot of actual values\n",
    "seq_length = 168 ################################# hier änder wenn sich sequenz ändert!!!!!!!!!!!!!!!!!!!!!!!!\n",
    "plt.plot(df_final_viz.index[seq_length:], df_final_viz['price actual'][seq_length:], label='Actual', color='blue')\n",
    "\n",
    "# Training predictions\n",
    "train_start = seq_length\n",
    "train_end = train_start + len(train_predictions_actual)\n",
    "plt.plot(df_final_viz.index[train_start:train_end], train_predictions_actual, label='Train Predictions', color='green', alpha=0.8)\n",
    "\n",
    "# Validation predictions \n",
    "val_start = train_end + seq_length\n",
    "val_end = val_start + len(validation_predictions_actual)\n",
    "plt.plot(df_final_viz.index[val_start:val_end], validation_predictions_actual, label='Validation Predictions', color='red', alpha=0.8)\n",
    "\n",
    "# Test predictions \n",
    "test_start = val_end + seq_length\n",
    "test_end = test_start + len(test_predictions_actual)\n",
    "plt.plot(df_final_viz.index[test_start:test_end], test_predictions_actual, label='Test Predictions', color='orange', alpha=0.8)\n",
    "\n",
    "plt.title('Electricity Price Time Series Forecasting (LSTM)')\n",
    "plt.xlabel('Date')\n",
    "plt.ylabel('Price')\n",
    "plt.legend()\n",
    "plt.show()\n"
   ]
  },
  {
   "cell_type": "code",
   "execution_count": null,
   "metadata": {},
   "outputs": [
    {
     "name": "stdout",
     "output_type": "stream",
     "text": [
      "lstm1.weight_ih_l0: torch.Size([1024, 17])\n",
      "lstm1.weight_hh_l0: torch.Size([1024, 256])\n",
      "lstm1.bias_ih_l0: torch.Size([1024])\n",
      "lstm1.bias_hh_l0: torch.Size([1024])\n",
      "fc1.weight: torch.Size([64, 256])\n",
      "fc1.bias: torch.Size([64])\n",
      "fc2.weight: torch.Size([1, 64])\n",
      "fc2.bias: torch.Size([1])\n",
      "Total number of model paramters LSTM: 298,113\n"
     ]
    }
   ],
   "source": [
    "for name, param in lstm_final.named_parameters():\n",
    "    print(f\"{name}: {param.shape}\")\n",
    "    \n",
    "total_params = sum(p.numel() for p in lstm_final.parameters())\n",
    "print(f\"Total number of model paramters LSTM: {total_params:,}\")"
   ]
  },
  {
   "cell_type": "code",
   "execution_count": null,
   "metadata": {},
   "outputs": [
    {
     "name": "stdout",
     "output_type": "stream",
     "text": [
      "Notebook runtime: 5 min 46 sec\n"
     ]
    }
   ],
   "source": [
    "notebook_end = time.time()\n",
    "elapsed_time = notebook_end - notebook_start\n",
    "\n",
    "# Optional: schön formatiert ausgeben\n",
    "mins, secs = divmod(elapsed_time, 60)\n",
    "print(f\"Notebook runtime: {int(mins)} min {int(secs)} sec\")"
   ]
  }
 ],
 "metadata": {
  "kernelspec": {
   "display_name": "ep_forecasting_env",
   "language": "python",
   "name": "python3"
  },
  "language_info": {
   "codemirror_mode": {
    "name": "ipython",
    "version": 3
   },
   "file_extension": ".py",
   "mimetype": "text/x-python",
   "name": "python",
   "nbconvert_exporter": "python",
   "pygments_lexer": "ipython3",
   "version": "3.9.18"
  }
 },
 "nbformat": 4,
 "nbformat_minor": 2
}
